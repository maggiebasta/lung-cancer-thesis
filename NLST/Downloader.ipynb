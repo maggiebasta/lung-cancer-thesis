{
 "cells": [
  {
   "cell_type": "markdown",
   "metadata": {},
   "source": [
    "# Downloads *extracted* NLST dataset from S3"
   ]
  },
  {
   "cell_type": "code",
   "execution_count": 1,
   "metadata": {},
   "outputs": [],
   "source": [
    "import os\n",
    "import sys\n",
    "\n",
    "import boto3"
   ]
  },
  {
   "cell_type": "code",
   "execution_count": 2,
   "metadata": {},
   "outputs": [],
   "source": [
    "def get_s3_keys(prefix, bucket='mbasta-thesis-2019'):\n",
    "    \"\"\"\n",
    "    Gets a list of all keys in S3 bucket with prefix\n",
    "\n",
    "    :param prefix: prefix of keys to return\n",
    "    :bucket: optional, S3 bucket to get keys from\n",
    "    :return: list of s3 object keys\n",
    "    \"\"\"\n",
    "\n",
    "    s3 = boto3.client('s3')\n",
    "    keys = []\n",
    "\n",
    "    kwargs = {'Bucket': bucket, 'Prefix': prefix}\n",
    "    while True:\n",
    "        resp = s3.list_objects_v2(**kwargs)\n",
    "        if not resp.get('Contents'):\n",
    "            return\n",
    "        for obj in resp['Contents']:\n",
    "            keys.append(obj['Key'])\n",
    "\n",
    "        try:\n",
    "            kwargs['ContinuationToken'] = resp['NextContinuationToken']\n",
    "        except KeyError:\n",
    "            break\n",
    "    return keys\n",
    "\n",
    "\n",
    "def download_from_s3(keys, dest_path, bucket='mbasta-thesis-2019'):\n",
    "\n",
    "    \"\"\"\n",
    "    Downloads all keys with prefix from S3\n",
    "\n",
    "    :param prefix: prefix of keys to return\n",
    "    :param dest_folder: where to store downloads, default is 'data/raw/'\n",
    "    :bucket: optional, S3 bucket to get keys from\n",
    "    :return: None\n",
    "    \"\"\"\n",
    "    s3 = boto3.client('s3')\n",
    "    for key in keys:\n",
    "        dest_file = dest_path + key\n",
    "        try:\n",
    "            s3.download_file(bucket, key, dest_file)\n",
    "        except FileNotFoundError:\n",
    "            cur = \"\"\n",
    "            Add = False\n",
    "            for i, d in enumerate(dest_file.split('/')[:-1]):\n",
    "                if i == 0:\n",
    "                    cur = d\n",
    "                else:\n",
    "                    cur = cur + \"/\" + d\n",
    "                if Add:\n",
    "                    os.mkdir(cur)\n",
    "                else:\n",
    "                    if not os.path.isdir(cur):\n",
    "                        os.mkdir(cur)\n",
    "                        Add = True\n",
    "            s3.download_file(bucket, key, dest_file)"
   ]
  },
  {
   "cell_type": "code",
   "execution_count": 3,
   "metadata": {},
   "outputs": [],
   "source": [
    "extract_keys = get_s3_keys('nlst_extracted/')\n",
    "download_from_s3(extract_keys, 'data/')"
   ]
  },
  {
   "cell_type": "code",
   "execution_count": 4,
   "metadata": {},
   "outputs": [],
   "source": [
    "extract_keys = get_s3_keys('nlst_extracted_3d/')\n",
    "download_from_s3(extract_keys, 'data/')"
   ]
  },
  {
   "cell_type": "code",
   "execution_count": 6,
   "metadata": {},
   "outputs": [],
   "source": [
    "extract_keys = get_s3_keys('nlst_table.csv')\n",
    "download_from_s3(extract_keys, 'data/')"
   ]
  },
  {
   "cell_type": "code",
   "execution_count": 5,
   "metadata": {},
   "outputs": [],
   "source": [
    "extract_keys = get_s3_keys('nlst_special_masks/')\n",
    "download_from_s3(extract_keys, 'data/')"
   ]
  },
  {
   "cell_type": "code",
   "execution_count": null,
   "metadata": {},
   "outputs": [],
   "source": []
  }
 ],
 "metadata": {
  "kernelspec": {
   "display_name": "Python 3",
   "language": "python",
   "name": "python3"
  },
  "language_info": {
   "codemirror_mode": {
    "name": "ipython",
    "version": 3
   },
   "file_extension": ".py",
   "mimetype": "text/x-python",
   "name": "python",
   "nbconvert_exporter": "python",
   "pygments_lexer": "ipython3",
   "version": "3.6.5"
  }
 },
 "nbformat": 4,
 "nbformat_minor": 2
}
