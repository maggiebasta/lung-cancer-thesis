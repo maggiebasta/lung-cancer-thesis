{
 "cells": [
  {
   "cell_type": "code",
   "execution_count": 1,
   "metadata": {},
   "outputs": [
    {
     "data": {
      "text/html": [
       "        <script type=\"text/javascript\">\n",
       "        window.PlotlyConfig = {MathJaxConfig: 'local'};\n",
       "        if (window.MathJax) {MathJax.Hub.Config({SVG: {font: \"STIX-Web\"}});}\n",
       "        if (typeof require !== 'undefined') {\n",
       "        require.undef(\"plotly\");\n",
       "        requirejs.config({\n",
       "            paths: {\n",
       "                'plotly': ['https://cdn.plot.ly/plotly-latest.min']\n",
       "            }\n",
       "        });\n",
       "        require(['plotly'], function(Plotly) {\n",
       "            window._Plotly = Plotly;\n",
       "        });\n",
       "        }\n",
       "        </script>\n",
       "        "
      ]
     },
     "metadata": {},
     "output_type": "display_data"
    },
    {
     "name": "stdout",
     "output_type": "stream",
     "text": [
      "1.14.0\n"
     ]
    }
   ],
   "source": [
    "import os\n",
    "import sys \n",
    "\n",
    "import matplotlib.pyplot as plt\n",
    "import pandas as pd\n",
    "import pickle as pkl\n",
    "import tensorflow as tf\n",
    "from skimage import io\n",
    "from sklearn.metrics import roc_curve, auc, roc_auc_score, accuracy_score\n",
    "from tensorflow.keras.preprocessing.image import (\n",
    "    ImageDataGenerator,\n",
    "    img_to_array,\n",
    "    load_img\n",
    ")\n",
    "\n",
    "from data_generator_3d import *\n",
    "from model import *\n",
    "from plotting_helpers import plot_auc\n",
    "\n",
    "print(tf.__version__)"
   ]
  },
  {
   "cell_type": "code",
   "execution_count": 2,
   "metadata": {},
   "outputs": [],
   "source": [
    "image_generator = ImageDataGenerator(\n",
    "#     rotation_range=5,\n",
    "    rescale=1./255,\n",
    "#     shear_range=.1, \n",
    "#     zoom_range=.05,\n",
    "#     brightness_range=[.85, 1.0],\n",
    "#     zca_whitening=True,\n",
    "    horizontal_flip=True,\n",
    "    vertical_flip=True,\n",
    "    height_shift_range=5,\n",
    "    width_shift_range=5,\n",
    "    fill_mode='nearest',\n",
    "    validation_split=0.0\n",
    ")\n",
    "\n",
    "label_generator = ImageDataGenerator(\n",
    "    validation_split=0.0\n",
    ")\n",
    "\n",
    "train_generator = generator(\n",
    "    base_directory='data/nlst_train/image_roi_3d',\n",
    "    input_gen=image_generator,\n",
    "    target_gen=label_generator,\n",
    "    batch_sz=1\n",
    ")\n",
    "\n",
    "val_generator = generator(\n",
    "    base_directory='data/nlst_val/image_roi_3d',\n",
    "    input_gen=image_generator,\n",
    "    target_gen=label_generator,\n",
    "    batch_sz=1\n",
    ")"
   ]
  },
  {
   "cell_type": "code",
   "execution_count": 3,
   "metadata": {},
   "outputs": [
    {
     "data": {
      "image/png": "[encoded data removed]",
      "text/plain": [
       "<Figure size 1152x576 with 4 Axes>"
      ]
     },
     "metadata": {},
     "output_type": "display_data"
    }
   ],
   "source": [
    "show_augmentation('data/nlst_train/image_roi_3d/25/0.tif', image_generator, n_rows=1)"
   ]
  },
  {
   "cell_type": "code",
   "execution_count": 4,
   "metadata": {
    "scrolled": true
   },
   "outputs": [
    {
     "name": "stdout",
     "output_type": "stream",
     "text": [
      "WARNING:tensorflow:From /home/ubuntu/anaconda3/envs/tensorflow_p36/lib/python3.6/site-packages/tensorflow/python/ops/init_ops.py:1251: calling VarianceScaling.__init__ (from tensorflow.python.ops.init_ops) with dtype is deprecated and will be removed in a future version.\n",
      "Instructions for updating:\n",
      "Call initializer instance with the dtype argument instead of passing it to the constructor\n"
     ]
    }
   ],
   "source": [
    "model = CNN_3D(input_shape=(50, 50, 50, 1))\n",
    "\n",
    "model.compile(\n",
    "    optimizer = tf.keras.optimizers.Adam(lr = 5e-5),\n",
    "    loss=weighted_cross_entropy,\n",
    ")"
   ]
  },
  {
   "cell_type": "code",
   "execution_count": 5,
   "metadata": {
    "scrolled": false
   },
   "outputs": [
    {
     "name": "stdout",
     "output_type": "stream",
     "text": [
      "Model: \"model\"\n",
      "_________________________________________________________________\n",
      "Layer (type)                 Output Shape              Param #   \n",
      "=================================================================\n",
      "input_1 (InputLayer)         [(None, 50, 50, 50, 1)]   0         \n",
      "_________________________________________________________________\n",
      "conv3d (Conv3D)              (None, 48, 48, 48, 32)    896       \n",
      "_________________________________________________________________\n",
      "leaky_re_lu (LeakyReLU)      (None, 48, 48, 48, 32)    0         \n",
      "_________________________________________________________________\n",
      "conv3d_1 (Conv3D)            (None, 46, 46, 46, 64)    55360     \n",
      "_________________________________________________________________\n",
      "leaky_re_lu_1 (LeakyReLU)    (None, 46, 46, 46, 64)    0         \n",
      "_________________________________________________________________\n",
      "max_pooling3d (MaxPooling3D) (None, 15, 15, 15, 64)    0         \n",
      "_________________________________________________________________\n",
      "conv3d_2 (Conv3D)            (None, 13, 13, 13, 128)   221312    \n",
      "_________________________________________________________________\n",
      "leaky_re_lu_2 (LeakyReLU)    (None, 13, 13, 13, 128)   0         \n",
      "_________________________________________________________________\n",
      "conv3d_3 (Conv3D)            (None, 11, 11, 11, 256)   884992    \n",
      "_________________________________________________________________\n",
      "leaky_re_lu_3 (LeakyReLU)    (None, 11, 11, 11, 256)   0         \n",
      "_________________________________________________________________\n",
      "max_pooling3d_1 (MaxPooling3 (None, 3, 3, 3, 256)      0         \n",
      "_________________________________________________________________\n",
      "flatten (Flatten)            (None, 6912)              0         \n",
      "_________________________________________________________________\n",
      "dense (Dense)                (None, 1024)              7078912   \n",
      "_________________________________________________________________\n",
      "leaky_re_lu_4 (LeakyReLU)    (None, 1024)              0         \n",
      "_________________________________________________________________\n",
      "dropout (Dropout)            (None, 1024)              0         \n",
      "_________________________________________________________________\n",
      "dense_1 (Dense)              (None, 512)               524800    \n",
      "_________________________________________________________________\n",
      "leaky_re_lu_5 (LeakyReLU)    (None, 512)               0         \n",
      "_________________________________________________________________\n",
      "dropout_1 (Dropout)          (None, 512)               0         \n",
      "_________________________________________________________________\n",
      "dense_2 (Dense)              (None, 256)               131328    \n",
      "_________________________________________________________________\n",
      "leaky_re_lu_6 (LeakyReLU)    (None, 256)               0         \n",
      "_________________________________________________________________\n",
      "dropout_2 (Dropout)          (None, 256)               0         \n",
      "_________________________________________________________________\n",
      "dense_3 (Dense)              (None, 1)                 257       \n",
      "_________________________________________________________________\n",
      "activation (Activation)      (None, 1)                 0         \n",
      "=================================================================\n",
      "Total params: 8,897,857\n",
      "Trainable params: 8,897,857\n",
      "Non-trainable params: 0\n",
      "_________________________________________________________________\n"
     ]
    }
   ],
   "source": [
    "model.summary()"
   ]
  },
  {
   "cell_type": "code",
   "execution_count": 6,
   "metadata": {
    "scrolled": true
   },
   "outputs": [
    {
     "name": "stdout",
     "output_type": "stream",
     "text": [
      "Epoch 1/12\n",
      "Found 623 images belonging to 1 classes.\n",
      "Found 623 images belonging to 1 classes.\n",
      "Found 623 images belonging to 1 classes.\n",
      "Found 623 images belonging to 1 classes.\n",
      "Found 623 images belonging to 1 classes.\n",
      "Found 623 images belonging to 1 classes.\n",
      "Found 623 images belonging to 1 classes.\n",
      "Found 623 images belonging to 1 classes.\n",
      "Found 623 images belonging to 1 classes.\n",
      "Found 623 images belonging to 1 classes.\n",
      "Found 623 images belonging to 1 classes.\n",
      "Found 623 images belonging to 1 classes.\n",
      "Found 623 images belonging to 1 classes.\n",
      "Found 623 images belonging to 1 classes.\n",
      "Found 623 images belonging to 1 classes.\n",
      "Found 623 images belonging to 1 classes.\n",
      "Found 623 images belonging to 1 classes.\n",
      "Found 623 images belonging to 1 classes.\n",
      "Found 623 images belonging to 1 classes.\n",
      "Found 623 images belonging to 1 classes.\n",
      "Found 623 images belonging to 1 classes.\n",
      "Found 623 images belonging to 1 classes.\n",
      "Found 623 images belonging to 1 classes.\n",
      "Found 623 images belonging to 1 classes.\n",
      "Found 623 images belonging to 1 classes.\n",
      "Found 623 images belonging to 1 classes.\n",
      "Found 623 images belonging to 1 classes.\n",
      "Found 623 images belonging to 1 classes.\n",
      "Found 623 images belonging to 1 classes.\n",
      "Found 623 images belonging to 1 classes.\n",
      "Found 623 images belonging to 1 classes.\n",
      "Found 623 images belonging to 1 classes.\n",
      "Found 623 images belonging to 1 classes.\n",
      "Found 623 images belonging to 1 classes.\n",
      "Found 623 images belonging to 1 classes.\n",
      "Found 623 images belonging to 1 classes.\n",
      "Found 623 images belonging to 1 classes.\n",
      "Found 623 images belonging to 1 classes.\n",
      "Found 623 images belonging to 1 classes.\n",
      "Found 623 images belonging to 1 classes.\n",
      "Found 623 images belonging to 1 classes.\n",
      "Found 623 images belonging to 1 classes.\n",
      "Found 623 images belonging to 1 classes.\n",
      "Found 623 images belonging to 1 classes.\n",
      "Found 623 images belonging to 1 classes.\n",
      "Found 623 images belonging to 1 classes.\n",
      "Found 623 images belonging to 1 classes.\n",
      "Found 623 images belonging to 1 classes.\n",
      "Found 623 images belonging to 1 classes.\n",
      "Found 623 images belonging to 1 classes.\n",
      "Found 623 images belonging to 1 classes.\n",
      "WARNING:tensorflow:From /home/ubuntu/anaconda3/envs/tensorflow_p36/lib/python3.6/site-packages/tensorflow/python/ops/math_grad.py:1250: add_dispatch_support.<locals>.wrapper (from tensorflow.python.ops.array_ops) is deprecated and will be removed in a future version.\n",
      "Instructions for updating:\n",
      "Use tf.where in 2.0, which has the same broadcast rule as np.where\n",
      " 999/1000 [============================>.] - ETA: 0s - loss: 1.3648Found 70 images belonging to 1 classes.\n",
      "Found 70 images belonging to 1 classes.\n",
      "Found 70 images belonging to 1 classes.\n",
      "Found 70 images belonging to 1 classes.\n",
      "Found 70 images belonging to 1 classes.\n",
      "Found 70 images belonging to 1 classes.\n",
      "Found 70 images belonging to 1 classes.\n",
      "Found 70 images belonging to 1 classes.\n",
      "Found 70 images belonging to 1 classes.\n",
      "Found 70 images belonging to 1 classes.\n",
      "Found 70 images belonging to 1 classes.\n",
      "Found 70 images belonging to 1 classes.\n",
      "Found 70 images belonging to 1 classes.\n",
      "Found 70 images belonging to 1 classes.\n",
      "Found 70 images belonging to 1 classes.\n",
      "Found 70 images belonging to 1 classes.\n",
      "Found 70 images belonging to 1 classes.\n",
      "Found 70 images belonging to 1 classes.\n",
      "Found 70 images belonging to 1 classes.\n",
      "Found 70 images belonging to 1 classes.\n",
      "Found 70 images belonging to 1 classes.\n",
      "Found 70 images belonging to 1 classes.\n",
      "Found 70 images belonging to 1 classes.\n",
      "Found 70 images belonging to 1 classes.\n",
      "Found 70 images belonging to 1 classes.\n",
      "Found 70 images belonging to 1 classes.\n",
      "Found 70 images belonging to 1 classes.\n",
      "Found 70 images belonging to 1 classes.\n",
      "Found 70 images belonging to 1 classes.\n",
      "Found 70 images belonging to 1 classes.\n",
      "Found 70 images belonging to 1 classes.\n",
      "Found 70 images belonging to 1 classes.\n",
      "Found 70 images belonging to 1 classes.\n",
      "Found 70 images belonging to 1 classes.\n",
      "Found 70 images belonging to 1 classes.\n",
      "Found 70 images belonging to 1 classes.\n",
      "Found 70 images belonging to 1 classes.\n",
      "Found 70 images belonging to 1 classes.\n",
      "Found 70 images belonging to 1 classes.\n",
      "Found 70 images belonging to 1 classes.\n",
      "Found 70 images belonging to 1 classes.\n",
      "Found 70 images belonging to 1 classes.\n",
      "Found 70 images belonging to 1 classes.\n",
      "Found 70 images belonging to 1 classes.\n",
      "Found 70 images belonging to 1 classes.\n",
      "Found 70 images belonging to 1 classes.\n",
      "Found 70 images belonging to 1 classes.\n",
      "Found 70 images belonging to 1 classes.\n",
      "Found 70 images belonging to 1 classes.\n",
      "Found 70 images belonging to 1 classes.\n",
      "Found 70 images belonging to 1 classes.\n",
      "1000/1000 [==============================] - 73s 73ms/step - loss: 1.3641 - val_loss: 0.9851\n",
      "Epoch 2/12\n",
      "1000/1000 [==============================] - 57s 57ms/step - loss: 1.3636 - val_loss: 1.0014\n",
      "Epoch 3/12\n",
      "1000/1000 [==============================] - 57s 57ms/step - loss: 1.3491 - val_loss: 0.9846\n",
      "Epoch 4/12\n",
      "1000/1000 [==============================] - 57s 57ms/step - loss: 1.3493 - val_loss: 0.9568\n",
      "Epoch 5/12\n",
      "1000/1000 [==============================] - 57s 57ms/step - loss: 1.3630 - val_loss: 1.0224\n",
      "Epoch 6/12\n",
      "1000/1000 [==============================] - 57s 57ms/step - loss: 1.3684 - val_loss: 0.9470\n",
      "Epoch 7/12\n",
      "1000/1000 [==============================] - 57s 57ms/step - loss: 1.3381 - val_loss: 0.9695\n",
      "Epoch 8/12\n",
      "1000/1000 [==============================] - 57s 57ms/step - loss: 1.3647 - val_loss: 0.9929\n",
      "Epoch 9/12\n",
      "1000/1000 [==============================] - 56s 56ms/step - loss: 1.3698 - val_loss: 1.0051\n",
      "Epoch 10/12\n",
      "1000/1000 [==============================] - 58s 58ms/step - loss: 1.3438 - val_loss: 0.9805\n",
      "Epoch 11/12\n",
      "1000/1000 [==============================] - 57s 57ms/step - loss: 1.3618 - val_loss: 0.9422\n",
      "Epoch 12/12\n",
      "1000/1000 [==============================] - 57s 57ms/step - loss: 1.3631 - val_loss: 0.9745\n"
     ]
    }
   ],
   "source": [
    "model_history = model.fit_generator(\n",
    "    train_generator,\n",
    "    validation_data= val_generator,\n",
    "    validation_steps=200,\n",
    "    steps_per_epoch=1000,\n",
    "    epochs = 12\n",
    ")"
   ]
  },
  {
   "cell_type": "code",
   "execution_count": 7,
   "metadata": {},
   "outputs": [],
   "source": [
    "model.save('nlst_cnn.hdf5') "
   ]
  },
  {
   "cell_type": "code",
   "execution_count": 8,
   "metadata": {},
   "outputs": [],
   "source": [
    "# model.load_weights('nlst_cnn_curbest.hdf5')\n",
    "model.load_weights('nlst_cnn.hdf5')"
   ]
  },
  {
   "cell_type": "code",
   "execution_count": 9,
   "metadata": {},
   "outputs": [],
   "source": [
    "with open('data/nlst_test/image_roi_3d/patient_lookup.pkl', 'rb') as input_file:\n",
    "    PatientLookup = pkl.load(input_file)\n",
    "\n",
    "Patient_Xs = {}\n",
    "Patient_Ys = {}\n",
    "\n",
    "Xs = []\n",
    "Ys = []\n",
    "for im in os.listdir('data/nlst_test/image_roi_3d/pkls/'):\n",
    "    path = f'data/nlst_test/image_roi_3d/pkls/{im}'\n",
    "    with open(path, 'rb') as input_file:\n",
    "        cube, label = pkl.load(input_file)\n",
    "    cube = cube[:50][:50][:50]\n",
    "    if cube.shape[0] < 50 or cube.shape[1] < 50 or cube.shape[2] < 50:\n",
    "        pass\n",
    "    else:\n",
    "        pid = PatientLookup[int(im[:-4])]\n",
    "        if Patient_Xs.get(pid):\n",
    "            Patient_Xs[pid].append(np.array(cube/255).reshape(50, 50, 50, 1))\n",
    "        else:\n",
    "            Patient_Xs[pid] = [np.array(cube/255).reshape(50, 50, 50, 1)]\n",
    "        Patient_Ys[pid] = label\n",
    "        Xs.append(np.array(cube/255).reshape(50, 50, 50, 1))\n",
    "        Ys.append(label)"
   ]
  },
  {
   "cell_type": "code",
   "execution_count": 10,
   "metadata": {},
   "outputs": [
    {
     "name": "stdout",
     "output_type": "stream",
     "text": [
      "0.735632183908046\n",
      "0.6153846153846154\n"
     ]
    },
    {
     "data": {
      "image/png": "[encoded data removed]",
      "text/plain": [
       "<Figure size 432x288 with 1 Axes>"
      ]
     },
     "metadata": {},
     "output_type": "display_data"
    }
   ],
   "source": [
    "Xs = np.array(Xs)\n",
    "Ys = np.array(Ys)\n",
    "preds = np.concatenate([model.predict(Xs[i*5:(i+1)*5]) for i in range(35)])\n",
    "print(accuracy_score(Ys, np.round(preds)))\n",
    "print(roc_auc_score(Ys, preds))\n",
    "\n",
    "fig, ax = plt.subplots(1, 1)\n",
    "plot_auc(Ys, preds, ax)"
   ]
  },
  {
   "cell_type": "code",
   "execution_count": 16,
   "metadata": {},
   "outputs": [
    {
     "name": "stdout",
     "output_type": "stream",
     "text": [
      "Patient accuracy (using mean score):    0.703125\n",
      "Patient accuracy (using highest value): 0.6875\n",
      "\n",
      "Patient AUC (using mean score):    0.6352657004830917\n",
      "Patient AUC (using highest value): 0.6582125603864734\n"
     ]
    },
    {
     "data": {
      "image/png": "[encoded data removed]",
      "text/plain": [
       "<Figure size 864x288 with 2 Axes>"
      ]
     },
     "metadata": {},
     "output_type": "display_data"
    }
   ],
   "source": [
    "patient_preds_mean = []\n",
    "patient_preds_greatest = []\n",
    "\n",
    "for pid, Xs in Patient_Xs.items():\n",
    "    preds = model.predict(np.array(Xs))\n",
    "    patient_preds_mean.append(preds.mean())\n",
    "    preds = sorted(preds, key=lambda x: abs(x-.5), reverse=True)\n",
    "    patient_preds_greatest.append(np.array(preds[:1]).mean())\n",
    "    \n",
    "print(\"Patient accuracy (using mean score):    \" + str(accuracy_score(list(Patient_Ys.values()), np.round(patient_preds_mean))))\n",
    "print(\"Patient accuracy (using highest value): \" + str(accuracy_score(list(Patient_Ys.values()), np.round(patient_preds_greatest))))\n",
    "\n",
    "print(\"\\nPatient AUC (using mean score):    \" + str(roc_auc_score(list(Patient_Ys.values()), patient_preds_mean)))\n",
    "print(\"Patient AUC (using highest value): \" + str(roc_auc_score(list(Patient_Ys.values()), patient_preds_greatest)))\n",
    "\n",
    "fig, axs = plt.subplots(1, 2, figsize=(12, 4))\n",
    "plot_auc(list(Patient_Ys.values()), patient_preds_mean, axs[0])\n",
    "plot_auc(list(Patient_Ys.values()), patient_preds_greatest, axs[1])\n",
    "\n",
    "axs[0].set_title(\"Patient AUC Using Mean Score\")\n",
    "axs[1].set_title(\"Patient AUC Using Highest Score\")\n",
    "\n",
    "plt.show()"
   ]
  },
  {
   "cell_type": "code",
   "execution_count": null,
   "metadata": {},
   "outputs": [],
   "source": []
  }
 ],
 "metadata": {
  "kernelspec": {
   "display_name": "Python 3",
   "language": "python",
   "name": "python3"
  },
  "language_info": {
   "codemirror_mode": {
    "name": "ipython",
    "version": 3
   },
   "file_extension": ".py",
   "mimetype": "text/x-python",
   "name": "python",
   "nbconvert_exporter": "python",
   "pygments_lexer": "ipython3",
   "version": "3.6.5"
  }
 },
 "nbformat": 4,
 "nbformat_minor": 2
}
