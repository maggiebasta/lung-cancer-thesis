{
 "cells": [
  {
   "cell_type": "code",
   "execution_count": 1,
   "metadata": {},
   "outputs": [
    {
     "data": {
      "text/html": [
       "        <script type=\"text/javascript\">\n",
       "        window.PlotlyConfig = {MathJaxConfig: 'local'};\n",
       "        if (window.MathJax) {MathJax.Hub.Config({SVG: {font: \"STIX-Web\"}});}\n",
       "        if (typeof require !== 'undefined') {\n",
       "        require.undef(\"plotly\");\n",
       "        requirejs.config({\n",
       "            paths: {\n",
       "                'plotly': ['https://cdn.plot.ly/plotly-latest.min']\n",
       "            }\n",
       "        });\n",
       "        require(['plotly'], function(Plotly) {\n",
       "            window._Plotly = Plotly;\n",
       "        });\n",
       "        }\n",
       "        </script>\n",
       "        "
      ]
     },
     "metadata": {},
     "output_type": "display_data"
    },
    {
     "name": "stdout",
     "output_type": "stream",
     "text": [
      "1.14.0\n"
     ]
    }
   ],
   "source": [
    "import os\n",
    "import sys \n",
    "\n",
    "import matplotlib.pyplot as plt\n",
    "import pandas as pd\n",
    "import pickle as pkl\n",
    "import tensorflow as tf\n",
    "from skimage import io\n",
    "from sklearn.metrics import roc_curve, auc, roc_auc_score, accuracy_score, recall_score, precision_score\n",
    "from tensorflow.keras.preprocessing.image import (\n",
    "    ImageDataGenerator,\n",
    "    img_to_array,\n",
    "    load_img\n",
    ")\n",
    "\n",
    "from data_generator_3d import *\n",
    "from model import *\n",
    "from plotting_helpers import plot_auc\n",
    "\n",
    "print(tf.__version__)"
   ]
  },
  {
   "cell_type": "code",
   "execution_count": 2,
   "metadata": {},
   "outputs": [],
   "source": [
    "image_generator = ImageDataGenerator(\n",
    "#     rotation_range=5,\n",
    "    rescale=1./255,\n",
    "#     shear_range=.1, \n",
    "#     zoom_range=.05,\n",
    "    brightness_range=[.85, 1.0],\n",
    "#     zca_whitening=True,\n",
    "    horizontal_flip=True,\n",
    "    vertical_flip=True,\n",
    "    height_shift_range=5,\n",
    "    width_shift_range=5,\n",
    "    fill_mode='nearest',\n",
    "    validation_split=0.0\n",
    ")\n",
    "\n",
    "label_generator = ImageDataGenerator(\n",
    "    validation_split=0.0\n",
    ")\n",
    "\n",
    "train_generator = generator(\n",
    "    base_directory='data/nlst_train/image_roi_3d',\n",
    "    input_gen=image_generator,\n",
    "    target_gen=label_generator,\n",
    "    batch_sz=1\n",
    ")\n",
    "\n",
    "val_generator = generator(\n",
    "    base_directory='data/nlst_val/image_roi_3d',\n",
    "    input_gen=image_generator,\n",
    "    target_gen=label_generator,\n",
    "    batch_sz=1\n",
    ")"
   ]
  },
  {
   "cell_type": "code",
   "execution_count": 3,
   "metadata": {},
   "outputs": [
    {
     "data": {
      "image/png": "[encoded data removed]",
      "text/plain": [
       "<Figure size 1152x576 with 4 Axes>"
      ]
     },
     "metadata": {},
     "output_type": "display_data"
    }
   ],
   "source": [
    "show_augmentation('data/nlst_train/image_roi_3d/25/0.tif', image_generator, n_rows=1)"
   ]
  },
  {
   "cell_type": "code",
   "execution_count": 4,
   "metadata": {
    "scrolled": true
   },
   "outputs": [
    {
     "name": "stdout",
     "output_type": "stream",
     "text": [
      "WARNING:tensorflow:From /home/ubuntu/anaconda3/envs/tensorflow_p36/lib/python3.6/site-packages/tensorflow/python/ops/init_ops.py:1251: calling VarianceScaling.__init__ (from tensorflow.python.ops.init_ops) with dtype is deprecated and will be removed in a future version.\n",
      "Instructions for updating:\n",
      "Call initializer instance with the dtype argument instead of passing it to the constructor\n"
     ]
    }
   ],
   "source": [
    "model = CNN_3D(input_shape=(50, 50, 50, 1))\n",
    "\n",
    "model.compile(\n",
    "    optimizer = tf.keras.optimizers.Adam(lr = 1e-4),\n",
    "    loss=weighted_cross_entropy,\n",
    "    metrics = [\n",
    "        'accuracy',\n",
    "        tf.keras.metrics.Precision(),\n",
    "        tf.keras.metrics.Recall()\n",
    "    ]\n",
    ")"
   ]
  },
  {
   "cell_type": "code",
   "execution_count": 5,
   "metadata": {
    "scrolled": false
   },
   "outputs": [],
   "source": [
    "# model.summary()"
   ]
  },
  {
   "cell_type": "code",
   "execution_count": 6,
   "metadata": {
    "scrolled": true
   },
   "outputs": [
    {
     "name": "stdout",
     "output_type": "stream",
     "text": [
      "Found 620 images belonging to 1 classes.\n",
      "Found 620 images belonging to 1 classes.\n",
      "Found 620 images belonging to 1 classes.\n",
      "Found 620 images belonging to 1 classes.\n",
      "Found 620 images belonging to 1 classes.\n",
      "Found 620 images belonging to 1 classes.\n",
      "Found 620 images belonging to 1 classes.\n",
      "Found 620 images belonging to 1 classes.\n",
      "Found 620 images belonging to 1 classes.\n",
      "Found 620 images belonging to 1 classes.\n",
      "Found 620 images belonging to 1 classes.\n",
      "Found 620 images belonging to 1 classes.\n",
      "Found 620 images belonging to 1 classes.\n",
      "Epoch 1/10\n",
      "Found 620 images belonging to 1 classes.\n",
      "Found 620 images belonging to 1 classes.\n",
      "Found 620 images belonging to 1 classes.\n",
      "Found 620 images belonging to 1 classes.\n",
      "Found 620 images belonging to 1 classes.\n",
      "Found 620 images belonging to 1 classes.\n",
      "Found 620 images belonging to 1 classes.\n",
      "Found 620 images belonging to 1 classes.\n",
      "Found 620 images belonging to 1 classes.\n",
      "Found 620 images belonging to 1 classes.\n",
      "Found 620 images belonging to 1 classes.\n",
      "Found 620 images belonging to 1 classes.\n",
      "Found 620 images belonging to 1 classes.\n",
      "Found 620 images belonging to 1 classes.\n",
      "Found 620 images belonging to 1 classes.\n",
      "Found 620 images belonging to 1 classes.\n",
      "Found 620 images belonging to 1 classes.\n",
      "Found 620 images belonging to 1 classes.\n",
      "Found 620 images belonging to 1 classes.\n",
      "Found 620 images belonging to 1 classes.\n",
      "Found 620 images belonging to 1 classes.\n",
      "Found 620 images belonging to 1 classes.\n",
      "Found 620 images belonging to 1 classes.\n",
      "Found 620 images belonging to 1 classes.\n",
      "Found 620 images belonging to 1 classes.\n",
      "Found 620 images belonging to 1 classes.\n",
      "Found 620 images belonging to 1 classes.\n",
      "Found 620 images belonging to 1 classes.\n",
      "Found 620 images belonging to 1 classes.\n",
      "Found 620 images belonging to 1 classes.\n",
      "Found 620 images belonging to 1 classes.\n",
      "Found 620 images belonging to 1 classes.\n",
      "Found 620 images belonging to 1 classes.\n",
      "Found 620 images belonging to 1 classes.\n",
      "Found 620 images belonging to 1 classes.\n",
      "Found 620 images belonging to 1 classes.\n",
      "Found 620 images belonging to 1 classes.\n",
      "Found 620 images belonging to 1 classes.\n",
      "WARNING:tensorflow:From /home/ubuntu/anaconda3/envs/tensorflow_p36/lib/python3.6/site-packages/tensorflow/python/ops/math_grad.py:1250: add_dispatch_support.<locals>.wrapper (from tensorflow.python.ops.array_ops) is deprecated and will be removed in a future version.\n",
      "Instructions for updating:\n",
      "Use tf.where in 2.0, which has the same broadcast rule as np.where\n",
      " 999/1000 [============================>.] - ETA: 0s - loss: 1.1247 - acc: 0.2893 - precision: 0.2586 - recall: 0.6038Found 70 images belonging to 1 classes.\n",
      "Found 70 images belonging to 1 classes.\n",
      "Found 70 images belonging to 1 classes.\n",
      "Found 70 images belonging to 1 classes.\n",
      "Found 70 images belonging to 1 classes.\n",
      "Found 70 images belonging to 1 classes.\n",
      "Found 70 images belonging to 1 classes.\n",
      "Found 70 images belonging to 1 classes.\n",
      "Found 70 images belonging to 1 classes.\n",
      "Found 70 images belonging to 1 classes.\n",
      "Found 70 images belonging to 1 classes.\n",
      "Found 70 images belonging to 1 classes.\n",
      "Found 70 images belonging to 1 classes.\n",
      "Found 70 images belonging to 1 classes.\n",
      "Found 70 images belonging to 1 classes.\n",
      "Found 70 images belonging to 1 classes.\n",
      "Found 70 images belonging to 1 classes.\n",
      "Found 70 images belonging to 1 classes.\n",
      "Found 70 images belonging to 1 classes.\n",
      "Found 70 images belonging to 1 classes.\n",
      "Found 70 images belonging to 1 classes.\n",
      "Found 70 images belonging to 1 classes.\n",
      "Found 70 images belonging to 1 classes.\n",
      "Found 70 images belonging to 1 classes.\n",
      "Found 70 images belonging to 1 classes.\n",
      "Found 70 images belonging to 1 classes.\n",
      "Found 70 images belonging to 1 classes.\n",
      "Found 70 images belonging to 1 classes.\n",
      "Found 70 images belonging to 1 classes.\n",
      "Found 70 images belonging to 1 classes.\n",
      "Found 70 images belonging to 1 classes.\n",
      "Found 70 images belonging to 1 classes.\n",
      "Found 70 images belonging to 1 classes.\n",
      "Found 70 images belonging to 1 classes.\n",
      "Found 70 images belonging to 1 classes.\n",
      "Found 70 images belonging to 1 classes.\n",
      "Found 70 images belonging to 1 classes.\n",
      "Found 70 images belonging to 1 classes.\n",
      "Found 70 images belonging to 1 classes.\n",
      "Found 70 images belonging to 1 classes.\n",
      "Found 70 images belonging to 1 classes.\n",
      "Found 70 images belonging to 1 classes.\n",
      "Found 70 images belonging to 1 classes.\n",
      "Found 70 images belonging to 1 classes.\n",
      "Found 70 images belonging to 1 classes.\n",
      "Found 70 images belonging to 1 classes.\n",
      "Found 70 images belonging to 1 classes.\n",
      "Found 70 images belonging to 1 classes.\n",
      "Found 70 images belonging to 1 classes.\n",
      "Found 70 images belonging to 1 classes.\n",
      "Found 70 images belonging to 1 classes.\n",
      "1000/1000 [==============================] - 84s 84ms/step - loss: 1.1241 - acc: 0.2900 - precision: 0.2586 - recall: 0.6038 - val_loss: 1.1235 - val_acc: 0.8550 - val_precision: 0.0000e+00 - val_recall: 0.0000e+00\n",
      "Epoch 2/10\n",
      "1000/1000 [==============================] - 72s 72ms/step - loss: 1.0407 - acc: 0.4700 - precision: 0.2555 - recall: 0.3591 - val_loss: 0.8443 - val_acc: 0.5300 - val_precision: 0.0789 - val_recall: 0.2500\n",
      "Epoch 3/10\n",
      "1000/1000 [==============================] - 72s 72ms/step - loss: 1.0264 - acc: 0.6010 - precision: 0.2800 - recall: 0.2196 - val_loss: 0.8367 - val_acc: 0.8550 - val_precision: 0.0000e+00 - val_recall: 0.0000e+00\n",
      "Epoch 4/10\n",
      "1000/1000 [==============================] - 72s 72ms/step - loss: 1.0338 - acc: 0.4460 - precision: 0.2577 - recall: 0.3759 - val_loss: 0.8169 - val_acc: 0.7900 - val_precision: 0.2222 - val_recall: 0.2857\n",
      "Epoch 5/10\n",
      "1000/1000 [==============================] - 72s 72ms/step - loss: 1.0238 - acc: 0.7050 - precision: 0.2885 - recall: 0.0581 - val_loss: 0.8463 - val_acc: 0.8700 - val_precision: 0.0000e+00 - val_recall: 0.0000e+00\n",
      "Epoch 6/10\n",
      "1000/1000 [==============================] - 72s 72ms/step - loss: 1.0267 - acc: 0.6830 - precision: 0.2875 - recall: 0.0885 - val_loss: 0.8058 - val_acc: 0.9000 - val_precision: 0.0000e+00 - val_recall: 0.0000e+00\n",
      "Epoch 7/10\n",
      "1000/1000 [==============================] - 72s 72ms/step - loss: 1.0183 - acc: 0.7030 - precision: 0.3231 - recall: 0.0830 - val_loss: 0.8197 - val_acc: 0.8800 - val_precision: 0.0000e+00 - val_recall: 0.0000e+00\n",
      "Epoch 8/10\n",
      "1000/1000 [==============================] - 72s 72ms/step - loss: 1.0423 - acc: 0.5290 - precision: 0.2801 - recall: 0.2948 - val_loss: 0.8291 - val_acc: 0.8100 - val_precision: 0.1765 - val_recall: 0.1250\n",
      "Epoch 9/10\n",
      "1000/1000 [==============================] - 72s 72ms/step - loss: 1.0319 - acc: 0.6080 - precision: 0.2849 - recall: 0.1932 - val_loss: 0.8244 - val_acc: 0.8350 - val_precision: 0.1667 - val_recall: 0.0870\n",
      "Epoch 10/10\n",
      "1000/1000 [==============================] - 72s 72ms/step - loss: 1.0030 - acc: 0.6540 - precision: 0.3265 - recall: 0.1943 - val_loss: 0.8079 - val_acc: 0.8850 - val_precision: 0.0000e+00 - val_recall: 0.0000e+00\n"
     ]
    }
   ],
   "source": [
    "model_history = model.fit_generator(\n",
    "    train_generator,\n",
    "    validation_data= val_generator,\n",
    "    validation_steps=200,\n",
    "    steps_per_epoch=1000,\n",
    "    epochs = 10\n",
    ")"
   ]
  },
  {
   "cell_type": "code",
   "execution_count": 7,
   "metadata": {},
   "outputs": [],
   "source": [
    "model.save('nlst_cnn.hdf5') "
   ]
  },
  {
   "cell_type": "code",
   "execution_count": 39,
   "metadata": {},
   "outputs": [],
   "source": [
    "model.load_weights('nlst_cnn_curbest.hdf5')\n",
    "# model.load_weights('nlst_cnn.hdf5')"
   ]
  },
  {
   "cell_type": "code",
   "execution_count": 40,
   "metadata": {},
   "outputs": [],
   "source": [
    "Xs = []\n",
    "Ys = []\n",
    "for im in os.listdir('data/nlst_test/image_roi_3d/pkls/'):\n",
    "    path = f'data/nlst_test/image_roi_3d/pkls/{im}'\n",
    "    with open(path, 'rb') as input_file:\n",
    "        cube, label = pkl.load(input_file)\n",
    "    cube = cube[:50][:50][:50]\n",
    "    if cube.shape[0] < 50 or cube.shape[1] < 50 or cube.shape[2] < 50:\n",
    "        pass\n",
    "    else:\n",
    "        Xs.append(np.array(cube/255).reshape(50, 50, 50, 1))\n",
    "        Ys.append(label)"
   ]
  },
  {
   "cell_type": "code",
   "execution_count": 41,
   "metadata": {},
   "outputs": [
    {
     "name": "stdout",
     "output_type": "stream",
     "text": [
      "0.7272727272727273\n",
      "0.5992887890698109\n"
     ]
    },
    {
     "data": {
      "image/png": "[encoded data removed]",
      "text/plain": [
       "<Figure size 432x288 with 1 Axes>"
      ]
     },
     "metadata": {},
     "output_type": "display_data"
    }
   ],
   "source": [
    "Xs = np.array(Xs)\n",
    "Ys = np.array(Ys)\n",
    "preds = np.concatenate([model.predict(Xs[i*5:min((i+1)*5, 177)]) for i in range(36)])\n",
    "print(accuracy_score(Ys, np.round(preds)))\n",
    "print(roc_auc_score(Ys, preds))\n",
    "\n",
    "fig, ax = plt.subplots(1, 1)\n",
    "plot_auc(Ys, preds, ax)"
   ]
  },
  {
   "cell_type": "markdown",
   "metadata": {},
   "source": [
    "# Patient Model"
   ]
  },
  {
   "cell_type": "code",
   "execution_count": 42,
   "metadata": {},
   "outputs": [
    {
     "data": {
      "text/html": [
       "<div>\n",
       "<style scoped>\n",
       "    .dataframe tbody tr th:only-of-type {\n",
       "        vertical-align: middle;\n",
       "    }\n",
       "\n",
       "    .dataframe tbody tr th {\n",
       "        vertical-align: top;\n",
       "    }\n",
       "\n",
       "    .dataframe thead th {\n",
       "        text-align: right;\n",
       "    }\n",
       "</style>\n",
       "<table border=\"1\" class=\"dataframe\">\n",
       "  <thead>\n",
       "    <tr style=\"text-align: right;\">\n",
       "      <th></th>\n",
       "      <th>pid</th>\n",
       "      <th>recurrence</th>\n",
       "      <th>adjuvent</th>\n",
       "      <th>age</th>\n",
       "      <th>gender</th>\n",
       "      <th>stage 1a</th>\n",
       "      <th>stage 1b</th>\n",
       "      <th>stage 2a</th>\n",
       "      <th>stage 2b</th>\n",
       "      <th>stage 3a</th>\n",
       "      <th>stage 3b</th>\n",
       "      <th>stage 4</th>\n",
       "    </tr>\n",
       "  </thead>\n",
       "  <tbody>\n",
       "    <tr>\n",
       "      <th>0</th>\n",
       "      <td>100012</td>\n",
       "      <td>1.0</td>\n",
       "      <td>0</td>\n",
       "      <td>61</td>\n",
       "      <td>2</td>\n",
       "      <td>1</td>\n",
       "      <td>0</td>\n",
       "      <td>0</td>\n",
       "      <td>0</td>\n",
       "      <td>0</td>\n",
       "      <td>0</td>\n",
       "      <td>0</td>\n",
       "    </tr>\n",
       "    <tr>\n",
       "      <th>1</th>\n",
       "      <td>100242</td>\n",
       "      <td>1.0</td>\n",
       "      <td>0</td>\n",
       "      <td>60</td>\n",
       "      <td>2</td>\n",
       "      <td>1</td>\n",
       "      <td>0</td>\n",
       "      <td>0</td>\n",
       "      <td>0</td>\n",
       "      <td>0</td>\n",
       "      <td>0</td>\n",
       "      <td>0</td>\n",
       "    </tr>\n",
       "    <tr>\n",
       "      <th>2</th>\n",
       "      <td>100280</td>\n",
       "      <td>0.0</td>\n",
       "      <td>0</td>\n",
       "      <td>60</td>\n",
       "      <td>2</td>\n",
       "      <td>1</td>\n",
       "      <td>0</td>\n",
       "      <td>0</td>\n",
       "      <td>0</td>\n",
       "      <td>0</td>\n",
       "      <td>0</td>\n",
       "      <td>0</td>\n",
       "    </tr>\n",
       "    <tr>\n",
       "      <th>3</th>\n",
       "      <td>100570</td>\n",
       "      <td>0.0</td>\n",
       "      <td>0</td>\n",
       "      <td>63</td>\n",
       "      <td>1</td>\n",
       "      <td>1</td>\n",
       "      <td>0</td>\n",
       "      <td>0</td>\n",
       "      <td>0</td>\n",
       "      <td>0</td>\n",
       "      <td>0</td>\n",
       "      <td>0</td>\n",
       "    </tr>\n",
       "    <tr>\n",
       "      <th>4</th>\n",
       "      <td>100658</td>\n",
       "      <td>0.0</td>\n",
       "      <td>0</td>\n",
       "      <td>60</td>\n",
       "      <td>1</td>\n",
       "      <td>0</td>\n",
       "      <td>1</td>\n",
       "      <td>0</td>\n",
       "      <td>0</td>\n",
       "      <td>0</td>\n",
       "      <td>0</td>\n",
       "      <td>0</td>\n",
       "    </tr>\n",
       "  </tbody>\n",
       "</table>\n",
       "</div>"
      ],
      "text/plain": [
       "      pid  recurrence  adjuvent  age  gender  stage 1a  stage 1b  stage 2a  \\\n",
       "0  100012         1.0         0   61       2         1         0         0   \n",
       "1  100242         1.0         0   60       2         1         0         0   \n",
       "2  100280         0.0         0   60       2         1         0         0   \n",
       "3  100570         0.0         0   63       1         1         0         0   \n",
       "4  100658         0.0         0   60       1         0         1         0   \n",
       "\n",
       "   stage 2b  stage 3a  stage 3b  stage 4  \n",
       "0         0         0         0        0  \n",
       "1         0         0         0        0  \n",
       "2         0         0         0        0  \n",
       "3         0         0         0        0  \n",
       "4         0         0         0        0  "
      ]
     },
     "execution_count": 42,
     "metadata": {},
     "output_type": "execute_result"
    }
   ],
   "source": [
    "df = pd.read_csv('data/nlst_patient_table.csv')\n",
    "df.head()"
   ]
  },
  {
   "cell_type": "code",
   "execution_count": 43,
   "metadata": {},
   "outputs": [],
   "source": [
    "mean_preds = []\n",
    "highest_preds = []\n",
    "for pid in df.pid:\n",
    "    preds = []\n",
    "    if not os.path.exists(f'data/nlst_rois_3d/{pid}'):\n",
    "        df = df[df.pid != pid]\n",
    "        continue\n",
    "    rois = os.listdir(f'data/nlst_rois_3d/{pid}')\n",
    "    for roi in rois:\n",
    "        r = pkl.load(open(f'data/nlst_rois_3d/{pid}/{roi}', 'rb'))\n",
    "        if min(list(r.shape)) < 50: \n",
    "            continue\n",
    "        preds.append(model.predict(np.array(r[:50]).reshape(1, 50, 50, 50, 1)))\n",
    "    preds = sorted(preds, key=lambda x: abs(x-.5), reverse=True)\n",
    "    highest_preds.append(np.array(preds[:1]).mean())\n",
    "    mean_preds.append(np.array(preds).mean())\n",
    "    \n",
    "df['mean_pred'] = mean_preds\n",
    "df['highest_pred'] = highest_preds\n",
    "\n",
    "\n",
    "areas = pkl.load(open(f'data/areas.pkl', 'rb'))\n",
    "max_areas = []\n",
    "for pid in df.pid:\n",
    "    max_areas.append(areas[str(pid)])\n",
    "df['max_area'] = max_areas\n",
    "\n",
    "\n",
    "train_ids = pkl.load(open('data/train_ids.pkl', 'rb'))\n",
    "test_ids = pkl.load(open('data/test_ids.pkl', 'rb'))\n",
    "\n",
    "df['train'] = [int(pid in train_ids) for pid in df.pid]\n",
    "df['test'] = [int(pid in test_ids) for pid in df.pid]\n",
    "\n",
    "df_train = df[df.train == 1]\n",
    "df_test = df[df.test == 1]"
   ]
  },
  {
   "cell_type": "code",
   "execution_count": 44,
   "metadata": {},
   "outputs": [
    {
     "name": "stdout",
     "output_type": "stream",
     "text": [
      "Patient accuracy (using mean score):    0.5846153846153846\n",
      "Patient accuracy (using highest value): 0.5846153846153846\n",
      "\n",
      "Patient AUC (using mean score):    0.6595744680851063\n",
      "Patient AUC (using highest value): 0.6134751773049645\n"
     ]
    },
    {
     "data": {
      "image/png": "[encoded data removed]",
      "text/plain": [
       "<Figure size 864x288 with 2 Axes>"
      ]
     },
     "metadata": {},
     "output_type": "display_data"
    }
   ],
   "source": [
    "print(\"Patient accuracy (using mean score):    \" + str(accuracy_score(df_test.recurrence, np.round(df_test.mean_pred))))\n",
    "print(\"Patient accuracy (using highest value): \" + str(accuracy_score(df_test.recurrence, np.round(df_test.highest_pred))))\n",
    "\n",
    "print(\"\\nPatient AUC (using mean score):    \" + str(roc_auc_score(df_test.recurrence, list(df_test.mean_pred))))\n",
    "print(\"Patient AUC (using highest value): \" + str(roc_auc_score(df_test.recurrence, list(df_test.highest_pred))))\n",
    "\n",
    "fig, axs = plt.subplots(1, 2, figsize=(12, 4))\n",
    "plot_auc(df_test.recurrence, df_test.mean_pred, axs[0])\n",
    "plot_auc(df_test.recurrence, df_test.highest_pred, axs[1])\n",
    "\n",
    "axs[0].set_title(\"Patient AUC Using Mean Score\")\n",
    "axs[1].set_title(\"Patient AUC Using Highest Score\")\n",
    "\n",
    "# print(recall_score(list(Patient_Ys.values()), np.round(list(patient_preds_mean.values()))))\n",
    "# print(precision_score(list(Patient_Ys.values()), np.round(list(patient_preds_greatest.values()))))\n",
    "\n",
    "plt.show()"
   ]
  },
  {
   "cell_type": "code",
   "execution_count": 45,
   "metadata": {},
   "outputs": [],
   "source": [
    "from sklearn.ensemble import RandomForestClassifier"
   ]
  },
  {
   "cell_type": "code",
   "execution_count": 48,
   "metadata": {},
   "outputs": [],
   "source": [
    "def evaluate(features):\n",
    "    X = df_train[features]\n",
    "    Y = df_train.recurrence\n",
    "    clf = RandomForestClassifier(n_estimators=25, random_state=0)\n",
    "    clf.fit(X, Y)\n",
    "    \n",
    "    importances = clf.feature_importances_\n",
    "    sorted_indices = np.argsort(importances)[::-1]\n",
    "    sorted_importances = [importances[i] for i in sorted_indices]\n",
    "\n",
    "    fig, ax = plt.subplots(1, 1, figsize=(14, 6))\n",
    "    x = range(1, len(sorted_indices)+1)\n",
    "    ax.bar(x, sorted_importances)\n",
    "    ax.set_ylabel('Relative Importance')\n",
    "    ax.set_xticks(range(1, len(sorted_indices)+1))\n",
    "    ax.set_xticklabels([X.columns[i] for i in sorted_indices])\n",
    "    plt.show()\n",
    "    \n",
    "    y_pred = clf.predict_proba(df_test[features])[:, 1]\n",
    "    print(f'Overall Accuracy: {accuracy_score(df_test.recurrence, np.round(y_pred))}')\n",
    "    print(f'Overall AUC: {roc_auc_score(df_test.recurrence, y_pred)}')\n",
    "    print(f'Overall Recalll: {recall_score(df_test.recurrence, np.round(y_pred))}')\n",
    "    print(f'Overall Precision: {precision_score(df_test.recurrence, np.round(y_pred))}')\n",
    "    \n",
    "    df_stage1 = df_test[np.logical_or(df_test['stage 1b'], df_test['stage 1a'])]\n",
    "    y_pred_1 = clf.predict_proba(df_stage1[features])[:, 1] \n",
    "    print(f'Stage 1 Accuracy: {accuracy_score(df_stage1.recurrence, np.round(y_pred_1))}')\n",
    "    print(f'Stage 1 AUC: {roc_auc_score(df_stage1.recurrence, y_pred_1)}')\n",
    "    print(f'Stage 1 Recalll: {recall_score(df_stage1.recurrence, np.round(y_pred_1))}')\n",
    "    print(f'Stage 1 Precision: {precision_score(df_stage1.recurrence, np.round(y_pred_1))}')\n",
    "    \n",
    "#     df_stage2 = df_test[np.logical_or(df_test['stage 2b'], df_test['stage 2a'])]\n",
    "#     y_pred_2 = clf.predict_proba(df_stage2[features])[:, 1]\n",
    "#     print(f'Stage 2 Accuracy: {accuracy_score(df_stage2.recurrence, np.round(y_pred_2))}')\n",
    "#     print(f'Stage 2 AUC: {roc_auc_score(df_stage2.recurrence, y_pred_2)}')\n",
    "#     print(f'Stage 2 Recalll: {recall_score(df_stage2.recurrence, np.round(y_pred_2))}')\n",
    "#     print(f'Stage 2 Precision: {precision_score(df_stage2.recurrence, np.round(y_pred_2))}')\n",
    "    "
   ]
  },
  {
   "cell_type": "code",
   "execution_count": 49,
   "metadata": {
    "scrolled": false
   },
   "outputs": [
    {
     "name": "stdout",
     "output_type": "stream",
     "text": [
      "Staging + Adjuvent\n"
     ]
    },
    {
     "data": {
      "image/png": "[encoded data removed]",
      "text/plain": [
       "<Figure size 1008x432 with 1 Axes>"
      ]
     },
     "metadata": {},
     "output_type": "display_data"
    },
    {
     "name": "stdout",
     "output_type": "stream",
     "text": [
      "Overall Accuracy: 0.7538461538461538\n",
      "Overall AUC: 0.7322695035460992\n",
      "Overall Recalll: 0.2222222222222222\n",
      "Overall Precision: 0.6666666666666666\n",
      "Stage 1 Accuracy: 0.7818181818181819\n",
      "Stage 1 AUC: 0.6443798449612402\n",
      "Stage 1 Recalll: 0.0\n",
      "Stage 1 Precision: 0.0\n",
      "\n",
      "\n",
      "Staging + Adjuvent + Max Area\n"
     ]
    },
    {
     "name": "stderr",
     "output_type": "stream",
     "text": [
      "/home/ubuntu/anaconda3/envs/tensorflow_p36/lib/python3.6/site-packages/sklearn/metrics/classification.py:1437: UndefinedMetricWarning:\n",
      "\n",
      "Precision is ill-defined and being set to 0.0 due to no predicted samples.\n",
      "\n"
     ]
    },
    {
     "data": {
      "image/png": "[encoded data removed]",
      "text/plain": [
       "<Figure size 1008x432 with 1 Axes>"
      ]
     },
     "metadata": {},
     "output_type": "display_data"
    },
    {
     "name": "stdout",
     "output_type": "stream",
     "text": [
      "Overall Accuracy: 0.6615384615384615\n",
      "Overall AUC: 0.6932624113475178\n",
      "Overall Recalll: 0.5\n",
      "Overall Precision: 0.4090909090909091\n",
      "Stage 1 Accuracy: 0.6545454545454545\n",
      "Stage 1 AUC: 0.6385658914728682\n",
      "Stage 1 Recalll: 0.3333333333333333\n",
      "Stage 1 Precision: 0.26666666666666666\n",
      "\n",
      "\n",
      "Staging + Adjuvent + Max Area + NN\n"
     ]
    },
    {
     "data": {
      "image/png": "[encoded data removed]",
      "text/plain": [
       "<Figure size 1008x432 with 1 Axes>"
      ]
     },
     "metadata": {},
     "output_type": "display_data"
    },
    {
     "name": "stdout",
     "output_type": "stream",
     "text": [
      "Overall Accuracy: 0.8\n",
      "Overall AUC: 0.7742316784869977\n",
      "Overall Recalll: 0.6111111111111112\n",
      "Overall Precision: 0.6470588235294118\n",
      "Stage 1 Accuracy: 0.8181818181818182\n",
      "Stage 1 AUC: 0.7354651162790697\n",
      "Stage 1 Recalll: 0.5\n",
      "Stage 1 Precision: 0.6\n"
     ]
    }
   ],
   "source": [
    "print(\"Staging + Adjuvent\")\n",
    "evaluate([\n",
    "    'adjuvent', 'stage 1a', 'stage 1b',\n",
    "    'stage 2a', 'stage 2b', 'stage 3a',\n",
    "    'stage 3b', 'stage 4'\n",
    "])\n",
    "print()\n",
    "print(\"\\nStaging + Adjuvent + Max Area\")\n",
    "evaluate([\n",
    "    'adjuvent', 'stage 1a', 'stage 1b',\n",
    "    'stage 2a', 'stage 2b', 'stage 3a',\n",
    "    'stage 3b', 'stage 4', 'max_area'\n",
    "])\n",
    "print()\n",
    "print(\"\\nStaging + Adjuvent + Max Area + NN\")\n",
    "evaluate([\n",
    "    'adjuvent', 'stage 1a', 'stage 1b',\n",
    "    'stage 2a', 'stage 2b', 'stage 3a',\n",
    "    'stage 3b', 'stage 4', 'max_area',\n",
    "    'highest_pred'\n",
    "])"
   ]
  },
  {
   "cell_type": "code",
   "execution_count": null,
   "metadata": {},
   "outputs": [],
   "source": []
  },
  {
   "cell_type": "code",
   "execution_count": null,
   "metadata": {},
   "outputs": [],
   "source": []
  }
 ],
 "metadata": {
  "kernelspec": {
   "display_name": "Python 3",
   "language": "python",
   "name": "python3"
  },
  "language_info": {
   "codemirror_mode": {
    "name": "ipython",
    "version": 3
   },
   "file_extension": ".py",
   "mimetype": "text/x-python",
   "name": "python",
   "nbconvert_exporter": "python",
   "pygments_lexer": "ipython3",
   "version": "3.6.5"
  }
 },
 "nbformat": 4,
 "nbformat_minor": 2
}
