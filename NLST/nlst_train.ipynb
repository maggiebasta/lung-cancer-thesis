{
 "cells": [
  {
   "cell_type": "code",
   "execution_count": 1,
   "metadata": {},
   "outputs": [
    {
     "data": {
      "text/html": [
       "        <script type=\"text/javascript\">\n",
       "        window.PlotlyConfig = {MathJaxConfig: 'local'};\n",
       "        if (window.MathJax) {MathJax.Hub.Config({SVG: {font: \"STIX-Web\"}});}\n",
       "        if (typeof require !== 'undefined') {\n",
       "        require.undef(\"plotly\");\n",
       "        requirejs.config({\n",
       "            paths: {\n",
       "                'plotly': ['https://cdn.plot.ly/plotly-latest.min']\n",
       "            }\n",
       "        });\n",
       "        require(['plotly'], function(Plotly) {\n",
       "            window._Plotly = Plotly;\n",
       "        });\n",
       "        }\n",
       "        </script>\n",
       "        "
      ]
     },
     "metadata": {},
     "output_type": "display_data"
    },
    {
     "name": "stdout",
     "output_type": "stream",
     "text": [
      "1.14.0\n"
     ]
    }
   ],
   "source": [
    "import os\n",
    "import sys \n",
    "\n",
    "import matplotlib.pyplot as plt\n",
    "import pandas as pd\n",
    "import pickle as pkl\n",
    "import tensorflow as tf\n",
    "# from keras import backend as K\n",
    "from skimage import io\n",
    "from sklearn.metrics import roc_curve, auc, roc_auc_score, accuracy_score\n",
    "from tensorflow.keras.preprocessing.image import (\n",
    "    ImageDataGenerator,\n",
    "    img_to_array,\n",
    "    load_img\n",
    ")\n",
    "\n",
    "from data_generator_3d import *\n",
    "from cnn_baseline import *\n",
    "from plotting_helpers import plot_auc\n",
    "\n",
    "print(tf.__version__)\n",
    "\n",
    "# from keras.utils import multi_gpu_model"
   ]
  },
  {
   "cell_type": "code",
   "execution_count": 2,
   "metadata": {},
   "outputs": [],
   "source": [
    "image_generator = ImageDataGenerator(\n",
    "#     rotation_range=5,\n",
    "    rescale=1./255,\n",
    "#     shear_range=.1, \n",
    "#     zoom_range=.05,\n",
    "#     brightness_range=[.85, 1.0],\n",
    "#     zca_whitening=True,\n",
    "    horizontal_flip=True,\n",
    "    vertical_flip=True,\n",
    "    height_shift_range=5,\n",
    "    width_shift_range=5,\n",
    "    fill_mode='nearest',\n",
    "    validation_split=0.0\n",
    ")\n",
    "\n",
    "label_generator = ImageDataGenerator(\n",
    "    validation_split=0.0\n",
    ")\n",
    "\n",
    "# train_generator = image_generator.flow_from_directory(\n",
    "#     directory=\"data/nlst_train/image_full\",\n",
    "#     color_mode=\"grayscale\",\n",
    "#     target_size=(256, 256),\n",
    "#     batch_size=12,\n",
    "#     class_mode=\"binary\",\n",
    "#     shuffle=True,\n",
    "#     seed=42\n",
    "# )\n",
    "\n",
    "# train_generator = image_generator.flow_from_directory(\n",
    "#     directory=\"data/nlst_train/image_roi_2d\",\n",
    "#     color_mode=\"grayscale\",\n",
    "#     target_size=(32, 32),\n",
    "#     batch_size=16,\n",
    "#     class_mode=\"binary\",\n",
    "#     shuffle=True,\n",
    "#     seed=42\n",
    "# )\n",
    "\n",
    "train_generator = generator(\n",
    "    base_directory='data/nlst_train/image_roi_3d',\n",
    "    input_gen=image_generator,\n",
    "    target_gen=label_generator,\n",
    "    batch_sz=1\n",
    "    \n",
    ")\n",
    "\n",
    "val_generator = generator(\n",
    "    base_directory='data/nlst_val/image_roi_3d',\n",
    "    input_gen=image_generator,\n",
    "    target_gen=label_generator,\n",
    "    batch_sz=1\n",
    "    \n",
    ")"
   ]
  },
  {
   "cell_type": "code",
   "execution_count": 3,
   "metadata": {},
   "outputs": [
    {
     "data": {
      "image/png": "[encoded data removed]",
      "text/plain": [
       "<Figure size 1152x576 with 4 Axes>"
      ]
     },
     "metadata": {},
     "output_type": "display_data"
    }
   ],
   "source": [
    "show_augmentation('data/nlst_train/image_roi_3d/25/0.tif', image_generator, n_rows=1)"
   ]
  },
  {
   "cell_type": "code",
   "execution_count": 4,
   "metadata": {},
   "outputs": [],
   "source": [
    "def convert_to_logits(y_pred):\n",
    "    y_pred = tf.clip_by_value(\n",
    "        y_pred, tf.keras.backend.epsilon(),\n",
    "        1 - tf.keras.backend.epsilon()\n",
    "    )\n",
    "\n",
    "    return tf.math.log(y_pred / (1 - y_pred))\n",
    "\n",
    "\n",
    "def weighted_cross_entropy(y_true, y_pred):\n",
    "    y_pred = convert_to_logits(y_pred)\n",
    "    loss = tf.nn.weighted_cross_entropy_with_logits(\n",
    "        logits=y_pred,\n",
    "        labels=y_true,\n",
    "        pos_weight=1050\n",
    "    )\n",
    "    return tf.reduce_mean(loss)"
   ]
  },
  {
   "cell_type": "code",
   "execution_count": 5,
   "metadata": {
    "scrolled": true
   },
   "outputs": [
    {
     "name": "stdout",
     "output_type": "stream",
     "text": [
      "WARNING:tensorflow:From /home/ubuntu/anaconda3/envs/tensorflow_p36/lib/python3.6/site-packages/tensorflow/python/ops/init_ops.py:1251: calling VarianceScaling.__init__ (from tensorflow.python.ops.init_ops) with dtype is deprecated and will be removed in a future version.\n",
      "Instructions for updating:\n",
      "Call initializer instance with the dtype argument instead of passing it to the constructor\n"
     ]
    }
   ],
   "source": [
    "# model = cnn_baseline()\n",
    "# model = cnn_baseline(input_shape=(32, 32, 1))\n",
    "model = cnn_baseline_3d(input_shape=(50, 50, 50, 1))\n",
    "\n",
    "model.compile(\n",
    "    optimizer = tf.keras.optimizers.Adam(lr = 5e-5),\n",
    "#     loss=tf.keras.losses.binary_crossentropy,\n",
    "    loss=weighted_cross_entropy,\n",
    "    metrics = [\n",
    "        'accuracy',\n",
    "        tf.keras.metrics.Precision(),\n",
    "        tf.keras.metrics.Recall(),\n",
    "        tf.keras.metrics.AUC(),\n",
    "        tf.keras.metrics.SpecificityAtSensitivity(.5),\n",
    "    ]\n",
    ")\n",
    "# model_checkpoint = ModelCheckpoint(MODEL_NAME, monitor='loss',verbose=0, save_best_only=True)\n",
    "# parallel_model = multi_gpu_model(model)"
   ]
  },
  {
   "cell_type": "code",
   "execution_count": 6,
   "metadata": {
    "scrolled": true
   },
   "outputs": [
    {
     "name": "stdout",
     "output_type": "stream",
     "text": [
      "Model: \"model\"\n",
      "_________________________________________________________________\n",
      "Layer (type)                 Output Shape              Param #   \n",
      "=================================================================\n",
      "input_1 (InputLayer)         [(None, 50, 50, 50, 1)]   0         \n",
      "_________________________________________________________________\n",
      "conv3d (Conv3D)              (None, 48, 48, 48, 64)    1792      \n",
      "_________________________________________________________________\n",
      "leaky_re_lu (LeakyReLU)      (None, 48, 48, 48, 64)    0         \n",
      "_________________________________________________________________\n",
      "conv3d_1 (Conv3D)            (None, 46, 46, 46, 64)    110656    \n",
      "_________________________________________________________________\n",
      "leaky_re_lu_1 (LeakyReLU)    (None, 46, 46, 46, 64)    0         \n",
      "_________________________________________________________________\n",
      "max_pooling3d (MaxPooling3D) (None, 15, 15, 15, 64)    0         \n",
      "_________________________________________________________________\n",
      "conv3d_2 (Conv3D)            (None, 13, 13, 13, 128)   221312    \n",
      "_________________________________________________________________\n",
      "leaky_re_lu_2 (LeakyReLU)    (None, 13, 13, 13, 128)   0         \n",
      "_________________________________________________________________\n",
      "conv3d_3 (Conv3D)            (None, 11, 11, 11, 256)   884992    \n",
      "_________________________________________________________________\n",
      "leaky_re_lu_3 (LeakyReLU)    (None, 11, 11, 11, 256)   0         \n",
      "_________________________________________________________________\n",
      "max_pooling3d_1 (MaxPooling3 (None, 3, 3, 3, 256)      0         \n",
      "_________________________________________________________________\n",
      "flatten (Flatten)            (None, 6912)              0         \n",
      "_________________________________________________________________\n",
      "dense (Dense)                (None, 1024)              7078912   \n",
      "_________________________________________________________________\n",
      "leaky_re_lu_4 (LeakyReLU)    (None, 1024)              0         \n",
      "_________________________________________________________________\n",
      "dropout (Dropout)            (None, 1024)              0         \n",
      "_________________________________________________________________\n",
      "dense_1 (Dense)              (None, 512)               524800    \n",
      "_________________________________________________________________\n",
      "leaky_re_lu_5 (LeakyReLU)    (None, 512)               0         \n",
      "_________________________________________________________________\n",
      "dropout_1 (Dropout)          (None, 512)               0         \n",
      "_________________________________________________________________\n",
      "dense_2 (Dense)              (None, 256)               131328    \n",
      "_________________________________________________________________\n",
      "leaky_re_lu_6 (LeakyReLU)    (None, 256)               0         \n",
      "_________________________________________________________________\n",
      "dropout_2 (Dropout)          (None, 256)               0         \n",
      "_________________________________________________________________\n",
      "dense_3 (Dense)              (None, 1)                 257       \n",
      "_________________________________________________________________\n",
      "activation (Activation)      (None, 1)                 0         \n",
      "=================================================================\n",
      "Total params: 8,954,049\n",
      "Trainable params: 8,954,049\n",
      "Non-trainable params: 0\n",
      "_________________________________________________________________\n"
     ]
    }
   ],
   "source": [
    "model.summary()"
   ]
  },
  {
   "cell_type": "code",
   "execution_count": 7,
   "metadata": {
    "scrolled": true
   },
   "outputs": [
    {
     "name": "stdout",
     "output_type": "stream",
     "text": [
      "Found 658 images belonging to 1 classes.\n",
      "Found 658 images belonging to 1 classes.\n",
      "Found 658 images belonging to 1 classes.\n",
      "Found 658 images belonging to 1 classes.\n",
      "Found 658 images belonging to 1 classes.\n",
      "Found 658 images belonging to 1 classes.\n",
      "Found 658 images belonging to 1 classes.\n",
      "Found 658 images belonging to 1 classes.\n",
      "Found 658 images belonging to 1 classes.\n",
      "Found 658 images belonging to 1 classes.\n",
      "Found 658 images belonging to 1 classes.\n",
      "Found 658 images belonging to 1 classes.\n",
      "Found 658 images belonging to 1 classes.\n",
      "Found 658 images belonging to 1 classes.\n",
      "Epoch 1/7\n",
      "Found 658 images belonging to 1 classes.\n",
      "Found 658 images belonging to 1 classes.\n",
      "Found 658 images belonging to 1 classes.\n",
      "Found 658 images belonging to 1 classes.\n",
      "Found 658 images belonging to 1 classes.\n",
      "Found 658 images belonging to 1 classes.\n",
      "Found 658 images belonging to 1 classes.\n",
      "Found 658 images belonging to 1 classes.\n",
      "Found 658 images belonging to 1 classes.\n",
      "Found 658 images belonging to 1 classes.\n",
      "Found 658 images belonging to 1 classes.\n",
      "Found 658 images belonging to 1 classes.\n",
      "Found 658 images belonging to 1 classes.\n",
      "Found 658 images belonging to 1 classes.\n",
      "Found 658 images belonging to 1 classes.\n",
      "Found 658 images belonging to 1 classes.\n",
      "Found 658 images belonging to 1 classes.\n",
      "Found 658 images belonging to 1 classes.\n",
      "Found 658 images belonging to 1 classes.\n",
      "Found 658 images belonging to 1 classes.\n",
      "Found 658 images belonging to 1 classes.\n",
      "Found 658 images belonging to 1 classes.\n",
      "Found 658 images belonging to 1 classes.\n",
      "Found 658 images belonging to 1 classes.\n",
      "Found 658 images belonging to 1 classes.\n",
      "Found 658 images belonging to 1 classes.\n",
      "Found 658 images belonging to 1 classes.\n",
      "Found 658 images belonging to 1 classes.\n",
      "Found 658 images belonging to 1 classes.\n",
      "Found 658 images belonging to 1 classes.\n",
      "Found 658 images belonging to 1 classes.\n",
      "Found 658 images belonging to 1 classes.\n",
      "Found 658 images belonging to 1 classes.\n",
      "Found 658 images belonging to 1 classes.\n",
      "Found 658 images belonging to 1 classes.\n",
      "Found 658 images belonging to 1 classes.\n",
      "Found 658 images belonging to 1 classes.\n",
      "WARNING:tensorflow:From /home/ubuntu/anaconda3/envs/tensorflow_p36/lib/python3.6/site-packages/tensorflow/python/ops/math_grad.py:1250: add_dispatch_support.<locals>.wrapper (from tensorflow.python.ops.array_ops) is deprecated and will be removed in a future version.\n",
      "Instructions for updating:\n",
      "Use tf.where in 2.0, which has the same broadcast rule as np.where\n",
      " 999/1000 [============================>.] - ETA: 0s - loss: 1.3904 - acc: 0.5566 - precision: 0.2319 - recall: 0.2531 - auc: 0.5078 - specificity_at_sensitivity: 0.4538Found 95 images belonging to 1 classes.\n",
      "Found 95 images belonging to 1 classes.\n",
      "Found 95 images belonging to 1 classes.\n",
      "Found 95 images belonging to 1 classes.\n",
      "Found 95 images belonging to 1 classes.\n",
      "Found 95 images belonging to 1 classes.\n",
      "Found 95 images belonging to 1 classes.\n",
      "Found 95 images belonging to 1 classes.\n",
      "Found 95 images belonging to 1 classes.\n",
      "Found 95 images belonging to 1 classes.\n",
      "Found 95 images belonging to 1 classes.\n",
      "Found 95 images belonging to 1 classes.\n",
      "Found 95 images belonging to 1 classes.\n",
      "Found 95 images belonging to 1 classes.\n",
      "Found 95 images belonging to 1 classes.\n",
      "Found 95 images belonging to 1 classes.\n",
      "Found 95 images belonging to 1 classes.\n",
      "Found 95 images belonging to 1 classes.\n",
      "Found 95 images belonging to 1 classes.\n",
      "Found 95 images belonging to 1 classes.\n",
      "Found 95 images belonging to 1 classes.\n",
      "Found 95 images belonging to 1 classes.\n",
      "Found 95 images belonging to 1 classes.\n",
      "Found 95 images belonging to 1 classes.\n",
      "Found 95 images belonging to 1 classes.\n",
      "Found 95 images belonging to 1 classes.\n",
      "Found 95 images belonging to 1 classes.\n",
      "Found 95 images belonging to 1 classes.\n",
      "Found 95 images belonging to 1 classes.\n",
      "Found 95 images belonging to 1 classes.\n",
      "Found 95 images belonging to 1 classes.\n",
      "Found 95 images belonging to 1 classes.\n",
      "Found 95 images belonging to 1 classes.\n",
      "Found 95 images belonging to 1 classes.\n",
      "Found 95 images belonging to 1 classes.\n",
      "Found 95 images belonging to 1 classes.\n",
      "Found 95 images belonging to 1 classes.\n",
      "Found 95 images belonging to 1 classes.\n",
      "Found 95 images belonging to 1 classes.\n",
      "Found 95 images belonging to 1 classes.\n",
      "Found 95 images belonging to 1 classes.\n",
      "Found 95 images belonging to 1 classes.\n",
      "Found 95 images belonging to 1 classes.\n",
      "Found 95 images belonging to 1 classes.\n",
      "Found 95 images belonging to 1 classes.\n",
      "Found 95 images belonging to 1 classes.\n",
      "Found 95 images belonging to 1 classes.\n",
      "Found 95 images belonging to 1 classes.\n",
      "Found 95 images belonging to 1 classes.\n",
      "Found 95 images belonging to 1 classes.\n",
      "Found 95 images belonging to 1 classes.\n",
      "1000/1000 [==============================] - 82s 82ms/step - loss: 1.3898 - acc: 0.5560 - precision: 0.2311 - recall: 0.2531 - auc: 0.5072 - specificity_at_sensitivity: 0.4532 - val_loss: 1.5074 - val_acc: 0.0000e+00 - val_precision: 0.2867 - val_recall: 1.0000 - val_auc: 0.4637 - val_specificity_at_sensitivity: 0.2897\n",
      "Epoch 2/7\n",
      "1000/1000 [==============================] - 67s 67ms/step - loss: 1.3665 - acc: 0.4300 - precision: 0.2369 - recall: 0.4426 - auc: 0.4981 - specificity_at_sensitivity: 0.3660 - val_loss: 1.4555 - val_acc: 0.6000 - val_precision: 0.3103 - val_recall: 0.2250 - val_auc: 0.5145 - val_specificity_at_sensitivity: 0.5364\n",
      "Epoch 3/7\n",
      "1000/1000 [==============================] - 67s 67ms/step - loss: 1.4423 - acc: 0.2920 - precision: 0.2289 - recall: 0.6052 - auc: 0.5086 - specificity_at_sensitivity: 0.5228 - val_loss: 1.4358 - val_acc: 0.2867 - val_precision: 0.2273 - val_recall: 0.5128 - val_auc: 0.4637 - val_specificity_at_sensitivity: 0.7027\n",
      "Epoch 4/7\n",
      "1000/1000 [==============================] - 63s 63ms/step - loss: 1.3914 - acc: 0.2190 - precision: 0.2548 - recall: 0.7572 - auc: 0.5154 - specificity_at_sensitivity: 0.3989 - val_loss: 1.4555 - val_acc: 0.3000 - val_precision: 0.2697 - val_recall: 0.6000 - val_auc: 0.4649 - val_specificity_at_sensitivity: 0.2818\n",
      "Epoch 5/7\n",
      "1000/1000 [==============================] - 65s 65ms/step - loss: 1.3953 - acc: 0.2760 - precision: 0.2401 - recall: 0.6138 - auc: 0.5115 - specificity_at_sensitivity: 0.5424 - val_loss: 1.5515 - val_acc: 0.4133 - val_precision: 0.2586 - val_recall: 0.3333 - val_auc: 0.4119 - val_specificity_at_sensitivity: 0.3429\n",
      "Epoch 6/7\n",
      "1000/1000 [==============================] - 69s 69ms/step - loss: 1.3515 - acc: 0.5360 - precision: 0.2603 - recall: 0.3550 - auc: 0.5325 - specificity_at_sensitivity: 0.6229 - val_loss: 1.5396 - val_acc: 0.5667 - val_precision: 0.1538 - val_recall: 0.0930 - val_auc: 0.4410 - val_specificity_at_sensitivity: 0.5140\n",
      "Epoch 7/7\n",
      "1000/1000 [==============================] - 70s 70ms/step - loss: 1.3640 - acc: 0.6350 - precision: 0.2778 - recall: 0.2128 - auc: 0.5029 - specificity_at_sensitivity: 0.4654 - val_loss: 1.3994 - val_acc: 0.6067 - val_precision: 0.1852 - val_recall: 0.1351 - val_auc: 0.4799 - val_specificity_at_sensitivity: 0.4867\n"
     ]
    }
   ],
   "source": [
    "model_history = model.fit_generator(\n",
    "    train_generator,\n",
    "    validation_data= val_generator,\n",
    "    validation_steps=150,\n",
    "    steps_per_epoch=1000,\n",
    "    epochs = 7\n",
    ")"
   ]
  },
  {
   "cell_type": "code",
   "execution_count": 8,
   "metadata": {},
   "outputs": [],
   "source": [
    "model.save('nlst_cnn.hdf5') "
   ]
  },
  {
   "cell_type": "code",
   "execution_count": 9,
   "metadata": {},
   "outputs": [],
   "source": [
    "# model.load_weights('nlst_cnn_curbest.hdf5')\n",
    "model.load_weights('nlst_cnn.hdf5')"
   ]
  },
  {
   "cell_type": "code",
   "execution_count": 10,
   "metadata": {},
   "outputs": [],
   "source": [
    "with open('data/nlst_test/image_roi_3d/patient_lookup.pkl', 'rb') as input_file:\n",
    "    PatientLookup = pkl.load(input_file)\n",
    "\n",
    "Patient_Xs = {}\n",
    "Patient_Ys = {}\n",
    "\n",
    "Xs = []\n",
    "Ys = []\n",
    "for im in os.listdir('data/nlst_test/image_roi_3d/pkls/'):\n",
    "    path = f'data/nlst_test/image_roi_3d/pkls/{im}'\n",
    "    with open(path, 'rb') as input_file:\n",
    "        cube, label = pkl.load(input_file)\n",
    "    cube = cube[:50][:50][:50]\n",
    "    if cube.shape[0] < 50 or cube.shape[1] < 50 or cube.shape[2] < 50:\n",
    "        pass\n",
    "    else:\n",
    "        pid = PatientLookup[int(im[:-4])]\n",
    "        if Patient_Xs.get(pid):\n",
    "            Patient_Xs[pid].append(np.array(cube/255).reshape(50, 50, 50, 1))\n",
    "        else:\n",
    "            Patient_Xs[pid] = [np.array(cube/255).reshape(50, 50, 50, 1)]\n",
    "        Patient_Ys[pid] = label\n",
    "        Xs.append(np.array(cube/255).reshape(50, 50, 50, 1))\n",
    "        Ys.append(label)"
   ]
  },
  {
   "cell_type": "code",
   "execution_count": 11,
   "metadata": {},
   "outputs": [
    {
     "name": "stdout",
     "output_type": "stream",
     "text": [
      "0.7194244604316546\n",
      "0.5603508771929825\n"
     ]
    },
    {
     "data": {
      "image/png": "[encoded data removed]",
      "text/plain": [
       "<Figure size 432x288 with 1 Axes>"
      ]
     },
     "metadata": {},
     "output_type": "display_data"
    }
   ],
   "source": [
    "Xs = np.array(Xs)\n",
    "Ys = np.array(Ys)\n",
    "x = np.concatenate([model.predict(Xs[i*10:(i+1)*10]) for i in range(14)])\n",
    "print(accuracy_score(Ys, np.round(x)))\n",
    "print(roc_auc_score(Ys, x))\n",
    "\n",
    "fig, ax = plt.subplots(1, 1)\n",
    "plot_auc(Ys, x, ax)"
   ]
  },
  {
   "cell_type": "code",
   "execution_count": 17,
   "metadata": {},
   "outputs": [
    {
     "name": "stdout",
     "output_type": "stream",
     "text": [
      "Patient accuracy (using mean score):    0.6615384615384615\n",
      "Patient accuracy (using highest value): 0.676923076923077\n",
      "\n",
      "Patient AUC (using mean score):    0.5709219858156029\n",
      "Patient AUC (using highest value): 0.6229314420803783\n"
     ]
    },
    {
     "data": {
      "image/png": "[encoded data removed]",
      "text/plain": [
       "<Figure size 864x288 with 2 Axes>"
      ]
     },
     "metadata": {},
     "output_type": "display_data"
    }
   ],
   "source": [
    "patient_preds_mean = []\n",
    "patient_preds_greatest = []\n",
    "\n",
    "for pid, Xs in Patient_Xs.items():\n",
    "    preds = model.predict(np.array(Xs))\n",
    "    patient_preds_mean.append(preds.mean())\n",
    "    preds = sorted(preds, key=lambda x: abs(x-.5), reverse=True)\n",
    "    patient_preds_greatest.append(np.array(preds[:1]).mean())\n",
    "    \n",
    "print(\"Patient accuracy (using mean score):    \" + str(accuracy_score(list(Patient_Ys.values()), np.round(patient_preds_mean))))\n",
    "print(\"Patient accuracy (using highest value): \" + str(accuracy_score(list(Patient_Ys.values()), np.round(patient_preds_greatest))))\n",
    "\n",
    "print(\"\\nPatient AUC (using mean score):    \" + str(roc_auc_score(list(Patient_Ys.values()), patient_preds_mean)))\n",
    "print(\"Patient AUC (using highest value): \" + str(roc_auc_score(list(Patient_Ys.values()), patient_preds_greatest)))\n",
    "\n",
    "fig, axs = plt.subplots(1, 2, figsize=(12, 4))\n",
    "plot_auc(list(Patient_Ys.values()), patient_preds_mean, axs[0])\n",
    "plot_auc(list(Patient_Ys.values()), patient_preds_greatest, axs[1])\n",
    "\n",
    "axs[0].set_title(\"Patient AUC Using Mean Score\")\n",
    "axs[1].set_title(\"Patient AUC Using Highest Score\")\n",
    "\n",
    "plt.show()"
   ]
  },
  {
   "cell_type": "code",
   "execution_count": 13,
   "metadata": {},
   "outputs": [
    {
     "data": {
      "text/plain": [
       "dict_values([0, 1, 0, 0, 1, 0, 1, 0, 1, 0, 0, 0, 1, 0, 1, 0, 0, 1, 1, 0, 0, 0, 0, 0, 1, 0, 1, 0, 0, 0, 0, 0, 0, 0, 0, 0, 1, 0, 0, 0, 0, 1, 0, 1, 0, 1, 0, 1, 0, 0, 1, 0, 0, 0, 0, 0, 1, 1, 0, 0, 0, 0, 0, 0, 0])"
      ]
     },
     "execution_count": 13,
     "metadata": {},
     "output_type": "execute_result"
    }
   ],
   "source": [
    "Patient_Ys.values()"
   ]
  },
  {
   "cell_type": "code",
   "execution_count": 14,
   "metadata": {},
   "outputs": [
    {
     "data": {
      "text/plain": [
       "array([0., 0., 0., 0., 1., 1., 0., 0., 0., 0., 0., 0., 0., 0., 0., 0., 0.,\n",
       "       0., 0., 0., 0., 0., 1., 0., 0., 0., 0., 1., 0., 1., 0., 0., 0., 0.,\n",
       "       0., 0., 0., 0., 0., 0., 0., 0., 0., 0., 0., 1., 0., 0., 0., 0., 0.,\n",
       "       0., 0., 0., 0., 1., 1., 0., 0., 0., 0., 0., 1., 0., 1.],\n",
       "      dtype=float32)"
      ]
     },
     "execution_count": 14,
     "metadata": {},
     "output_type": "execute_result"
    }
   ],
   "source": [
    "np.round(patient_preds_mean)"
   ]
  },
  {
   "cell_type": "code",
   "execution_count": 15,
   "metadata": {},
   "outputs": [
    {
     "name": "stderr",
     "output_type": "stream",
     "text": [
      "/home/ubuntu/anaconda3/envs/tensorflow_p36/lib/python3.6/site-packages/IPython/core/interactiveshell.py:2785: DtypeWarning:\n",
      "\n",
      "Columns (201,224,225) have mixed types. Specify dtype option on import or set low_memory=False.\n",
      "\n"
     ]
    }
   ],
   "source": [
    "df_person = pd.read_csv('data/nlst_567/nlst_567_prsn_20191108.csv')\n"
   ]
  }
 ],
 "metadata": {
  "kernelspec": {
   "display_name": "Python 3",
   "language": "python",
   "name": "python3"
  },
  "language_info": {
   "codemirror_mode": {
    "name": "ipython",
    "version": 3
   },
   "file_extension": ".py",
   "mimetype": "text/x-python",
   "name": "python",
   "nbconvert_exporter": "python",
   "pygments_lexer": "ipython3",
   "version": "3.6.5"
  }
 },
 "nbformat": 4,
 "nbformat_minor": 2
}
