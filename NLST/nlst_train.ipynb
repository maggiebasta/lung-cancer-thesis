{
 "cells": [
  {
   "cell_type": "code",
   "execution_count": 1,
   "metadata": {},
   "outputs": [
    {
     "name": "stdout",
     "output_type": "stream",
     "text": [
      "1.14.0\n"
     ]
    }
   ],
   "source": [
    "import os\n",
    "import sys \n",
    "\n",
    "import matplotlib.pyplot as plt\n",
    "import pandas as pd\n",
    "import pickle as pkl\n",
    "import tensorflow as tf\n",
    "# from keras import backend as K\n",
    "from skimage import io\n",
    "from sklearn.metrics import roc_curve, auc, roc_auc_score\n",
    "from tensorflow.keras.preprocessing.image import (\n",
    "    ImageDataGenerator,\n",
    "    img_to_array,\n",
    "    load_img\n",
    ")\n",
    "\n",
    "from data_generator_3d import *\n",
    "from cnn_baseline import *\n",
    "\n",
    "print(tf.__version__)\n",
    "\n",
    "# from keras.utils import multi_gpu_model"
   ]
  },
  {
   "cell_type": "code",
   "execution_count": 2,
   "metadata": {},
   "outputs": [],
   "source": [
    "image_generator = ImageDataGenerator(\n",
    "#     rotation_range=5,\n",
    "    rescale=1./255,\n",
    "#     shear_range=.1,\n",
    "#     zoom_range=.1,\n",
    "#     brightness_range=[.85, 1.0],\n",
    "    horizontal_flip=True,\n",
    "    vertical_flip=True,\n",
    "    fill_mode='nearest',\n",
    "    validation_split=0.0\n",
    ")\n",
    "\n",
    "label_generator = ImageDataGenerator(\n",
    "    validation_split=0.0\n",
    ")\n",
    "\n",
    "# train_generator = image_generator.flow_from_directory(\n",
    "#     directory=\"data/nlst_train/image_full\",\n",
    "#     color_mode=\"grayscale\",\n",
    "#     target_size=(256, 256),\n",
    "#     batch_size=12,\n",
    "#     class_mode=\"binary\",\n",
    "#     shuffle=True,\n",
    "#     seed=42\n",
    "# )\n",
    "\n",
    "# train_generator = image_generator.flow_from_directory(\n",
    "#     directory=\"data/nlst_train/image_roi_2d\",\n",
    "#     color_mode=\"grayscale\",\n",
    "#     target_size=(32, 32),\n",
    "#     batch_size=16,\n",
    "#     class_mode=\"binary\",\n",
    "#     shuffle=True,\n",
    "#     seed=42\n",
    "# )\n",
    "\n",
    "train_generator = generator(\n",
    "    base_directory='data/nlst_train/image_roi_3d',\n",
    "    input_gen=image_generator,\n",
    "    target_gen=label_generator,\n",
    "    batch_sz=1\n",
    "    \n",
    ")"
   ]
  },
  {
   "cell_type": "code",
   "execution_count": 3,
   "metadata": {},
   "outputs": [
    {
     "data": {
      "image/png": "[encoded data removed]",
      "text/plain": [
       "<Figure size 1152x576 with 4 Axes>"
      ]
     },
     "metadata": {},
     "output_type": "display_data"
    }
   ],
   "source": [
    "show_augmentation('data/nlst_train/image_roi_3d/25/15.tif', image_generator, n_rows=1)"
   ]
  },
  {
   "cell_type": "code",
   "execution_count": 4,
   "metadata": {},
   "outputs": [],
   "source": [
    "def convert_to_logits(y_pred):\n",
    "    y_pred = tf.clip_by_value(\n",
    "        y_pred, tf.keras.backend.epsilon(),\n",
    "        1 - tf.keras.backend.epsilon()\n",
    "    )\n",
    "\n",
    "    return tf.math.log(y_pred / (1 - y_pred))\n",
    "\n",
    "\n",
    "def weighted_cross_entropy(y_true, y_pred):\n",
    "    y_pred = convert_to_logits(y_pred)\n",
    "    loss = tf.nn.weighted_cross_entropy_with_logits(\n",
    "        logits=y_pred,\n",
    "        labels=y_true,\n",
    "        pos_weight=800\n",
    "    )\n",
    "    return tf.reduce_mean(loss)"
   ]
  },
  {
   "cell_type": "code",
   "execution_count": 5,
   "metadata": {
    "scrolled": true
   },
   "outputs": [
    {
     "name": "stdout",
     "output_type": "stream",
     "text": [
      "WARNING:tensorflow:From /home/ubuntu/anaconda3/envs/tensorflow_p36/lib/python3.6/site-packages/tensorflow/python/ops/init_ops.py:1251: calling VarianceScaling.__init__ (from tensorflow.python.ops.init_ops) with dtype is deprecated and will be removed in a future version.\n",
      "Instructions for updating:\n",
      "Call initializer instance with the dtype argument instead of passing it to the constructor\n"
     ]
    }
   ],
   "source": [
    "# model = cnn_baseline()\n",
    "# model = cnn_baseline(input_shape=(32, 32, 1))\n",
    "model = cnn_baseline_3d(input_shape=(50, 50, 50, 1))\n",
    "\n",
    "model.compile(\n",
    "    optimizer = tf.keras.optimizers.Adam(lr = 1e-5),\n",
    "#     loss=tf.keras.losses.binary_crossentropy,\n",
    "    loss=weighted_cross_entropy,\n",
    "    metrics = [\n",
    "        'accuracy',\n",
    "        tf.keras.metrics.Precision(),\n",
    "        tf.keras.metrics.Recall(),\n",
    "        tf.keras.metrics.AUC(),\n",
    "        tf.keras.metrics.SpecificityAtSensitivity(.5),\n",
    "    ]\n",
    ")\n",
    "# model_checkpoint = ModelCheckpoint(MODEL_NAME, monitor='loss',verbose=0, save_best_only=True)\n",
    "# parallel_model = multi_gpu_model(model)"
   ]
  },
  {
   "cell_type": "code",
   "execution_count": 6,
   "metadata": {
    "scrolled": true
   },
   "outputs": [
    {
     "name": "stdout",
     "output_type": "stream",
     "text": [
      "Found 599 images belonging to 1 classes.\n",
      "Found 599 images belonging to 1 classes.\n",
      "Found 599 images belonging to 1 classes.\n",
      "Found 599 images belonging to 1 classes.\n",
      "Found 599 images belonging to 1 classes.\n",
      "Found 599 images belonging to 1 classes.\n",
      "Found 599 images belonging to 1 classes.\n",
      "Found 599 images belonging to 1 classes.\n",
      "Found 599 images belonging to 1 classes.\n",
      "Found 599 images belonging to 1 classes.\n",
      "Found 599 images belonging to 1 classes.\n",
      "Found 599 images belonging to 1 classes.\n",
      "Found 599 images belonging to 1 classes.\n",
      "Found 599 images belonging to 1 classes.\n",
      "Found 599 images belonging to 1 classes.\n",
      "Found 599 images belonging to 1 classes.\n",
      "Found 599 images belonging to 1 classes.\n",
      "Epoch 1/15\n",
      "Found 599 images belonging to 1 classes.\n",
      "Found 599 images belonging to 1 classes.\n",
      "Found 599 images belonging to 1 classes.\n",
      "Found 599 images belonging to 1 classes.\n",
      "Found 599 images belonging to 1 classes.\n",
      "Found 599 images belonging to 1 classes.\n",
      "Found 599 images belonging to 1 classes.\n",
      "Found 599 images belonging to 1 classes.\n",
      "Found 599 images belonging to 1 classes.\n",
      "Found 599 images belonging to 1 classes.\n",
      "Found 599 images belonging to 1 classes.\n",
      "Found 599 images belonging to 1 classes.\n",
      "Found 599 images belonging to 1 classes.\n",
      "Found 599 images belonging to 1 classes.\n",
      "Found 599 images belonging to 1 classes.\n",
      "Found 599 images belonging to 1 classes.\n",
      "Found 599 images belonging to 1 classes.\n",
      "Found 599 images belonging to 1 classes.\n",
      "Found 599 images belonging to 1 classes.\n",
      "Found 599 images belonging to 1 classes.\n",
      "Found 599 images belonging to 1 classes.\n",
      "Found 599 images belonging to 1 classes.\n",
      "Found 599 images belonging to 1 classes.\n",
      "Found 599 images belonging to 1 classes.\n",
      "Found 599 images belonging to 1 classes.\n",
      "Found 599 images belonging to 1 classes.\n",
      "Found 599 images belonging to 1 classes.\n",
      "Found 599 images belonging to 1 classes.\n",
      "Found 599 images belonging to 1 classes.\n",
      "Found 599 images belonging to 1 classes.\n",
      "Found 599 images belonging to 1 classes.\n",
      "Found 599 images belonging to 1 classes.\n",
      "Found 599 images belonging to 1 classes.\n",
      "Found 599 images belonging to 1 classes.\n",
      "WARNING:tensorflow:From /home/ubuntu/anaconda3/envs/tensorflow_p36/lib/python3.6/site-packages/tensorflow/python/ops/math_grad.py:1250: add_dispatch_support.<locals>.wrapper (from tensorflow.python.ops.array_ops) is deprecated and will be removed in a future version.\n",
      "Instructions for updating:\n",
      "Use tf.where in 2.0, which has the same broadcast rule as np.where\n",
      "1000/1000 [==============================] - 48s 48ms/step - loss: 1.3574 - acc: 0.4230 - precision: 0.2545 - recall: 0.3379 - auc: 0.4642 - specificity_at_sensitivity: 0.4239\n",
      "Epoch 2/15\n",
      "1000/1000 [==============================] - 36s 36ms/step - loss: 1.3092 - acc: 0.5200 - precision: 0.2705 - recall: 0.2764 - auc: 0.4745 - specificity_at_sensitivity: 0.4441\n",
      "Epoch 3/15\n",
      "1000/1000 [==============================] - 35s 35ms/step - loss: 1.3354 - acc: 0.4890 - precision: 0.2593 - recall: 0.2646 - auc: 0.4702 - specificity_at_sensitivity: 0.4725 2s - loss: 1.3350 - acc: 0.4849 - precision: 0.2676 - recall: 0.2815 - auc: 0.4740 \n",
      "Epoch 4/15\n",
      "1000/1000 [==============================] - 35s 35ms/step - loss: 1.3013 - acc: 0.5810 - precision: 0.3054 - recall: 0.2230 - auc: 0.5073 - specificity_at_sensitivity: 0.4806\n",
      "Epoch 5/15\n",
      "1000/1000 [==============================] - 36s 36ms/step - loss: 1.3399 - acc: 0.5030 - precision: 0.3048 - recall: 0.3027 - auc: 0.4957 - specificity_at_sensitivity: 0.5113\n",
      "Epoch 6/15\n",
      "1000/1000 [==============================] - 36s 36ms/step - loss: 1.3196 - acc: 0.5390 - precision: 0.3040 - recall: 0.2648 - auc: 0.5140 - specificity_at_sensitivity: 0.5217\n",
      "Epoch 7/15\n",
      "1000/1000 [==============================] - 35s 35ms/step - loss: 1.3011 - acc: 0.5570 - precision: 0.3138 - recall: 0.2688 - auc: 0.5110 - specificity_at_sensitivity: 0.5132\n",
      "Epoch 8/15\n",
      "1000/1000 [==============================] - 35s 35ms/step - loss: 1.3113 - acc: 0.5460 - precision: 0.3745 - recall: 0.3484 - auc: 0.5627 - specificity_at_sensitivity: 0.5933\n",
      "Epoch 9/15\n",
      "1000/1000 [==============================] - 34s 34ms/step - loss: 1.3121 - acc: 0.5570 - precision: 0.3595 - recall: 0.3021 - auc: 0.5578 - specificity_at_sensitivity: 0.6222\n",
      "Epoch 10/15\n",
      "1000/1000 [==============================] - 37s 37ms/step - loss: 1.2744 - acc: 0.6230 - precision: 0.4674 - recall: 0.3082 - auc: 0.6129 - specificity_at_sensitivity: 0.6186\n",
      "Epoch 11/15\n",
      "1000/1000 [==============================] - 36s 36ms/step - loss: 1.2853 - acc: 0.5990 - precision: 0.4813 - recall: 0.3552 - auc: 0.6513 - specificity_at_sensitivity: 0.7042\n",
      "Epoch 12/15\n",
      "1000/1000 [==============================] - 35s 35ms/step - loss: 1.2481 - acc: 0.6000 - precision: 0.4956 - recall: 0.3916 - auc: 0.7132 - specificity_at_sensitivity: 0.7773\n",
      "Epoch 13/15\n",
      "1000/1000 [==============================] - 36s 36ms/step - loss: 1.2368 - acc: 0.5780 - precision: 0.5148 - recall: 0.4777 - auc: 0.7427 - specificity_at_sensitivity: 0.7997\n",
      "Epoch 14/15\n",
      "1000/1000 [==============================] - 36s 36ms/step - loss: 1.1818 - acc: 0.6260 - precision: 0.5611 - recall: 0.4477 - auc: 0.7652 - specificity_at_sensitivity: 0.8354\n",
      "Epoch 15/15\n",
      "1000/1000 [==============================] - 35s 35ms/step - loss: 1.1870 - acc: 0.6340 - precision: 0.6333 - recall: 0.4602 - auc: 0.7818 - specificity_at_sensitivity: 0.8565\n"
     ]
    }
   ],
   "source": [
    "model_history = model.fit_generator(\n",
    "    train_generator,\n",
    "    steps_per_epoch=1000,\n",
    "    epochs = 15,\n",
    ")"
   ]
  },
  {
   "cell_type": "code",
   "execution_count": 7,
   "metadata": {},
   "outputs": [],
   "source": [
    "model.save('nlst_cnn.hdf5') "
   ]
  },
  {
   "cell_type": "code",
   "execution_count": 12,
   "metadata": {},
   "outputs": [],
   "source": [
    "model.load_weights('nlst_cnn_0.hdf5')"
   ]
  },
  {
   "cell_type": "code",
   "execution_count": 22,
   "metadata": {},
   "outputs": [
    {
     "data": {
      "text/plain": [
       "0.7236403995560488"
      ]
     },
     "execution_count": 22,
     "metadata": {},
     "output_type": "execute_result"
    }
   ],
   "source": [
    "Xs = []\n",
    "Ys = []\n",
    "for im in os.listdir('data/nlst_test/image_roi_3d/pkls/')[50:120]:\n",
    "    path = f'data/nlst_test/image_roi_3d/pkls/{im}'\n",
    "    with open(path, 'rb') as input_file:\n",
    "        cube, label = pkl.load(input_file)\n",
    "    cube = cube[:50][:50][:50]\n",
    "    if cube.shape[0] < 50 or cube.shape[1] < 50 or cube.shape[2] < 50:\n",
    "        pass\n",
    "    else:\n",
    "        Xs.append(np.array(cube/255).reshape(50, 50, 50, 1))\n",
    "        Ys.append(label)\n",
    "\n",
    "Xs = np.array(Xs)\n",
    "Ys = np.array(Ys)\n",
    "\n",
    "preds = model.predict(Xs)\n",
    "roc_auc_score(Ys, preds)"
   ]
  }
 ],
 "metadata": {
  "kernelspec": {
   "display_name": "Python 3",
   "language": "python",
   "name": "python3"
  },
  "language_info": {
   "codemirror_mode": {
    "name": "ipython",
    "version": 3
   },
   "file_extension": ".py",
   "mimetype": "text/x-python",
   "name": "python",
   "nbconvert_exporter": "python",
   "pygments_lexer": "ipython3",
   "version": "3.6.5"
  }
 },
 "nbformat": 4,
 "nbformat_minor": 2
}
