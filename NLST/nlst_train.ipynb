{
 "cells": [
  {
   "cell_type": "code",
   "execution_count": 1,
   "metadata": {},
   "outputs": [
    {
     "data": {
      "text/html": [
       "        <script type=\"text/javascript\">\n",
       "        window.PlotlyConfig = {MathJaxConfig: 'local'};\n",
       "        if (window.MathJax) {MathJax.Hub.Config({SVG: {font: \"STIX-Web\"}});}\n",
       "        if (typeof require !== 'undefined') {\n",
       "        require.undef(\"plotly\");\n",
       "        requirejs.config({\n",
       "            paths: {\n",
       "                'plotly': ['https://cdn.plot.ly/plotly-latest.min']\n",
       "            }\n",
       "        });\n",
       "        require(['plotly'], function(Plotly) {\n",
       "            window._Plotly = Plotly;\n",
       "        });\n",
       "        }\n",
       "        </script>\n",
       "        "
      ]
     },
     "metadata": {},
     "output_type": "display_data"
    },
    {
     "name": "stdout",
     "output_type": "stream",
     "text": [
      "1.14.0\n"
     ]
    }
   ],
   "source": [
    "import os\n",
    "import sys \n",
    "\n",
    "import matplotlib.pyplot as plt\n",
    "import pandas as pd\n",
    "import pickle as pkl\n",
    "import tensorflow as tf\n",
    "# from keras import backend as K\n",
    "from skimage import io\n",
    "from sklearn.metrics import roc_curve, auc, roc_auc_score, accuracy_score\n",
    "from tensorflow.keras.preprocessing.image import (\n",
    "    ImageDataGenerator,\n",
    "    img_to_array,\n",
    "    load_img\n",
    ")\n",
    "\n",
    "from data_generator_3d import *\n",
    "from cnn_baseline import *\n",
    "from plotting_helpers import plot_auc\n",
    "\n",
    "print(tf.__version__)\n",
    "\n",
    "# from keras.utils import multi_gpu_model"
   ]
  },
  {
   "cell_type": "code",
   "execution_count": 2,
   "metadata": {},
   "outputs": [],
   "source": [
    "image_generator = ImageDataGenerator(\n",
    "#     rotation_range=5,\n",
    "    rescale=1./255,\n",
    "#     shear_range=.1, \n",
    "#     zoom_range=.05,\n",
    "#     brightness_range=[.85, 1.0],\n",
    "#     zca_whitening=True,\n",
    "    horizontal_flip=True,\n",
    "    vertical_flip=True,\n",
    "    height_shift_range=5,\n",
    "    width_shift_range=5,\n",
    "    fill_mode='nearest',\n",
    "    validation_split=0.0\n",
    ")\n",
    "\n",
    "label_generator = ImageDataGenerator(\n",
    "    validation_split=0.0\n",
    ")\n",
    "\n",
    "# train_generator = image_generator.flow_from_directory(\n",
    "#     directory=\"data/nlst_train/image_full\",\n",
    "#     color_mode=\"grayscale\",\n",
    "#     target_size=(256, 256),\n",
    "#     batch_size=12,\n",
    "#     class_mode=\"binary\",\n",
    "#     shuffle=True,\n",
    "#     seed=42\n",
    "# )\n",
    "\n",
    "# train_generator = image_generator.flow_from_directory(\n",
    "#     directory=\"data/nlst_train/image_roi_2d\",\n",
    "#     color_mode=\"grayscale\",\n",
    "#     target_size=(32, 32),\n",
    "#     batch_size=16,\n",
    "#     class_mode=\"binary\",\n",
    "#     shuffle=True,\n",
    "#     seed=42\n",
    "# )\n",
    "\n",
    "train_generator = generator(\n",
    "    base_directory='data/nlst_train/image_roi_3d',\n",
    "    input_gen=image_generator,\n",
    "    target_gen=label_generator,\n",
    "    batch_sz=1\n",
    "    \n",
    ")\n",
    "\n",
    "val_generator = generator(\n",
    "    base_directory='data/nlst_val/image_roi_3d',\n",
    "    input_gen=image_generator,\n",
    "    target_gen=label_generator,\n",
    "    batch_sz=1\n",
    "    \n",
    ")"
   ]
  },
  {
   "cell_type": "code",
   "execution_count": 3,
   "metadata": {},
   "outputs": [
    {
     "data": {
      "image/png": "[encoded data removed]",
      "text/plain": [
       "<Figure size 1152x576 with 4 Axes>"
      ]
     },
     "metadata": {},
     "output_type": "display_data"
    }
   ],
   "source": [
    "show_augmentation('data/nlst_train/image_roi_3d/25/0.tif', image_generator, n_rows=1)"
   ]
  },
  {
   "cell_type": "code",
   "execution_count": 4,
   "metadata": {},
   "outputs": [],
   "source": [
    "def convert_to_logits(y_pred):\n",
    "    y_pred = tf.clip_by_value(\n",
    "        y_pred, tf.keras.backend.epsilon(),\n",
    "        1 - tf.keras.backend.epsilon()\n",
    "    )\n",
    "\n",
    "    return tf.math.log(y_pred / (1 - y_pred))\n",
    "\n",
    "\n",
    "def weighted_cross_entropy(y_true, y_pred):\n",
    "    y_pred = convert_to_logits(y_pred)\n",
    "    loss = tf.nn.weighted_cross_entropy_with_logits(\n",
    "        logits=y_pred,\n",
    "        labels=y_true,\n",
    "        pos_weight=1050\n",
    "    )\n",
    "    return tf.reduce_mean(loss)"
   ]
  },
  {
   "cell_type": "code",
   "execution_count": 5,
   "metadata": {
    "scrolled": true
   },
   "outputs": [
    {
     "name": "stdout",
     "output_type": "stream",
     "text": [
      "WARNING:tensorflow:From /home/ubuntu/anaconda3/envs/tensorflow_p36/lib/python3.6/site-packages/tensorflow/python/ops/init_ops.py:1251: calling VarianceScaling.__init__ (from tensorflow.python.ops.init_ops) with dtype is deprecated and will be removed in a future version.\n",
      "Instructions for updating:\n",
      "Call initializer instance with the dtype argument instead of passing it to the constructor\n"
     ]
    }
   ],
   "source": [
    "# model = cnn_baseline()\n",
    "# model = cnn_baseline(input_shape=(32, 32, 1))\n",
    "model = cnn_baseline_3d(input_shape=(50, 50, 50, 1))\n",
    "\n",
    "model.compile(\n",
    "    optimizer = tf.keras.optimizers.Adam(lr = 5e-5),\n",
    "#     loss=tf.keras.losses.binary_crossentropy,\n",
    "    loss=weighted_cross_entropy,\n",
    "    metrics = [\n",
    "        'accuracy',\n",
    "        tf.keras.metrics.Precision(),\n",
    "        tf.keras.metrics.Recall(),\n",
    "        tf.keras.metrics.AUC(),\n",
    "        tf.keras.metrics.SpecificityAtSensitivity(.5),\n",
    "    ]\n",
    ")\n",
    "# model_checkpoint = ModelCheckpoint(MODEL_NAME, monitor='loss',verbose=0, save_best_only=True)\n",
    "# parallel_model = multi_gpu_model(model)"
   ]
  },
  {
   "cell_type": "code",
   "execution_count": 6,
   "metadata": {
    "scrolled": true
   },
   "outputs": [
    {
     "name": "stdout",
     "output_type": "stream",
     "text": [
      "Model: \"model\"\n",
      "_________________________________________________________________\n",
      "Layer (type)                 Output Shape              Param #   \n",
      "=================================================================\n",
      "input_1 (InputLayer)         [(None, 50, 50, 50, 1)]   0         \n",
      "_________________________________________________________________\n",
      "conv3d (Conv3D)              (None, 48, 48, 48, 32)    896       \n",
      "_________________________________________________________________\n",
      "leaky_re_lu (LeakyReLU)      (None, 48, 48, 48, 32)    0         \n",
      "_________________________________________________________________\n",
      "conv3d_1 (Conv3D)            (None, 46, 46, 46, 64)    55360     \n",
      "_________________________________________________________________\n",
      "leaky_re_lu_1 (LeakyReLU)    (None, 46, 46, 46, 64)    0         \n",
      "_________________________________________________________________\n",
      "max_pooling3d (MaxPooling3D) (None, 15, 15, 15, 64)    0         \n",
      "_________________________________________________________________\n",
      "conv3d_2 (Conv3D)            (None, 13, 13, 13, 128)   221312    \n",
      "_________________________________________________________________\n",
      "leaky_re_lu_2 (LeakyReLU)    (None, 13, 13, 13, 128)   0         \n",
      "_________________________________________________________________\n",
      "conv3d_3 (Conv3D)            (None, 11, 11, 11, 256)   884992    \n",
      "_________________________________________________________________\n",
      "leaky_re_lu_3 (LeakyReLU)    (None, 11, 11, 11, 256)   0         \n",
      "_________________________________________________________________\n",
      "max_pooling3d_1 (MaxPooling3 (None, 3, 3, 3, 256)      0         \n",
      "_________________________________________________________________\n",
      "flatten (Flatten)            (None, 6912)              0         \n",
      "_________________________________________________________________\n",
      "dense (Dense)                (None, 1024)              7078912   \n",
      "_________________________________________________________________\n",
      "leaky_re_lu_4 (LeakyReLU)    (None, 1024)              0         \n",
      "_________________________________________________________________\n",
      "dropout (Dropout)            (None, 1024)              0         \n",
      "_________________________________________________________________\n",
      "dense_1 (Dense)              (None, 512)               524800    \n",
      "_________________________________________________________________\n",
      "leaky_re_lu_5 (LeakyReLU)    (None, 512)               0         \n",
      "_________________________________________________________________\n",
      "dropout_1 (Dropout)          (None, 512)               0         \n",
      "_________________________________________________________________\n",
      "dense_2 (Dense)              (None, 256)               131328    \n",
      "_________________________________________________________________\n",
      "leaky_re_lu_6 (LeakyReLU)    (None, 256)               0         \n",
      "_________________________________________________________________\n",
      "dropout_2 (Dropout)          (None, 256)               0         \n",
      "_________________________________________________________________\n",
      "dense_3 (Dense)              (None, 1)                 257       \n",
      "_________________________________________________________________\n",
      "activation (Activation)      (None, 1)                 0         \n",
      "=================================================================\n",
      "Total params: 8,897,857\n",
      "Trainable params: 8,897,857\n",
      "Non-trainable params: 0\n",
      "_________________________________________________________________\n"
     ]
    }
   ],
   "source": [
    "model.summary()"
   ]
  },
  {
   "cell_type": "code",
   "execution_count": 7,
   "metadata": {
    "scrolled": true
   },
   "outputs": [
    {
     "name": "stdout",
     "output_type": "stream",
     "text": [
      "Found 658 images belonging to 1 classes.\n",
      "Found 658 images belonging to 1 classes.\n",
      "Found 658 images belonging to 1 classes.\n",
      "Found 658 images belonging to 1 classes.\n",
      "Found 658 images belonging to 1 classes.\n",
      "Found 658 images belonging to 1 classes.\n",
      "Found 658 images belonging to 1 classes.\n",
      "Found 658 images belonging to 1 classes.\n",
      "Found 658 images belonging to 1 classes.\n",
      "Found 658 images belonging to 1 classes.\n",
      "Found 658 images belonging to 1 classes.\n",
      "Found 658 images belonging to 1 classes.\n",
      "Found 658 images belonging to 1 classes.\n",
      "Found 658 images belonging to 1 classes.\n",
      "Epoch 1/12\n",
      "Found 658 images belonging to 1 classes.\n",
      "Found 658 images belonging to 1 classes.\n",
      "Found 658 images belonging to 1 classes.\n",
      "Found 658 images belonging to 1 classes.\n",
      "Found 658 images belonging to 1 classes.\n",
      "Found 658 images belonging to 1 classes.\n",
      "Found 658 images belonging to 1 classes.\n",
      "Found 658 images belonging to 1 classes.\n",
      "Found 658 images belonging to 1 classes.\n",
      "Found 658 images belonging to 1 classes.\n",
      "Found 658 images belonging to 1 classes.\n",
      "Found 658 images belonging to 1 classes.\n",
      "Found 658 images belonging to 1 classes.\n",
      "Found 658 images belonging to 1 classes.\n",
      "Found 658 images belonging to 1 classes.\n",
      "Found 658 images belonging to 1 classes.\n",
      "Found 658 images belonging to 1 classes.\n",
      "Found 658 images belonging to 1 classes.\n",
      "Found 658 images belonging to 1 classes.\n",
      "Found 658 images belonging to 1 classes.\n",
      "Found 658 images belonging to 1 classes.\n",
      "Found 658 images belonging to 1 classes.\n",
      "Found 658 images belonging to 1 classes.\n",
      "Found 658 images belonging to 1 classes.\n",
      "Found 658 images belonging to 1 classes.\n",
      "Found 658 images belonging to 1 classes.\n",
      "Found 658 images belonging to 1 classes.\n",
      "Found 658 images belonging to 1 classes.\n",
      "Found 658 images belonging to 1 classes.\n",
      "Found 658 images belonging to 1 classes.\n",
      "Found 658 images belonging to 1 classes.\n",
      "Found 658 images belonging to 1 classes.\n",
      "Found 658 images belonging to 1 classes.\n",
      "Found 658 images belonging to 1 classes.\n",
      "Found 658 images belonging to 1 classes.\n",
      "Found 658 images belonging to 1 classes.\n",
      "Found 658 images belonging to 1 classes.\n",
      "WARNING:tensorflow:From /home/ubuntu/anaconda3/envs/tensorflow_p36/lib/python3.6/site-packages/tensorflow/python/ops/math_grad.py:1250: add_dispatch_support.<locals>.wrapper (from tensorflow.python.ops.array_ops) is deprecated and will be removed in a future version.\n",
      "Instructions for updating:\n",
      "Use tf.where in 2.0, which has the same broadcast rule as np.where\n",
      " 998/1000 [============================>.] - ETA: 0s - loss: 1.3875 - acc: 0.5130 - precision: 0.2271 - recall: 0.2988 - auc: 0.4906 - specificity_at_sensitivity: 0.4584Found 95 images belonging to 1 classes.\n",
      "Found 95 images belonging to 1 classes.\n",
      "Found 95 images belonging to 1 classes.\n",
      "Found 95 images belonging to 1 classes.\n",
      "Found 95 images belonging to 1 classes.\n",
      "Found 95 images belonging to 1 classes.\n",
      "Found 95 images belonging to 1 classes.\n",
      "Found 95 images belonging to 1 classes.\n",
      "Found 95 images belonging to 1 classes.\n",
      "Found 95 images belonging to 1 classes.\n",
      "Found 95 images belonging to 1 classes.\n",
      "Found 95 images belonging to 1 classes.\n",
      "Found 95 images belonging to 1 classes.\n",
      "Found 95 images belonging to 1 classes.\n",
      "Found 95 images belonging to 1 classes.\n",
      "Found 95 images belonging to 1 classes.\n",
      "Found 95 images belonging to 1 classes.\n",
      "Found 95 images belonging to 1 classes.\n",
      "Found 95 images belonging to 1 classes.\n",
      "Found 95 images belonging to 1 classes.\n",
      "Found 95 images belonging to 1 classes.\n",
      "Found 95 images belonging to 1 classes.\n",
      "Found 95 images belonging to 1 classes.\n",
      "Found 95 images belonging to 1 classes.\n",
      "Found 95 images belonging to 1 classes.\n",
      "Found 95 images belonging to 1 classes.\n",
      "Found 95 images belonging to 1 classes.\n",
      "Found 95 images belonging to 1 classes.\n",
      "Found 95 images belonging to 1 classes.\n",
      "Found 95 images belonging to 1 classes.\n",
      "Found 95 images belonging to 1 classes.\n",
      "Found 95 images belonging to 1 classes.\n",
      "Found 95 images belonging to 1 classes.\n",
      "Found 95 images belonging to 1 classes.\n",
      "Found 95 images belonging to 1 classes.\n",
      "Found 95 images belonging to 1 classes.\n",
      "Found 95 images belonging to 1 classes.\n",
      "Found 95 images belonging to 1 classes.\n",
      "Found 95 images belonging to 1 classes.\n",
      "Found 95 images belonging to 1 classes.\n",
      "Found 95 images belonging to 1 classes.\n",
      "Found 95 images belonging to 1 classes.\n",
      "Found 95 images belonging to 1 classes.\n",
      "Found 95 images belonging to 1 classes.\n",
      "Found 95 images belonging to 1 classes.\n",
      "Found 95 images belonging to 1 classes.\n",
      "Found 95 images belonging to 1 classes.\n",
      "Found 95 images belonging to 1 classes.\n",
      "Found 95 images belonging to 1 classes.\n",
      "Found 95 images belonging to 1 classes.\n",
      "Found 95 images belonging to 1 classes.\n",
      "1000/1000 [==============================] - 72s 72ms/step - loss: 1.3861 - acc: 0.5120 - precision: 0.2257 - recall: 0.2988 - auc: 0.4895 - specificity_at_sensitivity: 0.4572 - val_loss: 1.4762 - val_acc: 0.0000e+00 - val_precision: 0.2750 - val_recall: 1.0000 - val_auc: 0.4708 - val_specificity_at_sensitivity: 0.2414\n",
      "Epoch 2/12\n",
      "1000/1000 [==============================] - 59s 59ms/step - loss: 1.3659 - acc: 0.3830 - precision: 0.2360 - recall: 0.5021 - auc: 0.4910 - specificity_at_sensitivity: 0.3137 - val_loss: 1.4095 - val_acc: 0.5000 - val_precision: 0.1667 - val_recall: 0.2000 - val_auc: 0.4251 - val_specificity_at_sensitivity: 0.3800\n",
      "Epoch 3/12\n",
      "1000/1000 [==============================] - 59s 59ms/step - loss: 1.3612 - acc: 0.4810 - precision: 0.2121 - recall: 0.3305 - auc: 0.4912 - specificity_at_sensitivity: 0.4511 - val_loss: 1.4935 - val_acc: 0.5350 - val_precision: 0.1778 - val_recall: 0.1429 - val_auc: 0.4500 - val_specificity_at_sensitivity: 0.4236\n",
      "Epoch 4/12\n",
      "1000/1000 [==============================] - 60s 60ms/step - loss: 1.3954 - acc: 0.2650 - precision: 0.2466 - recall: 0.6626 - auc: 0.5011 - specificity_at_sensitivity: 0.4875 - val_loss: 1.5558 - val_acc: 0.7000 - val_precision: 0.0000e+00 - val_recall: 0.0000e+00 - val_auc: 0.5171 - val_specificity_at_sensitivity: 0.4500\n",
      "Epoch 5/12\n",
      "1000/1000 [==============================] - 60s 60ms/step - loss: 1.3980 - acc: 0.3330 - precision: 0.2469 - recall: 0.5610 - auc: 0.5018 - specificity_at_sensitivity: 0.6393 - val_loss: 1.4097 - val_acc: 0.3400 - val_precision: 0.1717 - val_recall: 0.3400 - val_auc: 0.3798 - val_specificity_at_sensitivity: 0.3400\n",
      "Epoch 6/12\n",
      "1000/1000 [==============================] - 60s 60ms/step - loss: 1.3572 - acc: 0.5280 - precision: 0.2445 - recall: 0.3377 - auc: 0.5357 - specificity_at_sensitivity: 0.6112 - val_loss: 1.5405 - val_acc: 0.2950 - val_precision: 0.2991 - val_recall: 0.5932 - val_auc: 0.4585 - val_specificity_at_sensitivity: 0.4397\n",
      "Epoch 7/12\n",
      "1000/1000 [==============================] - 59s 59ms/step - loss: 1.3638 - acc: 0.5090 - precision: 0.2426 - recall: 0.3489 - auc: 0.5101 - specificity_at_sensitivity: 0.5569 - val_loss: 1.4101 - val_acc: 0.4450 - val_precision: 0.1029 - val_recall: 0.1400 - val_auc: 0.3972 - val_specificity_at_sensitivity: 0.2867\n",
      "Epoch 8/12\n",
      "1000/1000 [==============================] - 59s 59ms/step - loss: 1.3689 - acc: 0.5400 - precision: 0.3019 - recall: 0.4034 - auc: 0.5494 - specificity_at_sensitivity: 0.6457 - val_loss: 1.5296 - val_acc: 0.6900 - val_precision: 0.2000 - val_recall: 0.0172 - val_auc: 0.4032 - val_specificity_at_sensitivity: 0.5915\n",
      "Epoch 9/12\n",
      "1000/1000 [==============================] - 59s 59ms/step - loss: 1.4069 - acc: 0.5850 - precision: 0.2961 - recall: 0.2749 - auc: 0.5332 - specificity_at_sensitivity: 0.6088 - val_loss: 1.4922 - val_acc: 0.2500 - val_precision: 0.2636 - val_recall: 0.6182 - val_auc: 0.4307 - val_specificity_at_sensitivity: 0.4414\n",
      "Epoch 10/12\n",
      "1000/1000 [==============================] - 59s 59ms/step - loss: 1.4349 - acc: 0.5930 - precision: 0.2489 - recall: 0.2500 - auc: 0.5142 - specificity_at_sensitivity: 0.3932 - val_loss: 1.4801 - val_acc: 0.7100 - val_precision: 0.0000e+00 - val_recall: 0.0000e+00 - val_auc: 0.4520 - val_specificity_at_sensitivity: 0.0069\n",
      "Epoch 11/12\n",
      "1000/1000 [==============================] - 60s 60ms/step - loss: 1.3947 - acc: 0.5320 - precision: 0.2939 - recall: 0.3725 - auc: 0.5377 - specificity_at_sensitivity: 0.4303 - val_loss: 1.4370 - val_acc: 0.4050 - val_precision: 0.2386 - val_recall: 0.4038 - val_auc: 0.4550 - val_specificity_at_sensitivity: 0.4527\n"
     ]
    },
    {
     "name": "stdout",
     "output_type": "stream",
     "text": [
      "Epoch 12/12\n",
      "1000/1000 [==============================] - 59s 59ms/step - loss: 1.3354 - acc: 0.6500 - precision: 0.2955 - recall: 0.2301 - auc: 0.5228 - specificity_at_sensitivity: 0.3811 - val_loss: 1.5909 - val_acc: 0.5650 - val_precision: 0.1875 - val_recall: 0.0984 - val_auc: 0.4065 - val_specificity_at_sensitivity: 0.4245\n"
     ]
    }
   ],
   "source": [
    "model_history = model.fit_generator(\n",
    "    train_generator,\n",
    "    validation_data= val_generator,\n",
    "    validation_steps=200,\n",
    "    steps_per_epoch=1000,\n",
    "    epochs = 12\n",
    ")"
   ]
  },
  {
   "cell_type": "code",
   "execution_count": 8,
   "metadata": {},
   "outputs": [],
   "source": [
    "model.save('nlst_cnn.hdf5') "
   ]
  },
  {
   "cell_type": "code",
   "execution_count": 9,
   "metadata": {},
   "outputs": [],
   "source": [
    "# model.load_weights('nlst_cnn_curbest.hdf5')\n",
    "model.load_weights('nlst_cnn.hdf5')"
   ]
  },
  {
   "cell_type": "code",
   "execution_count": 10,
   "metadata": {},
   "outputs": [],
   "source": [
    "with open('data/nlst_test/image_roi_3d/patient_lookup.pkl', 'rb') as input_file:\n",
    "    PatientLookup = pkl.load(input_file)\n",
    "\n",
    "Patient_Xs = {}\n",
    "Patient_Ys = {}\n",
    "\n",
    "Xs = []\n",
    "Ys = []\n",
    "for im in os.listdir('data/nlst_test/image_roi_3d/pkls/'):\n",
    "    path = f'data/nlst_test/image_roi_3d/pkls/{im}'\n",
    "    with open(path, 'rb') as input_file:\n",
    "        cube, label = pkl.load(input_file)\n",
    "    cube = cube[:50][:50][:50]\n",
    "    if cube.shape[0] < 50 or cube.shape[1] < 50 or cube.shape[2] < 50:\n",
    "        pass\n",
    "    else:\n",
    "        pid = PatientLookup[int(im[:-4])]\n",
    "        if Patient_Xs.get(pid):\n",
    "            Patient_Xs[pid].append(np.array(cube/255).reshape(50, 50, 50, 1))\n",
    "        else:\n",
    "            Patient_Xs[pid] = [np.array(cube/255).reshape(50, 50, 50, 1)]\n",
    "        Patient_Ys[pid] = label\n",
    "        Xs.append(np.array(cube/255).reshape(50, 50, 50, 1))\n",
    "        Ys.append(label)"
   ]
  },
  {
   "cell_type": "code",
   "execution_count": 11,
   "metadata": {},
   "outputs": [
    {
     "name": "stdout",
     "output_type": "stream",
     "text": [
      "0.7482014388489209\n",
      "0.5708771929824562\n"
     ]
    },
    {
     "data": {
      "image/png": "[encoded data removed]",
      "text/plain": [
       "<Figure size 432x288 with 1 Axes>"
      ]
     },
     "metadata": {},
     "output_type": "display_data"
    }
   ],
   "source": [
    "Xs = np.array(Xs)\n",
    "Ys = np.array(Ys)\n",
    "x = np.concatenate([model.predict(Xs[i*10:(i+1)*10]) for i in range(14)])\n",
    "print(accuracy_score(Ys, np.round(x)))\n",
    "print(roc_auc_score(Ys, x))\n",
    "\n",
    "fig, ax = plt.subplots(1, 1)\n",
    "plot_auc(Ys, x, ax)"
   ]
  },
  {
   "cell_type": "code",
   "execution_count": 12,
   "metadata": {},
   "outputs": [
    {
     "name": "stdout",
     "output_type": "stream",
     "text": [
      "Patient accuracy (using mean score):    0.7076923076923077\n",
      "Patient accuracy (using highest value): 0.7076923076923077\n",
      "\n",
      "Patient AUC (using mean score):    0.5957446808510638\n",
      "Patient AUC (using highest value): 0.6418439716312057\n"
     ]
    },
    {
     "data": {
      "image/png": "[encoded data removed]",
      "text/plain": [
       "<Figure size 864x288 with 2 Axes>"
      ]
     },
     "metadata": {},
     "output_type": "display_data"
    }
   ],
   "source": [
    "patient_preds_mean = []\n",
    "patient_preds_greatest = []\n",
    "\n",
    "for pid, Xs in Patient_Xs.items():\n",
    "    preds = model.predict(np.array(Xs))\n",
    "    patient_preds_mean.append(preds.mean())\n",
    "    preds = sorted(preds, key=lambda x: abs(x-.5), reverse=True)\n",
    "    patient_preds_greatest.append(np.array(preds[:1]).mean())\n",
    "    \n",
    "print(\"Patient accuracy (using mean score):    \" + str(accuracy_score(list(Patient_Ys.values()), np.round(patient_preds_mean))))\n",
    "print(\"Patient accuracy (using highest value): \" + str(accuracy_score(list(Patient_Ys.values()), np.round(patient_preds_greatest))))\n",
    "\n",
    "print(\"\\nPatient AUC (using mean score):    \" + str(roc_auc_score(list(Patient_Ys.values()), patient_preds_mean)))\n",
    "print(\"Patient AUC (using highest value): \" + str(roc_auc_score(list(Patient_Ys.values()), patient_preds_greatest)))\n",
    "\n",
    "fig, axs = plt.subplots(1, 2, figsize=(12, 4))\n",
    "plot_auc(list(Patient_Ys.values()), patient_preds_mean, axs[0])\n",
    "plot_auc(list(Patient_Ys.values()), patient_preds_greatest, axs[1])\n",
    "\n",
    "axs[0].set_title(\"Patient AUC Using Mean Score\")\n",
    "axs[1].set_title(\"Patient AUC Using Highest Score\")\n",
    "\n",
    "plt.show()"
   ]
  },
  {
   "cell_type": "code",
   "execution_count": 13,
   "metadata": {},
   "outputs": [
    {
     "data": {
      "text/plain": [
       "dict_values([0, 1, 0, 0, 1, 0, 1, 0, 1, 0, 0, 0, 1, 0, 1, 0, 0, 1, 1, 0, 0, 0, 0, 0, 1, 0, 1, 0, 0, 0, 0, 0, 0, 0, 0, 0, 1, 0, 0, 0, 0, 1, 0, 1, 0, 1, 0, 1, 0, 0, 1, 0, 0, 0, 0, 0, 1, 1, 0, 0, 0, 0, 0, 0, 0])"
      ]
     },
     "execution_count": 13,
     "metadata": {},
     "output_type": "execute_result"
    }
   ],
   "source": [
    "Patient_Ys.values()"
   ]
  },
  {
   "cell_type": "code",
   "execution_count": 14,
   "metadata": {},
   "outputs": [
    {
     "data": {
      "text/plain": [
       "array([0., 0., 0., 0., 1., 0., 1., 0., 0., 0., 0., 0., 0., 0., 0., 0., 0.,\n",
       "       0., 0., 0., 0., 0., 1., 0., 0., 0., 0., 1., 0., 1., 0., 0., 0., 0.,\n",
       "       0., 0., 0., 0., 0., 0., 0., 0., 0., 0., 0., 1., 0., 0., 0., 0., 0.,\n",
       "       0., 0., 0., 0., 1., 1., 0., 0., 0., 0., 0., 0., 0., 1.],\n",
       "      dtype=float32)"
      ]
     },
     "execution_count": 14,
     "metadata": {},
     "output_type": "execute_result"
    }
   ],
   "source": [
    "np.round(patient_preds_mean)"
   ]
  },
  {
   "cell_type": "code",
   "execution_count": 15,
   "metadata": {},
   "outputs": [
    {
     "data": {
      "text/plain": [
       "[0.45886764,\n",
       " 0.49237928,\n",
       " 0.47675332,\n",
       " 0.4535722,\n",
       " 0.508988,\n",
       " 0.48629957,\n",
       " 0.50959986,\n",
       " 0.4782084,\n",
       " 0.47914407,\n",
       " 0.4562577,\n",
       " 0.4553543,\n",
       " 0.4567511,\n",
       " 0.4577695,\n",
       " 0.45573252,\n",
       " 0.47311243,\n",
       " 0.4865577,\n",
       " 0.46157062,\n",
       " 0.4608271,\n",
       " 0.4564479,\n",
       " 0.4949377,\n",
       " 0.48661825,\n",
       " 0.46763995,\n",
       " 0.50635594,\n",
       " 0.45615244,\n",
       " 0.4802789,\n",
       " 0.45993292,\n",
       " 0.47497106,\n",
       " 0.5030272,\n",
       " 0.49271625,\n",
       " 0.5140514,\n",
       " 0.46885115,\n",
       " 0.45567572,\n",
       " 0.46243802,\n",
       " 0.45377705,\n",
       " 0.4575139,\n",
       " 0.45684916,\n",
       " 0.45439112,\n",
       " 0.45267558,\n",
       " 0.4777585,\n",
       " 0.47615132,\n",
       " 0.4801269,\n",
       " 0.44994658,\n",
       " 0.4592149,\n",
       " 0.45313412,\n",
       " 0.4641751,\n",
       " 0.5169327,\n",
       " 0.4570039,\n",
       " 0.48685122,\n",
       " 0.45518106,\n",
       " 0.47694644,\n",
       " 0.47419906,\n",
       " 0.46396214,\n",
       " 0.45598742,\n",
       " 0.45339534,\n",
       " 0.4556107,\n",
       " 0.50385803,\n",
       " 0.5049497,\n",
       " 0.4631543,\n",
       " 0.45329654,\n",
       " 0.46279106,\n",
       " 0.45540202,\n",
       " 0.47361776,\n",
       " 0.4970167,\n",
       " 0.47223514,\n",
       " 0.50858927]"
      ]
     },
     "execution_count": 15,
     "metadata": {},
     "output_type": "execute_result"
    }
   ],
   "source": [
    "patient_preds_mean"
   ]
  },
  {
   "cell_type": "code",
   "execution_count": null,
   "metadata": {},
   "outputs": [],
   "source": []
  }
 ],
 "metadata": {
  "kernelspec": {
   "display_name": "Python 3",
   "language": "python",
   "name": "python3"
  },
  "language_info": {
   "codemirror_mode": {
    "name": "ipython",
    "version": 3
   },
   "file_extension": ".py",
   "mimetype": "text/x-python",
   "name": "python",
   "nbconvert_exporter": "python",
   "pygments_lexer": "ipython3",
   "version": "3.6.5"
  }
 },
 "nbformat": 4,
 "nbformat_minor": 2
}
