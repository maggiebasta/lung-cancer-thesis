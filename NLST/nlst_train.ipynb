{
 "cells": [
  {
   "cell_type": "code",
   "execution_count": 1,
   "metadata": {},
   "outputs": [
    {
     "name": "stdout",
     "output_type": "stream",
     "text": [
      "1.14.0\n"
     ]
    }
   ],
   "source": [
    "import os\n",
    "import sys \n",
    "\n",
    "import matplotlib.pyplot as plt\n",
    "import pandas as pd\n",
    "import pickle as pkl\n",
    "import tensorflow as tf\n",
    "# from keras import backend as K\n",
    "from skimage import io\n",
    "from sklearn.metrics import roc_curve, auc, roc_auc_score\n",
    "from tensorflow.keras.preprocessing.image import (\n",
    "    ImageDataGenerator,\n",
    "    img_to_array,\n",
    "    load_img\n",
    ")\n",
    "\n",
    "from data_generator_3d import *\n",
    "from cnn_baseline import *\n",
    "\n",
    "print(tf.__version__)\n",
    "\n",
    "# from keras.utils import multi_gpu_model"
   ]
  },
  {
   "cell_type": "code",
   "execution_count": 2,
   "metadata": {},
   "outputs": [],
   "source": [
    "image_generator = ImageDataGenerator(\n",
    "#     rotation_range=5,\n",
    "    rescale=1./255,\n",
    "    shear_range=.1,\n",
    "#     zoom_range=.1,\n",
    "#     brightness_range=[.85, 1.0],\n",
    "#     zca_whitening=True,\n",
    "    horizontal_flip=True,\n",
    "    vertical_flip=True,\n",
    "    height_shift_range=5,\n",
    "    width_shift_range=5,\n",
    "    fill_mode='nearest',\n",
    "    validation_split=0.0\n",
    ")\n",
    "\n",
    "label_generator = ImageDataGenerator(\n",
    "    validation_split=0.0\n",
    ")\n",
    "\n",
    "# train_generator = image_generator.flow_from_directory(\n",
    "#     directory=\"data/nlst_train/image_full\",\n",
    "#     color_mode=\"grayscale\",\n",
    "#     target_size=(256, 256),\n",
    "#     batch_size=12,\n",
    "#     class_mode=\"binary\",\n",
    "#     shuffle=True,\n",
    "#     seed=42\n",
    "# )\n",
    "\n",
    "# train_generator = image_generator.flow_from_directory(\n",
    "#     directory=\"data/nlst_train/image_roi_2d\",\n",
    "#     color_mode=\"grayscale\",\n",
    "#     target_size=(32, 32),\n",
    "#     batch_size=16,\n",
    "#     class_mode=\"binary\",\n",
    "#     shuffle=True,\n",
    "#     seed=42\n",
    "# )\n",
    "\n",
    "train_generator = generator(\n",
    "    base_directory='data/nlst_train/image_roi_3d',\n",
    "    input_gen=image_generator,\n",
    "    target_gen=label_generator,\n",
    "    batch_sz=1\n",
    "    \n",
    ")\n",
    "\n",
    "val_generator = generator(\n",
    "    base_directory='data/nlst_val/image_roi_3d',\n",
    "    input_gen=image_generator,\n",
    "    target_gen=label_generator,\n",
    "    batch_sz=1\n",
    "    \n",
    ")"
   ]
  },
  {
   "cell_type": "code",
   "execution_count": 3,
   "metadata": {},
   "outputs": [
    {
     "data": {
      "image/png": "[encoded data removed]",
      "text/plain": [
       "<Figure size 1152x576 with 4 Axes>"
      ]
     },
     "metadata": {},
     "output_type": "display_data"
    }
   ],
   "source": [
    "show_augmentation('data/nlst_train/image_roi_3d/25/0.tif', image_generator, n_rows=1)"
   ]
  },
  {
   "cell_type": "code",
   "execution_count": 4,
   "metadata": {},
   "outputs": [],
   "source": [
    "def convert_to_logits(y_pred):\n",
    "    y_pred = tf.clip_by_value(\n",
    "        y_pred, tf.keras.backend.epsilon(),\n",
    "        1 - tf.keras.backend.epsilon()\n",
    "    )\n",
    "\n",
    "    return tf.math.log(y_pred / (1 - y_pred))\n",
    "\n",
    "\n",
    "def weighted_cross_entropy(y_true, y_pred):\n",
    "    y_pred = convert_to_logits(y_pred)\n",
    "    loss = tf.nn.weighted_cross_entropy_with_logits(\n",
    "        logits=y_pred,\n",
    "        labels=y_true,\n",
    "        pos_weight=1000\n",
    "    )\n",
    "    return tf.reduce_mean(loss)"
   ]
  },
  {
   "cell_type": "code",
   "execution_count": 5,
   "metadata": {
    "scrolled": true
   },
   "outputs": [
    {
     "name": "stdout",
     "output_type": "stream",
     "text": [
      "WARNING:tensorflow:From /home/ubuntu/anaconda3/envs/tensorflow_p36/lib/python3.6/site-packages/tensorflow/python/ops/init_ops.py:1251: calling VarianceScaling.__init__ (from tensorflow.python.ops.init_ops) with dtype is deprecated and will be removed in a future version.\n",
      "Instructions for updating:\n",
      "Call initializer instance with the dtype argument instead of passing it to the constructor\n"
     ]
    }
   ],
   "source": [
    "# model = cnn_baseline()\n",
    "# model = cnn_baseline(input_shape=(32, 32, 1))\n",
    "model = cnn_baseline_3d(input_shape=(50, 50, 50, 1))\n",
    "\n",
    "model.compile(\n",
    "    optimizer = tf.keras.optimizers.Adam(lr = 5e-5),\n",
    "#     loss=tf.keras.losses.binary_crossentropy,\n",
    "    loss=weighted_cross_entropy,\n",
    "    metrics = [\n",
    "        'accuracy',\n",
    "        tf.keras.metrics.Precision(),\n",
    "        tf.keras.metrics.Recall(),\n",
    "        tf.keras.metrics.AUC(),\n",
    "        tf.keras.metrics.SpecificityAtSensitivity(.5),\n",
    "    ]\n",
    ")\n",
    "# model_checkpoint = ModelCheckpoint(MODEL_NAME, monitor='loss',verbose=0, save_best_only=True)\n",
    "# parallel_model = multi_gpu_model(model)"
   ]
  },
  {
   "cell_type": "code",
   "execution_count": 6,
   "metadata": {
    "scrolled": true
   },
   "outputs": [
    {
     "name": "stdout",
     "output_type": "stream",
     "text": [
      "Found 729 images belonging to 1 classes.\n",
      "Found 729 images belonging to 1 classes.\n",
      "Found 729 images belonging to 1 classes.\n",
      "Found 729 images belonging to 1 classes.\n",
      "Found 729 images belonging to 1 classes.\n",
      "Found 729 images belonging to 1 classes.\n",
      "Found 729 images belonging to 1 classes.\n",
      "Found 729 images belonging to 1 classes.\n",
      "Found 729 images belonging to 1 classes.\n",
      "Found 729 images belonging to 1 classes.\n",
      "Found 729 images belonging to 1 classes.\n",
      "Found 729 images belonging to 1 classes.\n",
      "Found 729 images belonging to 1 classes.\n",
      "Found 729 images belonging to 1 classes.\n",
      "Epoch 1/7\n",
      "Found 729 images belonging to 1 classes.\n",
      "Found 729 images belonging to 1 classes.\n",
      "Found 729 images belonging to 1 classes.\n",
      "Found 729 images belonging to 1 classes.\n",
      "Found 729 images belonging to 1 classes.\n",
      "Found 729 images belonging to 1 classes.\n",
      "Found 729 images belonging to 1 classes.\n",
      "Found 729 images belonging to 1 classes.\n",
      "Found 729 images belonging to 1 classes.\n",
      "Found 729 images belonging to 1 classes.\n",
      "Found 729 images belonging to 1 classes.\n",
      "Found 729 images belonging to 1 classes.\n",
      "Found 729 images belonging to 1 classes.\n",
      "Found 729 images belonging to 1 classes.\n",
      "Found 729 images belonging to 1 classes.\n",
      "Found 729 images belonging to 1 classes.\n",
      "Found 729 images belonging to 1 classes.\n",
      "Found 729 images belonging to 1 classes.\n",
      "Found 729 images belonging to 1 classes.\n",
      "Found 729 images belonging to 1 classes.\n",
      "Found 729 images belonging to 1 classes.\n",
      "Found 729 images belonging to 1 classes.\n",
      "Found 729 images belonging to 1 classes.\n",
      "Found 729 images belonging to 1 classes.\n",
      "Found 729 images belonging to 1 classes.\n",
      "Found 729 images belonging to 1 classes.\n",
      "Found 729 images belonging to 1 classes.\n",
      "Found 729 images belonging to 1 classes.\n",
      "Found 729 images belonging to 1 classes.\n",
      "Found 729 images belonging to 1 classes.\n",
      "Found 729 images belonging to 1 classes.\n",
      "Found 729 images belonging to 1 classes.\n",
      "Found 729 images belonging to 1 classes.\n",
      "Found 729 images belonging to 1 classes.\n",
      "Found 729 images belonging to 1 classes.\n",
      "Found 729 images belonging to 1 classes.\n",
      "Found 729 images belonging to 1 classes.\n",
      "WARNING:tensorflow:From /home/ubuntu/anaconda3/envs/tensorflow_p36/lib/python3.6/site-packages/tensorflow/python/ops/math_grad.py:1250: add_dispatch_support.<locals>.wrapper (from tensorflow.python.ops.array_ops) is deprecated and will be removed in a future version.\n",
      "Instructions for updating:\n",
      "Use tf.where in 2.0, which has the same broadcast rule as np.where\n",
      "1398/1400 [============================>.] - ETA: 0s - loss: 1.4167 - acc: 0.4413 - precision: 0.2647 - recall: 0.4894 - auc: 0.5373 - specificity_at_sensitivity: 0.5679Found 83 images belonging to 1 classes.\n",
      "Found 83 images belonging to 1 classes.\n",
      "Found 83 images belonging to 1 classes.\n",
      "Found 83 images belonging to 1 classes.\n",
      "Found 83 images belonging to 1 classes.\n",
      "Found 83 images belonging to 1 classes.\n",
      "Found 83 images belonging to 1 classes.\n",
      "Found 83 images belonging to 1 classes.\n",
      "Found 83 images belonging to 1 classes.\n",
      "Found 83 images belonging to 1 classes.\n",
      "Found 83 images belonging to 1 classes.\n",
      "Found 83 images belonging to 1 classes.\n",
      "Found 83 images belonging to 1 classes.\n",
      "Found 83 images belonging to 1 classes.\n",
      "Found 83 images belonging to 1 classes.\n",
      "Found 83 images belonging to 1 classes.\n",
      "Found 83 images belonging to 1 classes.\n",
      "Found 83 images belonging to 1 classes.\n",
      "Found 83 images belonging to 1 classes.\n",
      "Found 83 images belonging to 1 classes.\n",
      "Found 83 images belonging to 1 classes.\n",
      "Found 83 images belonging to 1 classes.\n",
      "Found 83 images belonging to 1 classes.\n",
      "Found 83 images belonging to 1 classes.\n",
      "Found 83 images belonging to 1 classes.\n",
      "Found 83 images belonging to 1 classes.\n",
      "Found 83 images belonging to 1 classes.\n",
      "Found 83 images belonging to 1 classes.\n",
      "Found 83 images belonging to 1 classes.\n",
      "Found 83 images belonging to 1 classes.\n",
      "Found 83 images belonging to 1 classes.\n",
      "Found 83 images belonging to 1 classes.\n",
      "Found 83 images belonging to 1 classes.\n",
      "Found 83 images belonging to 1 classes.\n",
      "Found 83 images belonging to 1 classes.\n",
      "Found 83 images belonging to 1 classes.\n",
      "Found 83 images belonging to 1 classes.\n",
      "Found 83 images belonging to 1 classes.\n",
      "Found 83 images belonging to 1 classes.\n",
      "Found 83 images belonging to 1 classes.\n",
      "Found 83 images belonging to 1 classes.\n",
      "Found 83 images belonging to 1 classes.\n",
      "Found 83 images belonging to 1 classes.\n",
      "Found 83 images belonging to 1 classes.\n",
      "Found 83 images belonging to 1 classes.\n",
      "Found 83 images belonging to 1 classes.\n",
      "Found 83 images belonging to 1 classes.\n",
      "Found 83 images belonging to 1 classes.\n",
      "Found 83 images belonging to 1 classes.\n",
      "Found 83 images belonging to 1 classes.\n",
      "Found 83 images belonging to 1 classes.\n",
      "1400/1400 [==============================] - 94s 67ms/step - loss: 1.4181 - acc: 0.4414 - precision: 0.2647 - recall: 0.4880 - auc: 0.5366 - specificity_at_sensitivity: 0.5684 - val_loss: 1.1830 - val_acc: 0.8067 - val_precision: 0.0000e+00 - val_recall: 0.0000e+00 - val_auc: 0.6264 - val_specificity_at_sensitivity: 0.5702\n",
      "Epoch 2/7\n",
      "1400/1400 [==============================] - 78s 56ms/step - loss: 1.3494 - acc: 0.4700 - precision: 0.2430 - recall: 0.3922 - auc: 0.5022 - specificity_at_sensitivity: 0.5253 - val_loss: 1.1233 - val_acc: 0.8000 - val_precision: 0.4444 - val_recall: 0.1600 - val_auc: 0.6110 - val_specificity_at_sensitivity: 0.5360\n",
      "Epoch 3/7\n",
      "1400/1400 [==============================] - 77s 55ms/step - loss: 1.3337 - acc: 0.6129 - precision: 0.2140 - recall: 0.1763 - auc: 0.4927 - specificity_at_sensitivity: 0.5490 - val_loss: 1.1784 - val_acc: 0.6867 - val_precision: 0.3333 - val_recall: 0.3704 - val_auc: 0.5827 - val_specificity_at_sensitivity: 0.6016\n",
      "Epoch 4/7\n",
      "1400/1400 [==============================] - 77s 55ms/step - loss: 1.3480 - acc: 0.6464 - precision: 0.2319 - recall: 0.1429 - auc: 0.4773 - specificity_at_sensitivity: 0.4060 - val_loss: 1.2257 - val_acc: 0.8067 - val_precision: 0.0000e+00 - val_recall: 0.0000e+00 - val_auc: 0.3246 - val_specificity_at_sensitivity: 0.1818\n",
      "Epoch 5/7\n",
      "1400/1400 [==============================] - 77s 55ms/step - loss: 1.3302 - acc: 0.7286 - precision: 0.2535 - recall: 0.0550 - auc: 0.4932 - specificity_at_sensitivity: 0.5862 - val_loss: 1.1666 - val_acc: 0.8267 - val_precision: 0.0000e+00 - val_recall: 0.0000e+00 - val_auc: 0.3620 - val_specificity_at_sensitivity: 0.3306\n",
      "Epoch 6/7\n",
      "1400/1400 [==============================] - 76s 55ms/step - loss: 1.3482 - acc: 0.6871 - precision: 0.2701 - recall: 0.1095 - auc: 0.5035 - specificity_at_sensitivity: 0.5066 - val_loss: 1.1712 - val_acc: 0.7867 - val_precision: 0.4444 - val_recall: 0.1481 - val_auc: 0.4566 - val_specificity_at_sensitivity: 0.2683\n",
      "Epoch 7/7\n",
      "1400/1400 [==============================] - 78s 55ms/step - loss: 1.3263 - acc: 0.6764 - precision: 0.3169 - recall: 0.1768 - auc: 0.5263 - specificity_at_sensitivity: 0.4021 - val_loss: 1.1310 - val_acc: 0.5800 - val_precision: 0.2963 - val_recall: 0.6400 - val_auc: 0.6826 - val_specificity_at_sensitivity: 0.7360\n"
     ]
    }
   ],
   "source": [
    "model_history = model.fit_generator(\n",
    "    train_generator,\n",
    "    validation_data= val_generator,\n",
    "    validation_steps=150,\n",
    "    steps_per_epoch=1400,\n",
    "    epochs = 7,\n",
    ")"
   ]
  },
  {
   "cell_type": "code",
   "execution_count": 7,
   "metadata": {},
   "outputs": [],
   "source": [
    "model.save('nlst_cnn.hdf5') "
   ]
  },
  {
   "cell_type": "code",
   "execution_count": 8,
   "metadata": {},
   "outputs": [],
   "source": [
    "# model.load_weights('nlst_cnn_0.hdf5')\n",
    "model.load_weights('nlst_cnn.hdf5')"
   ]
  },
  {
   "cell_type": "code",
   "execution_count": 19,
   "metadata": {},
   "outputs": [
    {
     "data": {
      "text/plain": [
       "0.5783333333333334"
      ]
     },
     "execution_count": 19,
     "metadata": {},
     "output_type": "execute_result"
    }
   ],
   "source": [
    "with open('data/nlst_test/image_roi_3d/patient_lookup.pkl', 'rb') as input_file:\n",
    "    PatientLookup = pkl.load(input_file)\n",
    "\n",
    "Patient_Xs = {}\n",
    "Patient_Ys = {}\n",
    "\n",
    "Xs = []\n",
    "Ys = []\n",
    "for im in os.listdir('data/nlst_test/image_roi_3d/pkls/'):\n",
    "    path = f'data/nlst_test/image_roi_3d/pkls/{im}'\n",
    "    with open(path, 'rb') as input_file:\n",
    "        cube, label = pkl.load(input_file)\n",
    "    cube = cube[:50][:50][:50]\n",
    "    if cube.shape[0] < 50 or cube.shape[1] < 50 or cube.shape[2] < 50:\n",
    "        pass\n",
    "    else:\n",
    "        pid = PatientLookup[int(im[:-4])]\n",
    "        if Patient_Xs.get(pid):\n",
    "            Patient_Xs[pid].append(np.array(cube/255).reshape(50, 50, 50, 1))\n",
    "        else:\n",
    "            Patient_Xs[pid] = [np.array(cube/255).reshape(50, 50, 50, 1)]\n",
    "        Patient_Ys[pid] = label\n",
    "        Xs.append(np.array(cube/255).reshape(50, 50, 50, 1))\n",
    "        Ys.append(label)\n",
    "        \n",
    "\n",
    "Xs = np.array(Xs)\n",
    "Ys = np.array(Ys)\n",
    "\n",
    "preds = model.predict(Xs)\n",
    "roc_auc_score(Ys, preds)"
   ]
  },
  {
   "cell_type": "code",
   "execution_count": 22,
   "metadata": {},
   "outputs": [],
   "source": [
    "patient_preds = []\n",
    "for pid, Xs in Patient_Xs.items():\n",
    "    patient_preds.append(model.predict(np.array(Xs)).mean())"
   ]
  },
  {
   "cell_type": "code",
   "execution_count": 26,
   "metadata": {},
   "outputs": [
    {
     "data": {
      "text/plain": [
       "0.7111111111111111"
      ]
     },
     "execution_count": 26,
     "metadata": {},
     "output_type": "execute_result"
    }
   ],
   "source": [
    "roc_auc_score(list(Patient_Ys.values()), patient_preds)"
   ]
  }
 ],
 "metadata": {
  "kernelspec": {
   "display_name": "Python 3",
   "language": "python",
   "name": "python3"
  },
  "language_info": {
   "codemirror_mode": {
    "name": "ipython",
    "version": 3
   },
   "file_extension": ".py",
   "mimetype": "text/x-python",
   "name": "python",
   "nbconvert_exporter": "python",
   "pygments_lexer": "ipython3",
   "version": "3.6.5"
  }
 },
 "nbformat": 4,
 "nbformat_minor": 2
}
