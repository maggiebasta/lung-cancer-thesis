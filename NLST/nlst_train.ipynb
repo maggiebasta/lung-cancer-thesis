{
 "cells": [
  {
   "cell_type": "code",
   "execution_count": 1,
   "metadata": {},
   "outputs": [
    {
     "name": "stdout",
     "output_type": "stream",
     "text": [
      "1.14.0\n"
     ]
    }
   ],
   "source": [
    "import os\n",
    "import sys \n",
    "\n",
    "import matplotlib.pyplot as plt\n",
    "import pandas as pd\n",
    "import pickle as pkl\n",
    "import tensorflow as tf\n",
    "# from keras import backend as K\n",
    "from skimage import io\n",
    "from sklearn.metrics import roc_curve, auc, roc_auc_score\n",
    "from tensorflow.keras.preprocessing.image import (\n",
    "    ImageDataGenerator,\n",
    "    img_to_array,\n",
    "    load_img\n",
    ")\n",
    "\n",
    "from data_generator_3d import *\n",
    "from cnn_baseline import *\n",
    "\n",
    "print(tf.__version__)\n",
    "\n",
    "# from keras.utils import multi_gpu_model"
   ]
  },
  {
   "cell_type": "code",
   "execution_count": 2,
   "metadata": {},
   "outputs": [
    {
     "name": "stderr",
     "output_type": "stream",
     "text": [
      "/home/ubuntu/anaconda3/envs/tensorflow_p36/lib/python3.6/site-packages/keras_preprocessing/image/image_data_generator.py:336: UserWarning: This ImageDataGenerator specifies `zca_whitening`, which overrides setting of `featurewise_center`.\n",
      "  warnings.warn('This ImageDataGenerator specifies '\n"
     ]
    }
   ],
   "source": [
    "image_generator = ImageDataGenerator(\n",
    "#     rotation_range=5,\n",
    "    rescale=1./255,\n",
    "    shear_range=.1,\n",
    "#     zoom_range=.1,\n",
    "#     brightness_range=[.85, 1.0],\n",
    "#     zca_whitening=True,\n",
    "    horizontal_flip=True,\n",
    "    vertical_flip=True,\n",
    "    height_shift_range=5,\n",
    "    width_shift_range=5,\n",
    "    fill_mode='nearest',\n",
    "    validation_split=0.0\n",
    ")\n",
    "\n",
    "label_generator = ImageDataGenerator(\n",
    "    validation_split=0.0\n",
    ")\n",
    "\n",
    "# train_generator = image_generator.flow_from_directory(\n",
    "#     directory=\"data/nlst_train/image_full\",\n",
    "#     color_mode=\"grayscale\",\n",
    "#     target_size=(256, 256),\n",
    "#     batch_size=12,\n",
    "#     class_mode=\"binary\",\n",
    "#     shuffle=True,\n",
    "#     seed=42\n",
    "# )\n",
    "\n",
    "# train_generator = image_generator.flow_from_directory(\n",
    "#     directory=\"data/nlst_train/image_roi_2d\",\n",
    "#     color_mode=\"grayscale\",\n",
    "#     target_size=(32, 32),\n",
    "#     batch_size=16,\n",
    "#     class_mode=\"binary\",\n",
    "#     shuffle=True,\n",
    "#     seed=42\n",
    "# )\n",
    "\n",
    "train_generator = generator(\n",
    "    base_directory='data/nlst_train/image_roi_3d',\n",
    "    input_gen=image_generator,\n",
    "    target_gen=label_generator,\n",
    "    batch_sz=1\n",
    "    \n",
    ")\n",
    "\n",
    "val_generator = generator(\n",
    "    base_directory='data/nlst_val/image_roi_3d',\n",
    "    input_gen=image_generator,\n",
    "    target_gen=label_generator,\n",
    "    batch_sz=1\n",
    "    \n",
    ")"
   ]
  },
  {
   "cell_type": "code",
   "execution_count": 3,
   "metadata": {},
   "outputs": [
    {
     "name": "stderr",
     "output_type": "stream",
     "text": [
      "/home/ubuntu/anaconda3/envs/tensorflow_p36/lib/python3.6/site-packages/keras_preprocessing/image/image_data_generator.py:716: UserWarning: This ImageDataGenerator specifies `featurewise_center`, but it hasn't been fit on any training data. Fit it first by calling `.fit(numpy_data)`.\n",
      "  warnings.warn('This ImageDataGenerator specifies '\n",
      "/home/ubuntu/anaconda3/envs/tensorflow_p36/lib/python3.6/site-packages/keras_preprocessing/image/image_data_generator.py:735: UserWarning: This ImageDataGenerator specifies `zca_whitening`, but it hasn't been fit on any training data. Fit it first by calling `.fit(numpy_data)`.\n",
      "  warnings.warn('This ImageDataGenerator specifies '\n"
     ]
    },
    {
     "data": {
      "image/png": "[encoded data removed]",
      "text/plain": [
       "<Figure size 1152x576 with 4 Axes>"
      ]
     },
     "metadata": {},
     "output_type": "display_data"
    }
   ],
   "source": [
    "show_augmentation('data/nlst_train/image_roi_3d/25/1.tif', image_generator, n_rows=1)"
   ]
  },
  {
   "cell_type": "code",
   "execution_count": 4,
   "metadata": {},
   "outputs": [],
   "source": [
    "def convert_to_logits(y_pred):\n",
    "    y_pred = tf.clip_by_value(\n",
    "        y_pred, tf.keras.backend.epsilon(),\n",
    "        1 - tf.keras.backend.epsilon()\n",
    "    )\n",
    "\n",
    "    return tf.math.log(y_pred / (1 - y_pred))\n",
    "\n",
    "\n",
    "def weighted_cross_entropy(y_true, y_pred):\n",
    "    y_pred = convert_to_logits(y_pred)\n",
    "    loss = tf.nn.weighted_cross_entropy_with_logits(\n",
    "        logits=y_pred,\n",
    "        labels=y_true,\n",
    "        pos_weight=900\n",
    "    )\n",
    "    return tf.reduce_mean(loss)"
   ]
  },
  {
   "cell_type": "code",
   "execution_count": 5,
   "metadata": {
    "scrolled": true
   },
   "outputs": [
    {
     "name": "stdout",
     "output_type": "stream",
     "text": [
      "WARNING:tensorflow:From /home/ubuntu/anaconda3/envs/tensorflow_p36/lib/python3.6/site-packages/tensorflow/python/ops/init_ops.py:1251: calling VarianceScaling.__init__ (from tensorflow.python.ops.init_ops) with dtype is deprecated and will be removed in a future version.\n",
      "Instructions for updating:\n",
      "Call initializer instance with the dtype argument instead of passing it to the constructor\n"
     ]
    }
   ],
   "source": [
    "# model = cnn_baseline()\n",
    "# model = cnn_baseline(input_shape=(32, 32, 1))\n",
    "model = cnn_baseline_3d(input_shape=(50, 50, 50, 1))\n",
    "\n",
    "model.compile(\n",
    "    optimizer = tf.keras.optimizers.Adam(lr = 1e-5),\n",
    "#     loss=tf.keras.losses.binary_crossentropy,\n",
    "    loss=weighted_cross_entropy,\n",
    "    metrics = [\n",
    "        'accuracy',\n",
    "        tf.keras.metrics.Precision(),\n",
    "        tf.keras.metrics.Recall(),\n",
    "        tf.keras.metrics.AUC(),\n",
    "        tf.keras.metrics.SpecificityAtSensitivity(.5),\n",
    "    ]\n",
    ")\n",
    "# model_checkpoint = ModelCheckpoint(MODEL_NAME, monitor='loss',verbose=0, save_best_only=True)\n",
    "# parallel_model = multi_gpu_model(model)"
   ]
  },
  {
   "cell_type": "code",
   "execution_count": 6,
   "metadata": {
    "scrolled": true
   },
   "outputs": [
    {
     "name": "stdout",
     "output_type": "stream",
     "text": [
      "Found 623 images belonging to 1 classes.\n",
      "Found 623 images belonging to 1 classes.\n",
      "Found 623 images belonging to 1 classes.\n",
      "Found 623 images belonging to 1 classes.\n",
      "Found 623 images belonging to 1 classes.\n",
      "Found 623 images belonging to 1 classes.\n",
      "Found 623 images belonging to 1 classes.\n",
      "Found 623 images belonging to 1 classes.\n",
      "Found 623 images belonging to 1 classes.\n",
      "Found 623 images belonging to 1 classes.\n",
      "Found 623 images belonging to 1 classes.\n",
      "Found 623 images belonging to 1 classes.\n",
      "Found 623 images belonging to 1 classes.\n",
      "Found 623 images belonging to 1 classes.\n",
      "Epoch 1/14\n",
      "Found 623 images belonging to 1 classes.\n",
      "Found 623 images belonging to 1 classes.\n",
      "Found 623 images belonging to 1 classes.\n",
      "Found 623 images belonging to 1 classes.\n",
      "Found 623 images belonging to 1 classes.\n",
      "Found 623 images belonging to 1 classes.\n",
      "Found 623 images belonging to 1 classes.\n",
      "Found 623 images belonging to 1 classes.\n",
      "Found 623 images belonging to 1 classes.\n",
      "Found 623 images belonging to 1 classes.\n",
      "Found 623 images belonging to 1 classes.\n",
      "Found 623 images belonging to 1 classes.\n",
      "Found 623 images belonging to 1 classes.\n",
      "Found 623 images belonging to 1 classes.\n",
      "Found 623 images belonging to 1 classes.\n",
      "Found 623 images belonging to 1 classes.\n",
      "Found 623 images belonging to 1 classes.\n",
      "Found 623 images belonging to 1 classes.\n",
      "Found 623 images belonging to 1 classes.\n",
      "Found 623 images belonging to 1 classes.\n",
      "Found 623 images belonging to 1 classes.\n",
      "Found 623 images belonging to 1 classes.\n",
      "Found 623 images belonging to 1 classes.\n",
      "Found 623 images belonging to 1 classes.\n",
      "Found 623 images belonging to 1 classes.\n",
      "Found 623 images belonging to 1 classes.\n",
      "Found 623 images belonging to 1 classes.\n",
      "Found 623 images belonging to 1 classes.\n",
      "Found 623 images belonging to 1 classes.\n",
      "Found 623 images belonging to 1 classes.\n",
      "Found 623 images belonging to 1 classes.\n",
      "Found 623 images belonging to 1 classes.\n",
      "Found 623 images belonging to 1 classes.\n",
      "Found 623 images belonging to 1 classes.\n",
      "Found 623 images belonging to 1 classes.\n",
      "Found 623 images belonging to 1 classes.\n",
      "Found 623 images belonging to 1 classes.\n"
     ]
    },
    {
     "name": "stderr",
     "output_type": "stream",
     "text": [
      "/home/ubuntu/anaconda3/envs/tensorflow_p36/lib/python3.6/site-packages/keras_preprocessing/image/image_data_generator.py:716: UserWarning: This ImageDataGenerator specifies `featurewise_center`, but it hasn't been fit on any training data. Fit it first by calling `.fit(numpy_data)`.\n",
      "  warnings.warn('This ImageDataGenerator specifies '\n",
      "/home/ubuntu/anaconda3/envs/tensorflow_p36/lib/python3.6/site-packages/keras_preprocessing/image/image_data_generator.py:735: UserWarning: This ImageDataGenerator specifies `zca_whitening`, but it hasn't been fit on any training data. Fit it first by calling `.fit(numpy_data)`.\n",
      "  warnings.warn('This ImageDataGenerator specifies '\n"
     ]
    },
    {
     "name": "stdout",
     "output_type": "stream",
     "text": [
      "WARNING:tensorflow:From /home/ubuntu/anaconda3/envs/tensorflow_p36/lib/python3.6/site-packages/tensorflow/python/ops/math_grad.py:1250: add_dispatch_support.<locals>.wrapper (from tensorflow.python.ops.array_ops) is deprecated and will be removed in a future version.\n",
      "Instructions for updating:\n",
      "Use tf.where in 2.0, which has the same broadcast rule as np.where\n"
     ]
    },
    {
     "name": "stderr",
     "output_type": "stream",
     "text": [
      "/home/ubuntu/anaconda3/envs/tensorflow_p36/lib/python3.6/site-packages/keras_preprocessing/image/image_data_generator.py:716: UserWarning: This ImageDataGenerator specifies `featurewise_center`, but it hasn't been fit on any training data. Fit it first by calling `.fit(numpy_data)`.\n",
      "  warnings.warn('This ImageDataGenerator specifies '\n",
      "/home/ubuntu/anaconda3/envs/tensorflow_p36/lib/python3.6/site-packages/keras_preprocessing/image/image_data_generator.py:735: UserWarning: This ImageDataGenerator specifies `zca_whitening`, but it hasn't been fit on any training data. Fit it first by calling `.fit(numpy_data)`.\n",
      "  warnings.warn('This ImageDataGenerator specifies '\n",
      "/home/ubuntu/anaconda3/envs/tensorflow_p36/lib/python3.6/site-packages/keras_preprocessing/image/image_data_generator.py:716: UserWarning: This ImageDataGenerator specifies `featurewise_center`, but it hasn't been fit on any training data. Fit it first by calling `.fit(numpy_data)`.\n",
      "  warnings.warn('This ImageDataGenerator specifies '\n",
      "/home/ubuntu/anaconda3/envs/tensorflow_p36/lib/python3.6/site-packages/keras_preprocessing/image/image_data_generator.py:735: UserWarning: This ImageDataGenerator specifies `zca_whitening`, but it hasn't been fit on any training data. Fit it first by calling `.fit(numpy_data)`.\n",
      "  warnings.warn('This ImageDataGenerator specifies '\n"
     ]
    },
    {
     "name": "stdout",
     "output_type": "stream",
     "text": [
      "1198/1200 [============================>.] - ETA: 0s - loss: 1.3390 - acc: 0.5234 - precision: 0.2670 - recall: 0.3003 - auc: 0.5100 - specificity_at_sensitivity: 0.4972Found 97 images belonging to 1 classes.\n",
      "Found 97 images belonging to 1 classes.\n",
      "Found 97 images belonging to 1 classes.\n",
      "Found 97 images belonging to 1 classes.\n",
      "Found 97 images belonging to 1 classes.\n",
      "Found 97 images belonging to 1 classes.\n",
      "Found 97 images belonging to 1 classes.\n",
      "Found 97 images belonging to 1 classes.\n",
      "Found 97 images belonging to 1 classes.\n",
      "Found 97 images belonging to 1 classes.\n",
      "Found 97 images belonging to 1 classes.\n",
      "Found 97 images belonging to 1 classes.\n",
      "Found 97 images belonging to 1 classes.\n",
      "Found 97 images belonging to 1 classes.\n",
      "Found 97 images belonging to 1 classes.\n",
      "Found 97 images belonging to 1 classes.\n",
      "Found 97 images belonging to 1 classes.\n",
      "Found 97 images belonging to 1 classes.\n",
      "Found 97 images belonging to 1 classes.\n",
      "Found 97 images belonging to 1 classes.\n",
      "Found 97 images belonging to 1 classes.\n",
      "Found 97 images belonging to 1 classes.\n",
      "Found 97 images belonging to 1 classes.\n",
      "Found 97 images belonging to 1 classes.\n",
      "Found 97 images belonging to 1 classes.\n",
      "Found 97 images belonging to 1 classes.\n",
      "Found 97 images belonging to 1 classes.\n",
      "Found 97 images belonging to 1 classes.\n",
      "Found 97 images belonging to 1 classes.\n",
      "Found 97 images belonging to 1 classes.\n",
      "Found 97 images belonging to 1 classes.\n",
      "Found 97 images belonging to 1 classes.\n",
      "Found 97 images belonging to 1 classes.\n",
      "Found 97 images belonging to 1 classes.\n",
      "Found 97 images belonging to 1 classes.\n",
      "Found 97 images belonging to 1 classes.\n",
      "Found 97 images belonging to 1 classes.\n",
      "Found 97 images belonging to 1 classes.\n",
      "Found 97 images belonging to 1 classes.\n",
      "Found 97 images belonging to 1 classes.\n",
      "Found 97 images belonging to 1 classes.\n",
      "Found 97 images belonging to 1 classes.\n",
      "Found 97 images belonging to 1 classes.\n",
      "Found 97 images belonging to 1 classes.\n",
      "Found 97 images belonging to 1 classes.\n",
      "Found 97 images belonging to 1 classes.\n",
      "Found 97 images belonging to 1 classes.\n",
      "Found 97 images belonging to 1 classes.\n",
      "Found 97 images belonging to 1 classes.\n",
      "Found 97 images belonging to 1 classes.\n",
      "Found 97 images belonging to 1 classes.\n",
      "1200/1200 [==============================] - 85s 71ms/step - loss: 1.3379 - acc: 0.5233 - precision: 0.2663 - recall: 0.3003 - auc: 0.5093 - specificity_at_sensitivity: 0.4961 - val_loss: 1.0198 - val_acc: 0.7300 - val_precision: 0.1034 - val_recall: 0.1071 - val_auc: 0.4387 - val_specificity_at_sensitivity: 0.4593\n",
      "Epoch 2/14\n",
      "1200/1200 [==============================] - 70s 58ms/step - loss: 1.3367 - acc: 0.4592 - precision: 0.2707 - recall: 0.3937 - auc: 0.5285 - specificity_at_sensitivity: 0.5333 - val_loss: 1.0154 - val_acc: 0.7600 - val_precision: 0.0952 - val_recall: 0.0690 - val_auc: 0.4752 - val_specificity_at_sensitivity: 0.4561\n",
      "Epoch 3/14\n",
      "1200/1200 [==============================] - 70s 58ms/step - loss: 1.3263 - acc: 0.5483 - precision: 0.3054 - recall: 0.3290 - auc: 0.5299 - specificity_at_sensitivity: 0.5461 - val_loss: 1.0834 - val_acc: 0.4850 - val_precision: 0.1205 - val_recall: 0.3333 - val_auc: 0.4397 - val_specificity_at_sensitivity: 0.4235\n",
      "Epoch 4/14\n",
      "1200/1200 [==============================] - 69s 58ms/step - loss: 1.3481 - acc: 0.4742 - precision: 0.3049 - recall: 0.4237 - auc: 0.5353 - specificity_at_sensitivity: 0.5176 - val_loss: 1.0604 - val_acc: 0.5400 - val_precision: 0.1733 - val_recall: 0.4333 - val_auc: 0.4995 - val_specificity_at_sensitivity: 0.4235\n",
      "Epoch 5/14\n",
      "1200/1200 [==============================] - 70s 58ms/step - loss: 1.3058 - acc: 0.5558 - precision: 0.3166 - recall: 0.3543 - auc: 0.5316 - specificity_at_sensitivity: 0.5367 - val_loss: 1.0224 - val_acc: 0.6000 - val_precision: 0.1017 - val_recall: 0.2222 - val_auc: 0.4327 - val_specificity_at_sensitivity: 0.3064\n",
      "Epoch 6/14\n",
      "1200/1200 [==============================] - 69s 58ms/step - loss: 1.3275 - acc: 0.5025 - precision: 0.3047 - recall: 0.3949 - auc: 0.5523 - specificity_at_sensitivity: 0.5835 - val_loss: 1.0050 - val_acc: 0.6200 - val_precision: 0.1379 - val_recall: 0.3077 - val_auc: 0.4792 - val_specificity_at_sensitivity: 0.4713\n",
      "Epoch 7/14\n",
      "1200/1200 [==============================] - 68s 57ms/step - loss: 1.3165 - acc: 0.5283 - precision: 0.3127 - recall: 0.3730 - auc: 0.5718 - specificity_at_sensitivity: 0.6243 - val_loss: 1.0498 - val_acc: 0.5000 - val_precision: 0.1205 - val_recall: 0.3704 - val_auc: 0.4443 - val_specificity_at_sensitivity: 0.3988\n",
      "Epoch 8/14\n",
      "1200/1200 [==============================] - 69s 58ms/step - loss: 1.3529 - acc: 0.4858 - precision: 0.3057 - recall: 0.3981 - auc: 0.5353 - specificity_at_sensitivity: 0.5582 - val_loss: 1.0559 - val_acc: 0.5950 - val_precision: 0.1207 - val_recall: 0.2333 - val_auc: 0.4554 - val_specificity_at_sensitivity: 0.3000\n",
      "Epoch 9/14\n",
      "1200/1200 [==============================] - 69s 58ms/step - loss: 1.2670 - acc: 0.6117 - precision: 0.3295 - recall: 0.3010 - auc: 0.5774 - specificity_at_sensitivity: 0.6257 - val_loss: 1.0515 - val_acc: 0.7350 - val_precision: 0.1250 - val_recall: 0.0938 - val_auc: 0.4897 - val_specificity_at_sensitivity: 0.4405\n",
      "Epoch 10/14\n",
      "1200/1200 [==============================] - 70s 58ms/step - loss: 1.3552 - acc: 0.5192 - precision: 0.3142 - recall: 0.3528 - auc: 0.5437 - specificity_at_sensitivity: 0.5767 - val_loss: 1.0605 - val_acc: 0.4850 - val_precision: 0.1294 - val_recall: 0.3793 - val_auc: 0.4691 - val_specificity_at_sensitivity: 0.5029\n",
      "Epoch 11/14\n",
      "1200/1200 [==============================] - 69s 57ms/step - loss: 1.3045 - acc: 0.5892 - precision: 0.3729 - recall: 0.3571 - auc: 0.5773 - specificity_at_sensitivity: 0.6581 - val_loss: 0.9961 - val_acc: 0.6250 - val_precision: 0.1525 - val_recall: 0.3600 - val_auc: 0.4922 - val_specificity_at_sensitivity: 0.4514\n",
      "Epoch 12/14\n",
      "1200/1200 [==============================] - 69s 58ms/step - loss: 1.3330 - acc: 0.6025 - precision: 0.3614 - recall: 0.2830 - auc: 0.5514 - specificity_at_sensitivity: 0.5567 - val_loss: 1.1127 - val_acc: 0.5500 - val_precision: 0.1343 - val_recall: 0.2812 - val_auc: 0.4577 - val_specificity_at_sensitivity: 0.4107\n",
      "Epoch 13/14\n",
      "  54/1200 [>.............................] - ETA: 46s - loss: 1.1038 - acc: 0.5926 - precision: 0.3333 - recall: 0.6000 - auc: 0.6693 - specificity_at_sensitivity: 0.8864"
     ]
    },
    {
     "ename": "KeyboardInterrupt",
     "evalue": "",
     "output_type": "error",
     "traceback": [
      "\u001b[0;31m---------------------------------------------------------------------------\u001b[0m",
      "\u001b[0;31mKeyboardInterrupt\u001b[0m                         Traceback (most recent call last)",
      "\u001b[0;32m<ipython-input-6-4d8423f79734>\u001b[0m in \u001b[0;36m<module>\u001b[0;34m()\u001b[0m\n\u001b[1;32m      4\u001b[0m     \u001b[0mvalidation_steps\u001b[0m\u001b[0;34m=\u001b[0m\u001b[0;36m200\u001b[0m\u001b[0;34m,\u001b[0m\u001b[0;34m\u001b[0m\u001b[0m\n\u001b[1;32m      5\u001b[0m     \u001b[0msteps_per_epoch\u001b[0m\u001b[0;34m=\u001b[0m\u001b[0;36m1200\u001b[0m\u001b[0;34m,\u001b[0m\u001b[0;34m\u001b[0m\u001b[0m\n\u001b[0;32m----> 6\u001b[0;31m     \u001b[0mepochs\u001b[0m \u001b[0;34m=\u001b[0m \u001b[0;36m14\u001b[0m\u001b[0;34m,\u001b[0m\u001b[0;34m\u001b[0m\u001b[0m\n\u001b[0m\u001b[1;32m      7\u001b[0m )\n",
      "\u001b[0;32m~/anaconda3/envs/tensorflow_p36/lib/python3.6/site-packages/tensorflow/python/keras/engine/training.py\u001b[0m in \u001b[0;36mfit_generator\u001b[0;34m(self, generator, steps_per_epoch, epochs, verbose, callbacks, validation_data, validation_steps, validation_freq, class_weight, max_queue_size, workers, use_multiprocessing, shuffle, initial_epoch)\u001b[0m\n\u001b[1;32m   1431\u001b[0m         \u001b[0mshuffle\u001b[0m\u001b[0;34m=\u001b[0m\u001b[0mshuffle\u001b[0m\u001b[0;34m,\u001b[0m\u001b[0;34m\u001b[0m\u001b[0m\n\u001b[1;32m   1432\u001b[0m         \u001b[0minitial_epoch\u001b[0m\u001b[0;34m=\u001b[0m\u001b[0minitial_epoch\u001b[0m\u001b[0;34m,\u001b[0m\u001b[0;34m\u001b[0m\u001b[0m\n\u001b[0;32m-> 1433\u001b[0;31m         steps_name='steps_per_epoch')\n\u001b[0m\u001b[1;32m   1434\u001b[0m \u001b[0;34m\u001b[0m\u001b[0m\n\u001b[1;32m   1435\u001b[0m   def evaluate_generator(self,\n",
      "\u001b[0;32m~/anaconda3/envs/tensorflow_p36/lib/python3.6/site-packages/tensorflow/python/keras/engine/training_generator.py\u001b[0m in \u001b[0;36mmodel_iteration\u001b[0;34m(model, data, steps_per_epoch, epochs, verbose, callbacks, validation_data, validation_steps, validation_freq, class_weight, max_queue_size, workers, use_multiprocessing, shuffle, initial_epoch, mode, batch_size, steps_name, **kwargs)\u001b[0m\n\u001b[1;32m    262\u001b[0m \u001b[0;34m\u001b[0m\u001b[0m\n\u001b[1;32m    263\u001b[0m       \u001b[0mis_deferred\u001b[0m \u001b[0;34m=\u001b[0m \u001b[0;32mnot\u001b[0m \u001b[0mmodel\u001b[0m\u001b[0;34m.\u001b[0m\u001b[0m_is_compiled\u001b[0m\u001b[0;34m\u001b[0m\u001b[0m\n\u001b[0;32m--> 264\u001b[0;31m       \u001b[0mbatch_outs\u001b[0m \u001b[0;34m=\u001b[0m \u001b[0mbatch_function\u001b[0m\u001b[0;34m(\u001b[0m\u001b[0;34m*\u001b[0m\u001b[0mbatch_data\u001b[0m\u001b[0;34m)\u001b[0m\u001b[0;34m\u001b[0m\u001b[0m\n\u001b[0m\u001b[1;32m    265\u001b[0m       \u001b[0;32mif\u001b[0m \u001b[0;32mnot\u001b[0m \u001b[0misinstance\u001b[0m\u001b[0;34m(\u001b[0m\u001b[0mbatch_outs\u001b[0m\u001b[0;34m,\u001b[0m \u001b[0mlist\u001b[0m\u001b[0;34m)\u001b[0m\u001b[0;34m:\u001b[0m\u001b[0;34m\u001b[0m\u001b[0m\n\u001b[1;32m    266\u001b[0m         \u001b[0mbatch_outs\u001b[0m \u001b[0;34m=\u001b[0m \u001b[0;34m[\u001b[0m\u001b[0mbatch_outs\u001b[0m\u001b[0;34m]\u001b[0m\u001b[0;34m\u001b[0m\u001b[0m\n",
      "\u001b[0;32m~/anaconda3/envs/tensorflow_p36/lib/python3.6/site-packages/tensorflow/python/keras/engine/training.py\u001b[0m in \u001b[0;36mtrain_on_batch\u001b[0;34m(self, x, y, sample_weight, class_weight, reset_metrics)\u001b[0m\n\u001b[1;32m   1173\u001b[0m       \u001b[0mself\u001b[0m\u001b[0;34m.\u001b[0m\u001b[0m_update_sample_weight_modes\u001b[0m\u001b[0;34m(\u001b[0m\u001b[0msample_weights\u001b[0m\u001b[0;34m=\u001b[0m\u001b[0msample_weights\u001b[0m\u001b[0;34m)\u001b[0m\u001b[0;34m\u001b[0m\u001b[0m\n\u001b[1;32m   1174\u001b[0m       \u001b[0mself\u001b[0m\u001b[0;34m.\u001b[0m\u001b[0m_make_train_function\u001b[0m\u001b[0;34m(\u001b[0m\u001b[0;34m)\u001b[0m\u001b[0;34m\u001b[0m\u001b[0m\n\u001b[0;32m-> 1175\u001b[0;31m       \u001b[0moutputs\u001b[0m \u001b[0;34m=\u001b[0m \u001b[0mself\u001b[0m\u001b[0;34m.\u001b[0m\u001b[0mtrain_function\u001b[0m\u001b[0;34m(\u001b[0m\u001b[0mins\u001b[0m\u001b[0;34m)\u001b[0m  \u001b[0;31m# pylint: disable=not-callable\u001b[0m\u001b[0;34m\u001b[0m\u001b[0m\n\u001b[0m\u001b[1;32m   1176\u001b[0m \u001b[0;34m\u001b[0m\u001b[0m\n\u001b[1;32m   1177\u001b[0m     \u001b[0;32mif\u001b[0m \u001b[0mreset_metrics\u001b[0m\u001b[0;34m:\u001b[0m\u001b[0;34m\u001b[0m\u001b[0m\n",
      "\u001b[0;32m~/anaconda3/envs/tensorflow_p36/lib/python3.6/site-packages/tensorflow/python/keras/backend.py\u001b[0m in \u001b[0;36m__call__\u001b[0;34m(self, inputs)\u001b[0m\n\u001b[1;32m   3290\u001b[0m \u001b[0;34m\u001b[0m\u001b[0m\n\u001b[1;32m   3291\u001b[0m     fetched = self._callable_fn(*array_vals,\n\u001b[0;32m-> 3292\u001b[0;31m                                 run_metadata=self.run_metadata)\n\u001b[0m\u001b[1;32m   3293\u001b[0m     \u001b[0mself\u001b[0m\u001b[0;34m.\u001b[0m\u001b[0m_call_fetch_callbacks\u001b[0m\u001b[0;34m(\u001b[0m\u001b[0mfetched\u001b[0m\u001b[0;34m[\u001b[0m\u001b[0;34m-\u001b[0m\u001b[0mlen\u001b[0m\u001b[0;34m(\u001b[0m\u001b[0mself\u001b[0m\u001b[0;34m.\u001b[0m\u001b[0m_fetches\u001b[0m\u001b[0;34m)\u001b[0m\u001b[0;34m:\u001b[0m\u001b[0;34m]\u001b[0m\u001b[0;34m)\u001b[0m\u001b[0;34m\u001b[0m\u001b[0m\n\u001b[1;32m   3294\u001b[0m     output_structure = nest.pack_sequence_as(\n",
      "\u001b[0;32m~/anaconda3/envs/tensorflow_p36/lib/python3.6/site-packages/tensorflow/python/client/session.py\u001b[0m in \u001b[0;36m__call__\u001b[0;34m(self, *args, **kwargs)\u001b[0m\n\u001b[1;32m   1456\u001b[0m         ret = tf_session.TF_SessionRunCallable(self._session._session,\n\u001b[1;32m   1457\u001b[0m                                                \u001b[0mself\u001b[0m\u001b[0;34m.\u001b[0m\u001b[0m_handle\u001b[0m\u001b[0;34m,\u001b[0m \u001b[0margs\u001b[0m\u001b[0;34m,\u001b[0m\u001b[0;34m\u001b[0m\u001b[0m\n\u001b[0;32m-> 1458\u001b[0;31m                                                run_metadata_ptr)\n\u001b[0m\u001b[1;32m   1459\u001b[0m         \u001b[0;32mif\u001b[0m \u001b[0mrun_metadata\u001b[0m\u001b[0;34m:\u001b[0m\u001b[0;34m\u001b[0m\u001b[0m\n\u001b[1;32m   1460\u001b[0m           \u001b[0mproto_data\u001b[0m \u001b[0;34m=\u001b[0m \u001b[0mtf_session\u001b[0m\u001b[0;34m.\u001b[0m\u001b[0mTF_GetBuffer\u001b[0m\u001b[0;34m(\u001b[0m\u001b[0mrun_metadata_ptr\u001b[0m\u001b[0;34m)\u001b[0m\u001b[0;34m\u001b[0m\u001b[0m\n",
      "\u001b[0;31mKeyboardInterrupt\u001b[0m: "
     ]
    }
   ],
   "source": [
    "model_history = model.fit_generator(\n",
    "    train_generator,\n",
    "    validation_data= val_generator,\n",
    "    validation_steps=200,\n",
    "    steps_per_epoch=1200,\n",
    "    epochs = 12,\n",
    ")"
   ]
  },
  {
   "cell_type": "code",
   "execution_count": null,
   "metadata": {},
   "outputs": [],
   "source": [
    "model.save('nlst_cnn.hdf5') "
   ]
  },
  {
   "cell_type": "code",
   "execution_count": null,
   "metadata": {},
   "outputs": [],
   "source": [
    "# model.load_weights('nlst_cnn_0.hdf5')\n",
    "model.load_weights('nlst_cnn.hdf5')"
   ]
  },
  {
   "cell_type": "code",
   "execution_count": null,
   "metadata": {},
   "outputs": [],
   "source": [
    "Xs = []\n",
    "Ys = []\n",
    "for im in os.listdir('data/nlst_test/image_roi_3d/pkls/')[50:120]:\n",
    "    path = f'data/nlst_test/image_roi_3d/pkls/{im}'\n",
    "    with open(path, 'rb') as input_file:\n",
    "        cube, label = pkl.load(input_file)\n",
    "    cube = cube[:50][:50][:50]\n",
    "    if cube.shape[0] < 50 or cube.shape[1] < 50 or cube.shape[2] < 50:\n",
    "        pass\n",
    "    else:\n",
    "        Xs.append(np.array(cube/255).reshape(50, 50, 50, 1))\n",
    "        Ys.append(label)\n",
    "\n",
    "Xs = np.array(Xs)\n",
    "Ys = np.array(Ys)\n",
    "\n",
    "preds = model.predict(Xs)\n",
    "roc_auc_score(Ys, preds)"
   ]
  }
 ],
 "metadata": {
  "kernelspec": {
   "display_name": "Python 3",
   "language": "python",
   "name": "python3"
  },
  "language_info": {
   "codemirror_mode": {
    "name": "ipython",
    "version": 3
   },
   "file_extension": ".py",
   "mimetype": "text/x-python",
   "name": "python",
   "nbconvert_exporter": "python",
   "pygments_lexer": "ipython3",
   "version": "3.6.5"
  }
 },
 "nbformat": 4,
 "nbformat_minor": 2
}
