{
 "cells": [
  {
   "cell_type": "code",
   "execution_count": 1,
   "metadata": {},
   "outputs": [
    {
     "data": {
      "text/html": [
       "        <script type=\"text/javascript\">\n",
       "        window.PlotlyConfig = {MathJaxConfig: 'local'};\n",
       "        if (window.MathJax) {MathJax.Hub.Config({SVG: {font: \"STIX-Web\"}});}\n",
       "        if (typeof require !== 'undefined') {\n",
       "        require.undef(\"plotly\");\n",
       "        requirejs.config({\n",
       "            paths: {\n",
       "                'plotly': ['https://cdn.plot.ly/plotly-latest.min']\n",
       "            }\n",
       "        });\n",
       "        require(['plotly'], function(Plotly) {\n",
       "            window._Plotly = Plotly;\n",
       "        });\n",
       "        }\n",
       "        </script>\n",
       "        "
      ]
     },
     "metadata": {},
     "output_type": "display_data"
    },
    {
     "name": "stderr",
     "output_type": "stream",
     "text": [
      "Using TensorFlow backend.\n"
     ]
    }
   ],
   "source": [
    "import os\n",
    "import shutil \n",
    "import sys\n",
    "\n",
    "import numpy as np \n",
    "import matplotlib.pyplot as plt\n",
    "import pandas as pd\n",
    "import pickle as pkl\n",
    "from skimage.io import imread, imsave\n",
    "from sklearn.model_selection import train_test_split\n",
    "\n",
    "from preprocess import preprocess\n",
    "from roi_predict import get_most_activated_roi, get_rois\n",
    "from test_train_val_split import ttv_split\n",
    "from plot_3d import make_mesh, plotly_3d, plt_3d\n",
    "import warnings\n",
    "warnings.filterwarnings(\"ignore\")\n",
    "\n",
    "sys.path.append(\"../LIDC/unet_2d\")\n",
    "from unet_2d_res import *"
   ]
  },
  {
   "cell_type": "markdown",
   "metadata": {},
   "source": [
    "# (1) Extract images NLST raw dataset\n",
    "\n",
    "**Skip in ec2 – (done locally)**"
   ]
  },
  {
   "cell_type": "code",
   "execution_count": null,
   "metadata": {},
   "outputs": [],
   "source": [
    "# visualize\n",
    "\n",
    "pid_path = 'data/nlst_extracted/' + os.listdir('data/nlst_extracted')[np.random.randint(len(os.listdir('data/nlst_extracted')))]\n",
    "im_path = pid_path + '/' + os.listdir(pid_path)[len(os.listdir(pid_path))-1]\n",
    "\n",
    "img = imread(im_path) \n",
    "print(im_path)\n",
    "\n",
    "fig, ax = plt.subplots(1, 1, figsize=(4, 4))\n",
    "ax.imshow(np.array(img), cmap='bone')\n",
    "plt.show()"
   ]
  },
  {
   "cell_type": "markdown",
   "metadata": {},
   "source": [
    "# (2) Remove missing image entries from table"
   ]
  },
  {
   "cell_type": "code",
   "execution_count": null,
   "metadata": {},
   "outputs": [],
   "source": [
    "# df = pd.read_csv('data/nlst_table_nc.csv')\n",
    "df = pd.read_csv('data/nlst_table.csv')\n",
    "\n",
    "df['kept'] = [\n",
    "    os.path.isfile(f'data/nlst_extracted/{str(row.pid)}/{row.study_yr}_{str(row.sct_ab_num)}.tif')\n",
    "    for _, row in df.iterrows()\n",
    "] \n",
    "\n",
    "df_kept_pos = df[np.logical_and(df['kept']==1, df.recurrence == 1)]\n",
    "df_kept_neg = df[np.logical_and(df['kept']==1, df.recurrence == 0)]\n",
    "\n",
    "\n",
    "print(f\"Number of kept 'recurrent' nodules: {len(df_kept_pos)}\")\n",
    "print(f\"Number of kept 'recurrent' patients: {len(df_kept_pos.pid.unique())}\\n\")\n",
    "\n",
    "print(f\"Number of kept 'non-recurrent' nodules: {len(df_kept_neg)}\")\n",
    "print(f\"Number of kept 'non-recurrent' patients: {len(df_kept_neg.pid.unique())}\")"
   ]
  },
  {
   "cell_type": "code",
   "execution_count": null,
   "metadata": {},
   "outputs": [],
   "source": [
    "df = df[df.kept == 1]\n",
    "# df.to_csv('data/nlst_table_cleaned_nc.csv', index=None)\n",
    "df.to_csv('data/nlst_table_cleaned.csv', index=None)"
   ]
  },
  {
   "cell_type": "markdown",
   "metadata": {},
   "source": [
    "# (3) Preprocess extracted images\n",
    "\n",
    "*Note: bad lung field segmentations handled 'manually' in preprocessing*"
   ]
  },
  {
   "cell_type": "code",
   "execution_count": null,
   "metadata": {},
   "outputs": [],
   "source": [
    "# 3.1: clear out old data\n",
    "shutil.rmtree('data/nlst_processed')"
   ]
  },
  {
   "cell_type": "code",
   "execution_count": null,
   "metadata": {},
   "outputs": [],
   "source": [
    "# 3.2: extract from raw\n",
    "# preprocess('data/nlst_extracted', 'data/nlst_processed', table_path='data/nlst_table_cleaned_nc.csv')\n",
    "preprocess('data/nlst_extracted', 'data/nlst_processed', table_path='data/nlst_table_cleaned.csv')"
   ]
  },
  {
   "cell_type": "code",
   "execution_count": null,
   "metadata": {},
   "outputs": [],
   "source": [
    "# 3.3: visualize\n",
    "\n",
    "pid_idx = np.random.randint(len(os.listdir('data/nlst_processed')))\n",
    "pid = os.listdir('data/nlst_processed')[pid_idx]\n",
    "\n",
    "img_idx = np.random.randint(len(os.listdir(f\"data/nlst_processed/{pid}\")))\n",
    "img = os.listdir(f\"data/nlst_processed/{pid}\")[img_idx]\n",
    "\n",
    "extract_path = f\"data/nlst_extracted/{pid}/{img}\"\n",
    "processed_path = f\"data/nlst_processed/{pid}/{img}\"\n",
    "\n",
    "print(pid + \": \" + img)\n",
    "\n",
    "fig, axs = plt.subplots(1, 2, figsize=(8, 4))\n",
    "axs[0].imshow(np.array(imread(extract_path) ), cmap='bone')\n",
    "axs[1].imshow(np.array(imread(processed_path) ), cmap='bone')\n",
    "\n",
    "plt.show()"
   ]
  },
  {
   "cell_type": "markdown",
   "metadata": {},
   "source": [
    "# Manually Inspect for bad lung field segmentations"
   ]
  },
  {
   "cell_type": "code",
   "execution_count": null,
   "metadata": {
    "scrolled": false
   },
   "outputs": [],
   "source": [
    "# pid_idx = np.random.randint(len(os.listdir('data/nlst_rois_3d')))\n",
    "# pid = os.listdir('data/nlst_rois_3d')[pid_idx]\n",
    "\n",
    "# pid = '207782'\n",
    "# print(pid)\n",
    "\n",
    "# img_idx = np.random.randint(len(os.listdir(f\"data/nlst_processed/{pid}\")))\n",
    "# imgs = os.listdir(f\"data/nlst_processed/{pid}\")\n",
    "\n",
    "# fig, axs = plt.subplots(len(imgs), 2, figsize=(8, 4*len(imgs)))\n",
    "\n",
    "# for i, img in enumerate(imgs):\n",
    "#     extract_path = f\"data/nlst_extracted/{pid}/{img}\"\n",
    "#     processed_path = f\"data/nlst_processed/{pid}/{img}\"\n",
    "    \n",
    "#     if len(imgs) > 1:\n",
    "#         axs[i][0].imshow(np.array(imread(extract_path) ), cmap='bone')\n",
    "#         axs[i][1].imshow(np.array(imread(processed_path) ), cmap='bone')\n",
    "#         axs[i][0].set_title(pid + \": \" + img)\n",
    "#     else:\n",
    "#         axs[0].imshow(np.array(imread(extract_path) ), cmap='bone')\n",
    "#         axs[1].imshow(np.array(imread(processed_path) ), cmap='bone')\n",
    "#         axs[0].set_title(pid + \": \" + img)\n",
    "\n",
    "# plt.show()"
   ]
  },
  {
   "cell_type": "markdown",
   "metadata": {},
   "source": [
    "# (4) Predict nodule segmentations and extract ROIs"
   ]
  },
  {
   "cell_type": "code",
   "execution_count": null,
   "metadata": {},
   "outputs": [],
   "source": [
    "# 4.1: load trained model\n",
    "\n",
    "MODEL_NAME = '../trained_segmentation_models/unet_lidc_curbest.hdf5'\n",
    "\n",
    "model = unet_2d_res()\n",
    "model.load_weights(MODEL_NAME)"
   ]
  },
  {
   "cell_type": "code",
   "execution_count": null,
   "metadata": {},
   "outputs": [],
   "source": [
    "# 4.2: remove old rois folder\n",
    "shutil.rmtree('data/nlst_rois_2d')\n",
    "shutil.rmtree('data/nlst_rois_3d')"
   ]
  },
  {
   "cell_type": "code",
   "execution_count": null,
   "metadata": {},
   "outputs": [],
   "source": [
    "# 4.3: predict segmentations and extract rois for all images\n",
    "get_rois('data/nlst_extracted', 'data/nlst_processed', 'data/nlst_rois_2d', 'data/nlst_rois_3d', model)"
   ]
  },
  {
   "cell_type": "code",
   "execution_count": null,
   "metadata": {},
   "outputs": [],
   "source": [
    "# 4.4: visualize\n",
    "\n",
    "pid_idx = np.random.randint(len(os.listdir('data/nlst_rois_2d')))\n",
    "pid = os.listdir('data/nlst_rois_3d')[pid_idx]\n",
    "pid = '100570'\n",
    "# pid = '207954'\n",
    "# pid = '215585'\n",
    "# pid = '130162'\n",
    "# pid = '106286'\n",
    "\n",
    "img_idx = np.random.randint(len(os.listdir(f\"data/nlst_rois_2d/{pid}\")))\n",
    "im = os.listdir(f\"data/nlst_rois_2d/{pid}\")[img_idx]\n",
    "\n",
    "print(pid + \": \" + im)\n",
    "\n",
    "original_path = f\"data/nlst_extracted/{pid}/{im}\"\n",
    "processed_path = f\"data/nlst_processed/{pid}/{im}\"\n",
    "roi_path = f\"data/nlst_rois_2d/{pid}/{im}\"\n",
    "\n",
    "prediction = model.predict(imread(processed_path).reshape(1, 256, 256, 1)/255).reshape(256, 256)\n",
    "\n",
    "fig, axs = plt.subplots(1, 4, figsize=(12, 3))\n",
    "\n",
    "axs[0].imshow(np.array(imread(original_path)), cmap='bone')\n",
    "axs[1].imshow(np.array(imread(processed_path)), cmap='bone')\n",
    "axs[2].imshow(np.array(prediction), cmap='bone')\n",
    "axs[3].imshow(np.array(imread(roi_path)), cmap='bone')\n",
    "\n",
    "axs[0].set_title(\"Original Image\")\n",
    "axs[1].set_title(\"Processed Image\")\n",
    "axs[2].set_title(\"Predicted Nodule Mask\")\n",
    "axs[3].set_title(\"Predicted ROI\")\n",
    "\n",
    "    \n",
    "plt.show()"
   ]
  },
  {
   "cell_type": "code",
   "execution_count": null,
   "metadata": {},
   "outputs": [],
   "source": [
    "with open(f\"data/nlst_rois_3d/{pid}/{im[:-4]}.pkl\", \"rb\") as input_file:\n",
    "    cube = pkl.load(input_file)\n",
    "cube[cube < cube.max()/(3/2)] = 0\n",
    "v, f = make_mesh(cube)\n",
    "plotly_3d(v, f)"
   ]
  },
  {
   "cell_type": "markdown",
   "metadata": {},
   "source": [
    "# Split into Test and Train"
   ]
  },
  {
   "cell_type": "code",
   "execution_count": 2,
   "metadata": {},
   "outputs": [],
   "source": [
    "# clear out old folders\n",
    "shutil.rmtree('data/nlst_train')\n",
    "shutil.rmtree('data/nlst_test')\n",
    "shutil.rmtree('data/nlst_val')"
   ]
  },
  {
   "cell_type": "code",
   "execution_count": 3,
   "metadata": {},
   "outputs": [
    {
     "name": "stdout",
     "output_type": "stream",
     "text": [
      "No ROIs for 102660\n",
      "No ROIs for 215290\n"
     ]
    }
   ],
   "source": [
    "ttv_split()"
   ]
  },
  {
   "cell_type": "code",
   "execution_count": null,
   "metadata": {},
   "outputs": [],
   "source": []
  }
 ],
 "metadata": {
  "kernelspec": {
   "display_name": "Python 3",
   "language": "python",
   "name": "python3"
  },
  "language_info": {
   "codemirror_mode": {
    "name": "ipython",
    "version": 3
   },
   "file_extension": ".py",
   "mimetype": "text/x-python",
   "name": "python",
   "nbconvert_exporter": "python",
   "pygments_lexer": "ipython3",
   "version": "3.6.5"
  }
 },
 "nbformat": 4,
 "nbformat_minor": 2
}
