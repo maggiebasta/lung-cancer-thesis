{
 "cells": [
  {
   "cell_type": "code",
   "execution_count": 1,
   "metadata": {},
   "outputs": [
    {
     "name": "stdout",
     "output_type": "stream",
     "text": [
      "WARNING:tensorflow:From /home/ubuntu/Notebooks/lung-cancer-thesis/unet_3d/unet3d.py:4: The name tf.keras.layers.CuDNNGRU is deprecated. Please use tf.compat.v1.keras.layers.CuDNNGRU instead.\n",
      "\n",
      "WARNING:tensorflow:From /home/ubuntu/Notebooks/lung-cancer-thesis/unet_3d/unet3d.py:4: The name tf.keras.layers.CuDNNLSTM is deprecated. Please use tf.compat.v1.keras.layers.CuDNNLSTM instead.\n",
      "\n"
     ]
    },
    {
     "name": "stderr",
     "output_type": "stream",
     "text": [
      "Using TensorFlow backend.\n"
     ]
    },
    {
     "name": "stdout",
     "output_type": "stream",
     "text": [
      "WARNING:tensorflow:From /home/ubuntu/Notebooks/lung-cancer-thesis/unet_3d/unet3d_dense.py:9: The name tf.set_random_seed is deprecated. Please use tf.compat.v1.set_random_seed instead.\n",
      "\n"
     ]
    },
    {
     "ename": "ModuleNotFoundError",
     "evalue": "No module named 'keras_frcnn'",
     "output_type": "error",
     "traceback": [
      "\u001b[0;31m---------------------------------------------------------------------------\u001b[0m",
      "\u001b[0;31mModuleNotFoundError\u001b[0m                       Traceback (most recent call last)",
      "\u001b[0;32m<ipython-input-1-078f20e192d7>\u001b[0m in \u001b[0;36m<module>\u001b[0;34m()\u001b[0m\n\u001b[1;32m     10\u001b[0m \u001b[0;32mfrom\u001b[0m \u001b[0munet3d\u001b[0m \u001b[0;32mimport\u001b[0m \u001b[0;34m*\u001b[0m\u001b[0;34m\u001b[0m\u001b[0m\n\u001b[1;32m     11\u001b[0m \u001b[0;32mfrom\u001b[0m \u001b[0munet3d_dense\u001b[0m \u001b[0;32mimport\u001b[0m \u001b[0;34m*\u001b[0m\u001b[0;34m\u001b[0m\u001b[0m\n\u001b[0;32m---> 12\u001b[0;31m \u001b[0;32mfrom\u001b[0m \u001b[0mresnet\u001b[0m \u001b[0;32mimport\u001b[0m \u001b[0;34m*\u001b[0m\u001b[0;34m\u001b[0m\u001b[0m\n\u001b[0m\u001b[1;32m     13\u001b[0m from tensorflow.keras.preprocessing.image import (\n\u001b[1;32m     14\u001b[0m     \u001b[0mImageDataGenerator\u001b[0m\u001b[0;34m,\u001b[0m\u001b[0;34m\u001b[0m\u001b[0m\n",
      "\u001b[0;32m~/Notebooks/lung-cancer-thesis/unet_3d/resnet.py\u001b[0m in \u001b[0;36m<module>\u001b[0;34m()\u001b[0m\n\u001b[1;32m     13\u001b[0m \u001b[0;32mfrom\u001b[0m \u001b[0mtensorflow\u001b[0m\u001b[0;34m.\u001b[0m\u001b[0mkeras\u001b[0m \u001b[0;32mimport\u001b[0m \u001b[0mbackend\u001b[0m \u001b[0;32mas\u001b[0m \u001b[0mK\u001b[0m\u001b[0;34m\u001b[0m\u001b[0m\n\u001b[1;32m     14\u001b[0m \u001b[0;32mimport\u001b[0m \u001b[0mos\u001b[0m\u001b[0;34m\u001b[0m\u001b[0m\n\u001b[0;32m---> 15\u001b[0;31m \u001b[0;32mfrom\u001b[0m \u001b[0mkeras_frcnn\u001b[0m\u001b[0;34m.\u001b[0m\u001b[0mkeras_frcnn\u001b[0m\u001b[0;34m.\u001b[0m\u001b[0mRoiPoolingConv\u001b[0m \u001b[0;32mimport\u001b[0m \u001b[0mRoiPoolingConv\u001b[0m\u001b[0;34m\u001b[0m\u001b[0m\n\u001b[0m\u001b[1;32m     16\u001b[0m \u001b[0;32mfrom\u001b[0m \u001b[0mkeras_frcnn\u001b[0m\u001b[0;34m.\u001b[0m\u001b[0mkeras_frcnn\u001b[0m\u001b[0;34m.\u001b[0m\u001b[0mFixedBatchNormalization\u001b[0m \u001b[0;32mimport\u001b[0m \u001b[0mFixedBatchNormalization\u001b[0m\u001b[0;34m\u001b[0m\u001b[0m\n\u001b[1;32m     17\u001b[0m \u001b[0;34m\u001b[0m\u001b[0m\n",
      "\u001b[0;31mModuleNotFoundError\u001b[0m: No module named 'keras_frcnn'"
     ]
    }
   ],
   "source": [
    "import os\n",
    "\n",
    "import matplotlib.pyplot as plt\n",
    "import tensorflow as tf\n",
    "from keras import backend as K\n",
    "from skimage import io\n",
    "\n",
    "from data_generator import *\n",
    "from dice_loss import *\n",
    "from unet3d import *\n",
    "from unet3d_dense import *\n",
    "from resnet import *\n",
    "from tensorflow.keras.preprocessing.image import (\n",
    "    ImageDataGenerator,\n",
    "    img_to_array,\n",
    "    load_img\n",
    ")"
   ]
  },
  {
   "cell_type": "code",
   "execution_count": null,
   "metadata": {},
   "outputs": [],
   "source": [
    "TRAIN_PATH = 'data/train/'\n",
    "XTRAIN_PATH = f'{TRAIN_PATH}/image'\n",
    "YTRAIN_PATH = f'{TRAIN_PATH}/label'\n",
    "\n",
    "TEST_PATH = 'data/test/'\n",
    "XTEST_PATH = f'{TEST_PATH}/image'\n",
    "YTEST_PATH = f'{TEST_PATH}/label'\n",
    "\n",
    "# STEPS=2000\n",
    "STEPS = 50\n",
    "EPOCHS=2\n",
    "# EPOCHS = 1\n",
    "MODEL_NAME = 'unet_lidc.hdf5'"
   ]
  },
  {
   "cell_type": "markdown",
   "metadata": {},
   "source": [
    "## Data Generation and Augmentation"
   ]
  },
  {
   "cell_type": "code",
   "execution_count": null,
   "metadata": {},
   "outputs": [],
   "source": [
    "image_generator_train = ImageDataGenerator(\n",
    "    rotation_range=2,\n",
    "    rescale=1./255,\n",
    "    shear_range=0.05,\n",
    "    horizontal_flip=True,\n",
    "    fill_mode='nearest',\n",
    "    validation_split=0.0\n",
    ")\n",
    "\n",
    "label_generator_train = ImageDataGenerator(\n",
    "    rotation_range=2,\n",
    "    shear_range=0.05,\n",
    "    horizontal_flip=True,\n",
    "    fill_mode='nearest',\n",
    "    validation_split=0.0\n",
    ")\n",
    "\n",
    "image_generator_test = ImageDataGenerator(\n",
    "    rescale=1./255,\n",
    "    fill_mode='reflect',\n",
    "    data_format='channels_last',\n",
    "    validation_split=0.0\n",
    ")\n",
    "\n",
    "label_generator_test = ImageDataGenerator(\n",
    "    # No rescale transform on target mask\n",
    "    fill_mode='reflect',\n",
    "    data_format='channels_last',\n",
    "    validation_split=0.0\n",
    ")"
   ]
  },
  {
   "cell_type": "code",
   "execution_count": null,
   "metadata": {},
   "outputs": [],
   "source": [
    "train_generator = generator(\n",
    "    TRAIN_PATH,\n",
    "    image_generator_train,\n",
    "    label_generator_train,\n",
    "    batch_sz=1,\n",
    ")\n",
    "test_generator = generator(\n",
    "    TEST_PATH,\n",
    "    image_generator_test,\n",
    "    label_generator_test, \n",
    "    batch_sz=1\n",
    ")"
   ]
  },
  {
   "cell_type": "code",
   "execution_count": null,
   "metadata": {},
   "outputs": [],
   "source": [
    "show_augmentation('data/train/image2/0.png', image_generator_train, n_rows=1)\n",
    "show_augmentation('data/train/label2/0.png', label_generator_train, n_rows=1)"
   ]
  },
  {
   "cell_type": "markdown",
   "metadata": {},
   "source": [
    "## Instantiate and Train the U-Net"
   ]
  },
  {
   "cell_type": "code",
   "execution_count": null,
   "metadata": {},
   "outputs": [],
   "source": [
    "model = unet3d()\n",
    "# model = unet3d_dense()\n",
    "model.compile(\n",
    "    optimizer = Adam(lr=1e-5, beta_1=0.9, beta_2=0.999, epsilon=1e-08, decay=0.000000199),\n",
    "    loss=dice_coef_loss,\n",
    "    metrics = [\n",
    "        'accuracy',\n",
    "        tf.keras.metrics.Precision(),\n",
    "        tf.keras.metrics.Recall(),\n",
    "        tf.keras.metrics.TrueNegatives(),\n",
    "        tf.keras.metrics.TruePositives()\n",
    "    ]\n",
    ")\n",
    "model_checkpoint = ModelCheckpoint(MODEL_NAME, monitor='loss',verbose=1, save_best_only=True)"
   ]
  },
  {
   "cell_type": "code",
   "execution_count": null,
   "metadata": {},
   "outputs": [],
   "source": [
    "model.fit_generator(\n",
    "  train_generator,\n",
    "  steps_per_epoch = 1000,\n",
    "  epochs = 5\n",
    ")"
   ]
  },
  {
   "cell_type": "markdown",
   "metadata": {},
   "source": [
    "## Test the U-Net"
   ]
  },
  {
   "cell_type": "markdown",
   "metadata": {},
   "source": [
    "### Training set predictions"
   ]
  },
  {
   "cell_type": "code",
   "execution_count": null,
   "metadata": {},
   "outputs": [],
   "source": [
    "# results = model.predict(X_test, 2, verbose=1)\n",
    "\n",
    "x0 = np.array(io.imread('data/train/image0/10.png', as_gray=True))\n",
    "x1 = np.array(io.imread('data/train/image1/10.png', as_gray=True))\n",
    "x2 = np.array(io.imread('data/train/image2/10.png', as_gray=True))\n",
    "x3 = np.array(io.imread('data/train/image3/10.png', as_gray=True))\n",
    "\n",
    "X = np.array([x0, x1, x2, x3])\n",
    "\n",
    "y0 = np.array(io.imread('data/train/label0/10.png', as_gray=True))\n",
    "y1 = np.array(io.imread('data/train/label1/10.png', as_gray=True))\n",
    "y2 = np.array(io.imread('data/train/label2/10.png', as_gray=True))\n",
    "y3 = np.array(io.imread('data/train/label3/10.png', as_gray=True))\n",
    "\n",
    "Y = np.array([y0, y1, y2, y3])\n",
    "\n",
    "Y_hat = model.predict(X.reshape(1, 256, 256, 4, 1))"
   ]
  },
  {
   "cell_type": "code",
   "execution_count": null,
   "metadata": {},
   "outputs": [],
   "source": [
    "fig, axs = plt.subplots(1, 3, figsize=(16, 4))\n",
    "\n",
    "axs[0].imshow(X[2], cmap='bone')\n",
    "axs[1].imshow(Y[2], cmap='bone')\n",
    "axs[2].imshow(Y_hat[0].reshape(4, 256, 256)[2], cmap='bone')\n",
    "plt.show()"
   ]
  },
  {
   "cell_type": "markdown",
   "metadata": {},
   "source": [
    "### Test set predictions"
   ]
  },
  {
   "cell_type": "code",
   "execution_count": null,
   "metadata": {},
   "outputs": [],
   "source": [
    "# results = model.predict(X_test, 2, verbose=1)\n",
    "\n",
    "x0 = np.array(io.imread('data/test/image0/0.png', as_gray=True))\n",
    "x1 = np.array(io.imread('data/test/image1/0.png', as_gray=True))\n",
    "x2 = np.array(io.imread('data/test/image2/0.png', as_gray=True))\n",
    "x3 = np.array(io.imread('data/test/image3/0.png', as_gray=True))\n",
    "\n",
    "X = np.array([x0, x1, x2, x3])\n",
    "\n",
    "y0 = np.array(io.imread('data/test/label0/0.png', as_gray=True))\n",
    "y1 = np.array(io.imread('data/test/label1/0.png', as_gray=True))\n",
    "y2 = np.array(io.imread('data/test/label2/0.png', as_gray=True))\n",
    "y3 = np.array(io.imread('data/test/label3/0.png', as_gray=True))\n",
    "\n",
    "Y = np.array([y0, y1, y2, y3])\n",
    "\n",
    "Y_hat = model.predict(X.reshape(1, 256, 256, 4, 1))"
   ]
  },
  {
   "cell_type": "code",
   "execution_count": null,
   "metadata": {},
   "outputs": [],
   "source": [
    "fig, axs = plt.subplots(1, 3, figsize=(16, 4))\n",
    "\n",
    "axs[0].imshow(X[2], cmap='bone')\n",
    "axs[1].imshow(Y[2], cmap='bone')\n",
    "axs[2].imshow(Y_hat[0].reshape(4, 256, 256)[2], cmap='bone')\n",
    "plt.show()"
   ]
  },
  {
   "cell_type": "code",
   "execution_count": null,
   "metadata": {},
   "outputs": [],
   "source": []
  }
 ],
 "metadata": {
  "kernelspec": {
   "display_name": "Python 3",
   "language": "python",
   "name": "python3"
  },
  "language_info": {
   "codemirror_mode": {
    "name": "ipython",
    "version": 3
   },
   "file_extension": ".py",
   "mimetype": "text/x-python",
   "name": "python",
   "nbconvert_exporter": "python",
   "pygments_lexer": "ipython3",
   "version": "3.6.5"
  }
 },
 "nbformat": 4,
 "nbformat_minor": 2
}
