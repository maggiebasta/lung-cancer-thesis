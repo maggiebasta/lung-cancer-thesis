{
 "cells": [
  {
   "cell_type": "code",
   "execution_count": null,
   "metadata": {},
   "outputs": [],
   "source": [
    "import os\n",
    "import shutil \n",
    "\n",
    "import numpy as np\n",
    "import matplotlib.pyplot as plt\n",
    "import skimage.transform as trans\n",
    "from skimage.io import imread\n",
    "\n",
    "import data_downloader\n",
    "\n",
    "import warnings\n",
    "warnings.filterwarnings(\"ignore\")"
   ]
  },
  {
   "cell_type": "markdown",
   "metadata": {},
   "source": [
    "# Download and prepare LIDC_IDRI raw dataset"
   ]
  },
  {
   "cell_type": "code",
   "execution_count": null,
   "metadata": {},
   "outputs": [],
   "source": [
    "# # Clear out old data\n",
    "# shutil.rmtree('data/prepared')"
   ]
  },
  {
   "cell_type": "code",
   "execution_count": null,
   "metadata": {},
   "outputs": [],
   "source": [
    "data_downloader.download_and_extract(1, 3, delete_raw=True)"
   ]
  },
  {
   "cell_type": "markdown",
   "metadata": {},
   "source": [
    "# Split into test and train"
   ]
  },
  {
   "cell_type": "code",
   "execution_count": null,
   "metadata": {},
   "outputs": [],
   "source": [
    "# Clear out old data\n",
    "shutil.rmtree('data/train')\n",
    "shutil.rmtree('data/test')"
   ]
  },
  {
   "cell_type": "code",
   "execution_count": null,
   "metadata": {},
   "outputs": [],
   "source": [
    "data_downloader.test_train_split('data/prepared', 'data/train', 'data/test')"
   ]
  },
  {
   "cell_type": "markdown",
   "metadata": {},
   "source": [
    "# Inspect prepared data"
   ]
  },
  {
   "cell_type": "markdown",
   "metadata": {},
   "source": [
    "### Training data"
   ]
  },
  {
   "cell_type": "code",
   "execution_count": null,
   "metadata": {},
   "outputs": [],
   "source": [
    "train_idx = np.random.randint(len(os.listdir('data/train/image1')))\n",
    "print(train_idx)\n",
    "\n",
    "train_img_1 = imread(f'data/train/image1/{train_idx}.png')\n",
    "train_img_2 = imread(f'data/train/image2/{train_idx}.png')\n",
    "train_img_3 = imread(f'data/train/image3/{train_idx}.png')\n",
    "train_img_4 = imread(f'data/train/image4/{train_idx}.png')\n",
    "train_mask_2 =  imread(f'data/train/label1/{train_idx}.png')\n",
    "train_mask_3 =  imread(f'data/train/label2/{train_idx}.png')\n",
    "train_mask_4 =  imread(f'data/train/label3/{train_idx}.png')\n",
    "train_mask_5 =  imread(f'data/train/label4/{train_idx}.png')\n",
    "\n",
    "\n",
    "fig, axs = plt.subplots(2, 4, figsize=(20, 8))\n",
    "axs[0][0].imshow(train_img_1, cmap='bone')\n",
    "axs[0][1].imshow(train_img_2, cmap='bone')\n",
    "axs[0][2].imshow(train_img_3, cmap='bone')\n",
    "axs[0][3].imshow(train_img_4, cmap='bone')\n",
    "\n",
    "axs[1][0].imshow(train_mask_1, cmap='bone')\n",
    "axs[1][1].imshow(train_mask_2, cmap='bone')\n",
    "axs[1][2].imshow(train_mask_3, cmap='bone')\n",
    "axs[1][3].imshow(train_mask_4, cmap='bone')\n",
    "\n",
    "plt.show()"
   ]
  },
  {
   "cell_type": "markdown",
   "metadata": {},
   "source": [
    "\n",
    "### Test data"
   ]
  },
  {
   "cell_type": "code",
   "execution_count": null,
   "metadata": {},
   "outputs": [],
   "source": [
    "test_idx = np.random.randint(len(os.listdir('data/train/image1'))-1)\n",
    "print(test_idx)\n",
    "\n",
    "test_img_1 = imread(f'data/test/image1/{test_idx}.png')\n",
    "test_img_2 = imread(f'data/test/image2/{test_idx}.png')\n",
    "test_img_3 = imread(f'data/test/image3/{test_idx}.png')\n",
    "test_img_4 = imread(f'data/test/image4/{test_idx}.png')\n",
    "\n",
    "test_mask_1 =  imread(f'data/test/label1/{test_idx}.png')\n",
    "test_mask_2 =  imread(f'data/test/label2/{test_idx}.png')\n",
    "test_mask_3 =  imread(f'data/test/label3/{test_idx}.png')\n",
    "test_mask_4 =  imread(f'data/test/label4/{test_idx}.png')\n",
    "\n",
    "fig, axs = plt.subplots(2, 4, figsize=(20, 8))\n",
    "axs[0][0].imshow(test_img_1, cmap='bone')\n",
    "axs[0][1].imshow(test_img_2, cmap='bone')\n",
    "axs[0][2].imshow(test_img_3, cmap='bone')\n",
    "axs[0][3].imshow(test_img_4, cmap='bone')\n",
    "\n",
    "axs[1][0].imshow(test_mask_1, cmap='bone')\n",
    "axs[1][1].imshow(test_mask_2, cmap='bone')\n",
    "axs[1][2].imshow(test_mask_3, cmap='bone')\n",
    "axs[1][3].imshow(test_mask_4, cmap='bone')\n",
    "\n",
    "plt.show()"
   ]
  },
  {
   "cell_type": "code",
   "execution_count": null,
   "metadata": {},
   "outputs": [],
   "source": []
  }
 ],
 "metadata": {
  "kernelspec": {
   "display_name": "Python 3",
   "language": "python",
   "name": "python3"
  },
  "language_info": {
   "codemirror_mode": {
    "name": "ipython",
    "version": 3
   },
   "file_extension": ".py",
   "mimetype": "text/x-python",
   "name": "python",
   "nbconvert_exporter": "python",
   "pygments_lexer": "ipython3",
   "version": "3.6.9"
  }
 },
 "nbformat": 4,
 "nbformat_minor": 2
}
