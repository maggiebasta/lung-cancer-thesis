{
 "cells": [
  {
   "cell_type": "code",
   "execution_count": 1,
   "metadata": {},
   "outputs": [],
   "source": [
    "import os\n",
    "\n",
    "import matplotlib.pyplot as plt\n",
    "import numpy as np\n",
    "import pandas as pd\n",
    "import pydicom\n",
    "from PIL import Image, ImageEnhance\n"
   ]
  },
  {
   "cell_type": "markdown",
   "metadata": {},
   "source": [
    "## CT Abnormality Dataset"
   ]
  },
  {
   "cell_type": "code",
   "execution_count": 2,
   "metadata": {},
   "outputs": [
    {
     "data": {
      "text/html": [
       "<div>\n",
       "<style scoped>\n",
       "    .dataframe tbody tr th:only-of-type {\n",
       "        vertical-align: middle;\n",
       "    }\n",
       "\n",
       "    .dataframe tbody tr th {\n",
       "        vertical-align: top;\n",
       "    }\n",
       "\n",
       "    .dataframe thead th {\n",
       "        text-align: right;\n",
       "    }\n",
       "</style>\n",
       "<table border=\"1\" class=\"dataframe\">\n",
       "  <thead>\n",
       "    <tr style=\"text-align: right;\">\n",
       "      <th></th>\n",
       "      <th>sct_ab_desc</th>\n",
       "      <th>sct_ab_num</th>\n",
       "      <th>sct_epi_loc</th>\n",
       "      <th>sct_long_dia</th>\n",
       "      <th>sct_margins</th>\n",
       "      <th>sct_perp_dia</th>\n",
       "      <th>sct_pre_att</th>\n",
       "      <th>study_yr</th>\n",
       "      <th>sct_slice_num</th>\n",
       "      <th>sct_found_after_comp</th>\n",
       "      <th>pid</th>\n",
       "      <th>dataset_version</th>\n",
       "      <th>scr_group</th>\n",
       "      <th>ct_selected</th>\n",
       "      <th>sct_ab_preexist</th>\n",
       "      <th>sct_ab_attn</th>\n",
       "      <th>sct_ab_gwth</th>\n",
       "      <th>visible_days</th>\n",
       "      <th>sct_ab_has_comparison</th>\n",
       "    </tr>\n",
       "  </thead>\n",
       "  <tbody>\n",
       "    <tr>\n",
       "      <th>0</th>\n",
       "      <td>51</td>\n",
       "      <td>1</td>\n",
       "      <td>1.0</td>\n",
       "      <td>8.0</td>\n",
       "      <td>2.0</td>\n",
       "      <td>5.0</td>\n",
       "      <td>1.0</td>\n",
       "      <td>0</td>\n",
       "      <td>38.0</td>\n",
       "      <td>0.0</td>\n",
       "      <td>100012</td>\n",
       "      <td>2011.02.03/08.20.19</td>\n",
       "      <td>1</td>\n",
       "      <td>1</td>\n",
       "      <td>NaN</td>\n",
       "      <td>NaN</td>\n",
       "      <td>NaN</td>\n",
       "      <td>NaN</td>\n",
       "      <td>0</td>\n",
       "    </tr>\n",
       "    <tr>\n",
       "      <th>1</th>\n",
       "      <td>64</td>\n",
       "      <td>2</td>\n",
       "      <td>NaN</td>\n",
       "      <td>NaN</td>\n",
       "      <td>NaN</td>\n",
       "      <td>NaN</td>\n",
       "      <td>NaN</td>\n",
       "      <td>0</td>\n",
       "      <td>NaN</td>\n",
       "      <td>0.0</td>\n",
       "      <td>100012</td>\n",
       "      <td>2011.02.03/08.20.19</td>\n",
       "      <td>1</td>\n",
       "      <td>1</td>\n",
       "      <td>NaN</td>\n",
       "      <td>NaN</td>\n",
       "      <td>NaN</td>\n",
       "      <td>NaN</td>\n",
       "      <td>0</td>\n",
       "    </tr>\n",
       "    <tr>\n",
       "      <th>2</th>\n",
       "      <td>51</td>\n",
       "      <td>1</td>\n",
       "      <td>1.0</td>\n",
       "      <td>15.0</td>\n",
       "      <td>1.0</td>\n",
       "      <td>10.0</td>\n",
       "      <td>2.0</td>\n",
       "      <td>1</td>\n",
       "      <td>39.0</td>\n",
       "      <td>0.0</td>\n",
       "      <td>100012</td>\n",
       "      <td>2011.02.03/08.20.19</td>\n",
       "      <td>1</td>\n",
       "      <td>1</td>\n",
       "      <td>2.0</td>\n",
       "      <td>2.0</td>\n",
       "      <td>2.0</td>\n",
       "      <td>16.0</td>\n",
       "      <td>1</td>\n",
       "    </tr>\n",
       "    <tr>\n",
       "      <th>3</th>\n",
       "      <td>64</td>\n",
       "      <td>2</td>\n",
       "      <td>NaN</td>\n",
       "      <td>NaN</td>\n",
       "      <td>NaN</td>\n",
       "      <td>NaN</td>\n",
       "      <td>NaN</td>\n",
       "      <td>1</td>\n",
       "      <td>NaN</td>\n",
       "      <td>0.0</td>\n",
       "      <td>100012</td>\n",
       "      <td>2011.02.03/08.20.19</td>\n",
       "      <td>1</td>\n",
       "      <td>1</td>\n",
       "      <td>NaN</td>\n",
       "      <td>NaN</td>\n",
       "      <td>NaN</td>\n",
       "      <td>NaN</td>\n",
       "      <td>0</td>\n",
       "    </tr>\n",
       "    <tr>\n",
       "      <th>4</th>\n",
       "      <td>65</td>\n",
       "      <td>1</td>\n",
       "      <td>NaN</td>\n",
       "      <td>NaN</td>\n",
       "      <td>NaN</td>\n",
       "      <td>NaN</td>\n",
       "      <td>NaN</td>\n",
       "      <td>0</td>\n",
       "      <td>NaN</td>\n",
       "      <td>0.0</td>\n",
       "      <td>100147</td>\n",
       "      <td>2011.02.03/08.20.19</td>\n",
       "      <td>1</td>\n",
       "      <td>1</td>\n",
       "      <td>NaN</td>\n",
       "      <td>NaN</td>\n",
       "      <td>NaN</td>\n",
       "      <td>NaN</td>\n",
       "      <td>0</td>\n",
       "    </tr>\n",
       "  </tbody>\n",
       "</table>\n",
       "</div>"
      ],
      "text/plain": [
       "   sct_ab_desc  sct_ab_num  sct_epi_loc  sct_long_dia  sct_margins  \\\n",
       "0           51           1          1.0           8.0          2.0   \n",
       "1           64           2          NaN           NaN          NaN   \n",
       "2           51           1          1.0          15.0          1.0   \n",
       "3           64           2          NaN           NaN          NaN   \n",
       "4           65           1          NaN           NaN          NaN   \n",
       "\n",
       "   sct_perp_dia  sct_pre_att  study_yr  sct_slice_num  sct_found_after_comp  \\\n",
       "0           5.0          1.0         0           38.0                   0.0   \n",
       "1           NaN          NaN         0            NaN                   0.0   \n",
       "2          10.0          2.0         1           39.0                   0.0   \n",
       "3           NaN          NaN         1            NaN                   0.0   \n",
       "4           NaN          NaN         0            NaN                   0.0   \n",
       "\n",
       "      pid      dataset_version  scr_group  ct_selected  sct_ab_preexist  \\\n",
       "0  100012  2011.02.03/08.20.19          1            1              NaN   \n",
       "1  100012  2011.02.03/08.20.19          1            1              NaN   \n",
       "2  100012  2011.02.03/08.20.19          1            1              2.0   \n",
       "3  100012  2011.02.03/08.20.19          1            1              NaN   \n",
       "4  100147  2011.02.03/08.20.19          1            1              NaN   \n",
       "\n",
       "   sct_ab_attn  sct_ab_gwth  visible_days  sct_ab_has_comparison  \n",
       "0          NaN          NaN           NaN                      0  \n",
       "1          NaN          NaN           NaN                      0  \n",
       "2          2.0          2.0          16.0                      1  \n",
       "3          NaN          NaN           NaN                      0  \n",
       "4          NaN          NaN           NaN                      0  "
      ]
     },
     "execution_count": 2,
     "metadata": {},
     "output_type": "execute_result"
    }
   ],
   "source": [
    "df_ab = pd.read_csv('data/nlst_567/nlst_567_ct_ab_20191108.csv')\n",
    "df_ab.head()"
   ]
  },
  {
   "cell_type": "code",
   "execution_count": 3,
   "metadata": {},
   "outputs": [
    {
     "name": "stdout",
     "output_type": "stream",
     "text": [
      "(1706, 5)\n"
     ]
    },
    {
     "name": "stderr",
     "output_type": "stream",
     "text": [
      "/home/ubuntu/anaconda3/envs/tensorflow_p36/lib/python3.6/site-packages/ipykernel_launcher.py:11: SettingWithCopyWarning: \n",
      "A value is trying to be set on a copy of a slice from a DataFrame.\n",
      "Try using .loc[row_indexer,col_indexer] = value instead\n",
      "\n",
      "See the caveats in the documentation: http://pandas.pydata.org/pandas-docs/stable/indexing.html#indexing-view-versus-copy\n",
      "  # This is added back by InteractiveShellApp.init_path()\n"
     ]
    },
    {
     "data": {
      "text/html": [
       "<div>\n",
       "<style scoped>\n",
       "    .dataframe tbody tr th:only-of-type {\n",
       "        vertical-align: middle;\n",
       "    }\n",
       "\n",
       "    .dataframe tbody tr th {\n",
       "        vertical-align: top;\n",
       "    }\n",
       "\n",
       "    .dataframe thead th {\n",
       "        text-align: right;\n",
       "    }\n",
       "</style>\n",
       "<table border=\"1\" class=\"dataframe\">\n",
       "  <thead>\n",
       "    <tr style=\"text-align: right;\">\n",
       "      <th></th>\n",
       "      <th>pid</th>\n",
       "      <th>study_yr</th>\n",
       "      <th>sct_ab_num</th>\n",
       "      <th>sct_slice_num</th>\n",
       "      <th>sct_long_dia</th>\n",
       "    </tr>\n",
       "  </thead>\n",
       "  <tbody>\n",
       "    <tr>\n",
       "      <th>0</th>\n",
       "      <td>100012</td>\n",
       "      <td>T0</td>\n",
       "      <td>1</td>\n",
       "      <td>38.0</td>\n",
       "      <td>8.0</td>\n",
       "    </tr>\n",
       "    <tr>\n",
       "      <th>2</th>\n",
       "      <td>100012</td>\n",
       "      <td>T1</td>\n",
       "      <td>1</td>\n",
       "      <td>39.0</td>\n",
       "      <td>15.0</td>\n",
       "    </tr>\n",
       "    <tr>\n",
       "      <th>7</th>\n",
       "      <td>100147</td>\n",
       "      <td>T0</td>\n",
       "      <td>4</td>\n",
       "      <td>88.0</td>\n",
       "      <td>9.0</td>\n",
       "    </tr>\n",
       "    <tr>\n",
       "      <th>8</th>\n",
       "      <td>100147</td>\n",
       "      <td>T1</td>\n",
       "      <td>1</td>\n",
       "      <td>92.0</td>\n",
       "      <td>NaN</td>\n",
       "    </tr>\n",
       "    <tr>\n",
       "      <th>15</th>\n",
       "      <td>100158</td>\n",
       "      <td>T2</td>\n",
       "      <td>1</td>\n",
       "      <td>57.0</td>\n",
       "      <td>12.0</td>\n",
       "    </tr>\n",
       "  </tbody>\n",
       "</table>\n",
       "</div>"
      ],
      "text/plain": [
       "       pid study_yr  sct_ab_num  sct_slice_num  sct_long_dia\n",
       "0   100012       T0           1           38.0           8.0\n",
       "2   100012       T1           1           39.0          15.0\n",
       "7   100147       T0           4           88.0           9.0\n",
       "8   100147       T1           1           92.0           NaN\n",
       "15  100158       T2           1           57.0          12.0"
      ]
     },
     "execution_count": 3,
     "metadata": {},
     "output_type": "execute_result"
    }
   ],
   "source": [
    "# drop entries w/o corresponding slice number\n",
    "df_ab = df_ab.dropna(subset=['sct_slice_num'])\n",
    "\n",
    "# extract only pid, study year and slice number\n",
    "df_slices = df_ab[['pid', 'study_yr', 'sct_ab_num', 'sct_slice_num', 'sct_long_dia']]\n",
    "print(df_slices.shape)\n",
    "df_slices.head()\n",
    "\n",
    "# convert years to match CT image file structure \n",
    "year_conversion = {0: 'T0', 1: 'T1', 2: 'T2'}\n",
    "df_slices['study_yr'] = df_slices.apply(lambda row: year_conversion[row['study_yr']], axis=1)\n",
    "df_slices.head()"
   ]
  },
  {
   "cell_type": "markdown",
   "metadata": {},
   "source": [
    "# Treatment dataset"
   ]
  },
  {
   "cell_type": "code",
   "execution_count": 4,
   "metadata": {},
   "outputs": [
    {
     "data": {
      "text/html": [
       "<div>\n",
       "<style scoped>\n",
       "    .dataframe tbody tr th:only-of-type {\n",
       "        vertical-align: middle;\n",
       "    }\n",
       "\n",
       "    .dataframe tbody tr th {\n",
       "        vertical-align: top;\n",
       "    }\n",
       "\n",
       "    .dataframe thead th {\n",
       "        text-align: right;\n",
       "    }\n",
       "</style>\n",
       "<table border=\"1\" class=\"dataframe\">\n",
       "  <thead>\n",
       "    <tr style=\"text-align: right;\">\n",
       "      <th></th>\n",
       "      <th>dataset_version</th>\n",
       "      <th>pid</th>\n",
       "      <th>disease_post_surg</th>\n",
       "      <th>rad_stop_days</th>\n",
       "      <th>treat</th>\n",
       "      <th>treat_days</th>\n",
       "      <th>treat_year</th>\n",
       "      <th>treatnum</th>\n",
       "    </tr>\n",
       "  </thead>\n",
       "  <tbody>\n",
       "    <tr>\n",
       "      <th>0</th>\n",
       "      <td>2011.02.03/10.05.17</td>\n",
       "      <td>100012</td>\n",
       "      <td>0.0</td>\n",
       "      <td>NaN</td>\n",
       "      <td>2</td>\n",
       "      <td>483.0</td>\n",
       "      <td>1</td>\n",
       "      <td>203</td>\n",
       "    </tr>\n",
       "    <tr>\n",
       "      <th>1</th>\n",
       "      <td>2011.02.03/10.05.17</td>\n",
       "      <td>100012</td>\n",
       "      <td>0.0</td>\n",
       "      <td>NaN</td>\n",
       "      <td>2</td>\n",
       "      <td>483.0</td>\n",
       "      <td>1</td>\n",
       "      <td>208</td>\n",
       "    </tr>\n",
       "    <tr>\n",
       "      <th>2</th>\n",
       "      <td>2011.02.03/10.05.17</td>\n",
       "      <td>100049</td>\n",
       "      <td>NaN</td>\n",
       "      <td>2499.0</td>\n",
       "      <td>1</td>\n",
       "      <td>2471.0</td>\n",
       "      <td>6</td>\n",
       "      <td>101</td>\n",
       "    </tr>\n",
       "    <tr>\n",
       "      <th>3</th>\n",
       "      <td>2011.02.03/10.05.17</td>\n",
       "      <td>100055</td>\n",
       "      <td>2.0</td>\n",
       "      <td>NaN</td>\n",
       "      <td>2</td>\n",
       "      <td>148.0</td>\n",
       "      <td>0</td>\n",
       "      <td>201</td>\n",
       "    </tr>\n",
       "    <tr>\n",
       "      <th>4</th>\n",
       "      <td>2011.02.03/10.05.17</td>\n",
       "      <td>100055</td>\n",
       "      <td>2.0</td>\n",
       "      <td>NaN</td>\n",
       "      <td>2</td>\n",
       "      <td>148.0</td>\n",
       "      <td>0</td>\n",
       "      <td>208</td>\n",
       "    </tr>\n",
       "  </tbody>\n",
       "</table>\n",
       "</div>"
      ],
      "text/plain": [
       "       dataset_version     pid  disease_post_surg  rad_stop_days  treat  \\\n",
       "0  2011.02.03/10.05.17  100012                0.0            NaN      2   \n",
       "1  2011.02.03/10.05.17  100012                0.0            NaN      2   \n",
       "2  2011.02.03/10.05.17  100049                NaN         2499.0      1   \n",
       "3  2011.02.03/10.05.17  100055                2.0            NaN      2   \n",
       "4  2011.02.03/10.05.17  100055                2.0            NaN      2   \n",
       "\n",
       "   treat_days  treat_year  treatnum  \n",
       "0       483.0           1       203  \n",
       "1       483.0           1       208  \n",
       "2      2471.0           6       101  \n",
       "3       148.0           0       201  \n",
       "4       148.0           0       208  "
      ]
     },
     "execution_count": 4,
     "metadata": {},
     "output_type": "execute_result"
    }
   ],
   "source": [
    "df_treat = pd.read_csv('data/nlst_567/treatment.data.d100517.csv')\n",
    "df_treat.head()"
   ]
  },
  {
   "cell_type": "code",
   "execution_count": 5,
   "metadata": {},
   "outputs": [
    {
     "data": {
      "text/html": [
       "<div>\n",
       "<style scoped>\n",
       "    .dataframe tbody tr th:only-of-type {\n",
       "        vertical-align: middle;\n",
       "    }\n",
       "\n",
       "    .dataframe tbody tr th {\n",
       "        vertical-align: top;\n",
       "    }\n",
       "\n",
       "    .dataframe thead th {\n",
       "        text-align: right;\n",
       "    }\n",
       "</style>\n",
       "<table border=\"1\" class=\"dataframe\">\n",
       "  <thead>\n",
       "    <tr style=\"text-align: right;\">\n",
       "      <th></th>\n",
       "      <th>pid</th>\n",
       "      <th>treat_year</th>\n",
       "      <th>treat_days</th>\n",
       "      <th>disease_post_surg</th>\n",
       "    </tr>\n",
       "  </thead>\n",
       "  <tbody>\n",
       "    <tr>\n",
       "      <th>0</th>\n",
       "      <td>100012.0</td>\n",
       "      <td>1</td>\n",
       "      <td>483.0</td>\n",
       "      <td>0.0</td>\n",
       "    </tr>\n",
       "    <tr>\n",
       "      <th>6</th>\n",
       "      <td>100147.0</td>\n",
       "      <td>1</td>\n",
       "      <td>491.0</td>\n",
       "      <td>0.0</td>\n",
       "    </tr>\n",
       "    <tr>\n",
       "      <th>8</th>\n",
       "      <td>100158.0</td>\n",
       "      <td>2</td>\n",
       "      <td>795.0</td>\n",
       "      <td>0.0</td>\n",
       "    </tr>\n",
       "    <tr>\n",
       "      <th>11</th>\n",
       "      <td>100242.0</td>\n",
       "      <td>0</td>\n",
       "      <td>79.0</td>\n",
       "      <td>0.0</td>\n",
       "    </tr>\n",
       "    <tr>\n",
       "      <th>15</th>\n",
       "      <td>100280.0</td>\n",
       "      <td>1</td>\n",
       "      <td>456.0</td>\n",
       "      <td>0.0</td>\n",
       "    </tr>\n",
       "  </tbody>\n",
       "</table>\n",
       "</div>"
      ],
      "text/plain": [
       "         pid  treat_year  treat_days  disease_post_surg\n",
       "0   100012.0           1       483.0                0.0\n",
       "6   100147.0           1       491.0                0.0\n",
       "8   100158.0           2       795.0                0.0\n",
       "11  100242.0           0        79.0                0.0\n",
       "15  100280.0           1       456.0                0.0"
      ]
     },
     "execution_count": 5,
     "metadata": {},
     "output_type": "execute_result"
    }
   ],
   "source": [
    "# keep only patients with no residual disease left after surgery \n",
    "df_treat = df_treat[df_treat.disease_post_surg == 0]\n",
    "\n",
    "# keep only pids \n",
    "df_treat = df_treat[['pid', 'treat_year', 'treat_days', 'disease_post_surg']]\n",
    "df_treat['pid'] = df_treat['pid'].drop_duplicates()\n",
    "df_treat = df_treat.dropna()\n",
    "df_treat.head()"
   ]
  },
  {
   "cell_type": "markdown",
   "metadata": {},
   "source": [
    "# Person dataset"
   ]
  },
  {
   "cell_type": "code",
   "execution_count": 6,
   "metadata": {},
   "outputs": [
    {
     "name": "stderr",
     "output_type": "stream",
     "text": [
      "/home/ubuntu/anaconda3/envs/tensorflow_p36/lib/python3.6/site-packages/IPython/core/interactiveshell.py:2785: DtypeWarning: Columns (201,224,225) have mixed types. Specify dtype option on import or set low_memory=False.\n",
      "  interactivity=interactivity, compiler=compiler, result=result)\n"
     ]
    }
   ],
   "source": [
    "df_person = pd.read_csv('data/nlst_567/nlst_567_prsn_20191108.csv')\n",
    "\n",
    "# only keep patients that remained in contact\n",
    "df_person = df_person[np.logical_or(df_person['contactstatus'] == 1, df_person['contactstatus'] == 2)]\n",
    "\n",
    "# combine death to lung cancer columns \n",
    "df_person['finaldeathlc'] =  df_person['finaldeathlc'].fillna(0)\n",
    "df_person['dcfdeathlc'] =  df_person['dcfdeathlc'].fillna(0)\n",
    "df_person['finaldeathlc'] = np.logical_or(df_person['finaldeathlc'], df_person['dcfdeathlc'])\n",
    "\n",
    "# keep only pid, progression status and death columns\n",
    "df_person = df_person[['pid', 'prog_days_1st', 'progressed_ever', 'progsite_adrenal_ever', 'finaldeathlc', 'death_days', 'last_progfree_days']]\n"
   ]
  },
  {
   "cell_type": "markdown",
   "metadata": {},
   "source": [
    "# Join datasets"
   ]
  },
  {
   "cell_type": "code",
   "execution_count": 7,
   "metadata": {},
   "outputs": [],
   "source": [
    "df = df_slices.join(df_treat.set_index('pid'), on='pid', how='inner')\n",
    "df = df.join(df_person.set_index('pid'), on='pid', how='inner')\n",
    "# remove uncertains \n",
    "df = df[np.logical_or(\n",
    "    np.logical_or(df.progressed_ever == 0, df.progressed_ever == 1),\n",
    "    np.logical_or(df.progsite_adrenal_ever == 0, df.progsite_adrenal_ever == 1)\n",
    ")]"
   ]
  },
  {
   "cell_type": "markdown",
   "metadata": {},
   "source": [
    "# Clean"
   ]
  },
  {
   "cell_type": "code",
   "execution_count": 8,
   "metadata": {},
   "outputs": [],
   "source": [
    "# drop those who had no progression but died of lung cancer (likely died in surgery?)\n",
    "df = df.drop(df[np.logical_and(df.progressed_ever == 0, df.finaldeathlc == 1)].index)"
   ]
  },
  {
   "cell_type": "code",
   "execution_count": 9,
   "metadata": {},
   "outputs": [],
   "source": [
    "# drop those w/o diameter information (< 4mm)\n",
    "df = df.dropna(subset=['sct_long_dia'])"
   ]
  },
  {
   "cell_type": "code",
   "execution_count": 10,
   "metadata": {},
   "outputs": [],
   "source": [
    "# make recurrence column\n",
    "df_slices_pos = df[np.logical_or(\n",
    "    np.logical_and(df.progressed_ever == 1, df.prog_days_1st >  df.treat_days),\n",
    "    df.finaldeathlc == 1\n",
    ")]\n",
    "df_slices_neg = df[np.logical_and(\n",
    "    np.logical_or(df.progressed_ever == 0, df.prog_days_1st <  df.treat_days), \n",
    "    df.finaldeathlc == 0\n",
    ")]\n",
    "\n",
    "recurrence = []\n",
    "for idx in df.index:\n",
    "    if idx in df_slices_pos.index: \n",
    "        recurrence.append(1)\n",
    "    elif idx in df_slices_neg.index:\n",
    "        recurrence.append(0)\n",
    "    else:\n",
    "        recurrence.append(None)\n",
    "df['recurrence'] = recurrence"
   ]
  },
  {
   "cell_type": "code",
   "execution_count": 11,
   "metadata": {},
   "outputs": [
    {
     "name": "stdout",
     "output_type": "stream",
     "text": [
      "Number of 'recurrent' nodules: 233\n",
      "Number of 'recurrent' patients: 99\n",
      "\n",
      "Number of 'non-recurrent' nodules: 875\n",
      "Number of 'non-recurrent' patients: 299\n"
     ]
    }
   ],
   "source": [
    "df_slices_pos = df[df.recurrence == 1]\n",
    "df_slices_neg = df[df.recurrence == 0]\n",
    "\n",
    "print(f\"Number of 'recurrent' nodules: {len(df_slices_pos)}\")\n",
    "print(f\"Number of 'recurrent' patients: {len(df_slices_pos.pid.unique())}\\n\")\n",
    "\n",
    "print(f\"Number of 'non-recurrent' nodules: {len(df_slices_neg)}\")\n",
    "print(f\"Number of 'non-recurrent' patients: {len(df_slices_neg.pid.unique())}\")"
   ]
  },
  {
   "cell_type": "code",
   "execution_count": 12,
   "metadata": {},
   "outputs": [],
   "source": [
    "# save table\n",
    "df.to_csv('data/nlst_table.csv', index=None)"
   ]
  },
  {
   "cell_type": "code",
   "execution_count": 13,
   "metadata": {},
   "outputs": [
    {
     "data": {
      "text/plain": [
       "Index(['pid', 'study_yr', 'sct_ab_num', 'sct_slice_num', 'sct_long_dia',\n",
       "       'treat_year', 'treat_days', 'disease_post_surg', 'prog_days_1st',\n",
       "       'progressed_ever', 'progsite_adrenal_ever', 'finaldeathlc',\n",
       "       'death_days', 'last_progfree_days', 'recurrence'],\n",
       "      dtype='object')"
      ]
     },
     "execution_count": 13,
     "metadata": {},
     "output_type": "execute_result"
    }
   ],
   "source": [
    "df.columns"
   ]
  },
  {
   "cell_type": "markdown",
   "metadata": {},
   "source": [
    "# More Info"
   ]
  },
  {
   "cell_type": "markdown",
   "metadata": {},
   "source": [
    "**Infer adjuvent therapy feature**"
   ]
  },
  {
   "cell_type": "code",
   "execution_count": 14,
   "metadata": {},
   "outputs": [
    {
     "name": "stderr",
     "output_type": "stream",
     "text": [
      "/home/ubuntu/anaconda3/envs/tensorflow_p36/lib/python3.6/site-packages/IPython/core/interactiveshell.py:2785: DtypeWarning: Columns (201,224,225) have mixed types. Specify dtype option on import or set low_memory=False.\n",
      "  interactivity=interactivity, compiler=compiler, result=result)\n"
     ]
    }
   ],
   "source": [
    "df_patient = df[['pid', 'treat_days', 'recurrence']]\n",
    "df_patient = df_patient.drop_duplicates()\n",
    "\n",
    "df_chemo = pd.read_csv('data/nlst_567/treatment.data.d100517.csv')\n",
    "df_chemo = df_chemo[df_chemo.treatnum==300]\n",
    "ChemoDays = {row.pid: row.treat_days for _, row in df_chemo.iterrows()}\n",
    "\n",
    "adjuvent = []\n",
    "for idx, row in df_patient.iterrows():\n",
    "    if row.pid in ChemoDays and row.treat_days < ChemoDays[row.pid]:\n",
    "        adjuvent.append(1)\n",
    "    else:\n",
    "        adjuvent.append(0)\n",
    "        \n",
    "        \n",
    "df_patient['adjuvent'] = adjuvent\n",
    "\n",
    "more_feats = pd.read_csv('data/nlst_567/nlst_567_prsn_20191108.csv')[['pid', 'age', 'gender', 'de_stag']]\n",
    "df_patient = df_patient.join(more_feats.set_index('pid'), on='pid', how='inner')"
   ]
  },
  {
   "cell_type": "markdown",
   "metadata": {},
   "source": [
    "**Rearrange staging data**"
   ]
  },
  {
   "cell_type": "code",
   "execution_count": 15,
   "metadata": {},
   "outputs": [],
   "source": [
    "df_patient['stage 1a'] = [int(de_stag==110) for de_stag in df_patient.de_stag]\n",
    "df_patient['stage 1b'] = [int(de_stag==120) for de_stag in df_patient.de_stag]\n",
    "df_patient['stage 2a'] = [int(de_stag==210) for de_stag in df_patient.de_stag]\n",
    "df_patient['stage 2b'] = [int(de_stag==220) for de_stag in df_patient.de_stag]\n",
    "df_patient['stage 3a'] = [int(de_stag==310) for de_stag in df_patient.de_stag]\n",
    "df_patient['stage 3b'] = [int(de_stag==320) for de_stag in df_patient.de_stag]\n",
    "df_patient['stage 4'] = [int(de_stag==400) for de_stag in df_patient.de_stag]\n",
    "df_patient = df_patient.drop(['de_stag', 'treat_days'], axis=1)\n",
    "df_patient = df_patient.dropna()\n",
    "\n",
    "df_patient['stage 1'] = np.logical_or(df_patient['stage 1a'], df_patient['stage 1b'])\n",
    "df_patient['stage 2'] = np.logical_or(df_patient['stage 2a'], df_patient['stage 2b'])\n",
    "df_patient['stage 3'] = np.logical_or(df_patient['stage 3a'], df_patient['stage 3b'])\n",
    "\n",
    "df_patient['stage'] = df_patient['stage 1'] + 2*df_patient['stage 2'] + 3*df_patient['stage 3'] + 4*df_patient['stage 4']"
   ]
  },
  {
   "cell_type": "code",
   "execution_count": 16,
   "metadata": {},
   "outputs": [],
   "source": [
    "df_patient.to_csv('data/nlst_patient_table.csv', index=None)"
   ]
  },
  {
   "cell_type": "code",
   "execution_count": null,
   "metadata": {},
   "outputs": [],
   "source": []
  }
 ],
 "metadata": {
  "kernelspec": {
   "display_name": "Python 3",
   "language": "python",
   "name": "python3"
  },
  "language_info": {
   "codemirror_mode": {
    "name": "ipython",
    "version": 3
   },
   "file_extension": ".py",
   "mimetype": "text/x-python",
   "name": "python",
   "nbconvert_exporter": "python",
   "pygments_lexer": "ipython3",
   "version": "3.6.5"
  }
 },
 "nbformat": 4,
 "nbformat_minor": 2
}
