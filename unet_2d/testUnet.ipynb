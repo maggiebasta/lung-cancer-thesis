{
 "cells": [
  {
   "cell_type": "code",
   "execution_count": 2,
   "metadata": {},
   "outputs": [
    {
     "name": "stderr",
     "output_type": "stream",
     "text": [
      "Using TensorFlow backend.\n"
     ]
    }
   ],
   "source": [
    "import os\n",
    "import sys\n",
    "\n",
    "import matplotlib.pyplot as plt\n",
    "import pandas as pd\n",
    "import pydicom\n",
    "from skimage.io import imread\n",
    "\n",
    "from unet_2d_res import *\n",
    "\n",
    "sys.path.append(\"../\")\n",
    "from preprocess_helpers import *\n",
    "\n",
    "import warnings\n",
    "warnings.filterwarnings(\"ignore\")"
   ]
  },
  {
   "cell_type": "markdown",
   "metadata": {},
   "source": [
    "# Load Trained Model"
   ]
  },
  {
   "cell_type": "code",
   "execution_count": 21,
   "metadata": {},
   "outputs": [],
   "source": [
    "MODEL_NAME = 'unet_lidc_4.hdf5'\n",
    "\n",
    "model = unet_2d_res()\n",
    "model.load_weights(MODEL_NAME)"
   ]
  },
  {
   "cell_type": "markdown",
   "metadata": {},
   "source": [
    "# Load Data"
   ]
  },
  {
   "cell_type": "code",
   "execution_count": 4,
   "metadata": {},
   "outputs": [
    {
     "name": "stdout",
     "output_type": "stream",
     "text": [
      "(5513, 256, 256, 1)\n",
      "(5513, 256, 256, 1)\n",
      "(138, 256, 256, 1)\n",
      "(138, 256, 256, 1)\n"
     ]
    }
   ],
   "source": [
    "X_train = np.array([\n",
    "    imread(f'data/train/image/{im}').reshape(256, 256, 1)/255\n",
    "    for im in os.listdir('data/train/image/')\n",
    "])\n",
    "y_train = np.array([\n",
    "    imread(f'data/train/label/{im}').reshape(256, 256, 1)\n",
    "    for im in os.listdir('data/train/label/')\n",
    "])\n",
    "\n",
    "X_test = np.array([\n",
    "    imread(f'data/test/image/{im}').reshape(256, 256, 1)/255\n",
    "    for im in os.listdir('data/test/image/')\n",
    "])\n",
    "y_test = np.array([\n",
    "    imread(f'data/test/label/{im}').reshape(256, 256, 1)\n",
    "    for im in os.listdir('data/test/label/')\n",
    "])\n",
    "\n",
    "\n",
    "print(X_train.shape)\n",
    "print(y_train.shape)\n",
    "print(X_test.shape)\n",
    "print(y_test.shape)"
   ]
  },
  {
   "cell_type": "markdown",
   "metadata": {},
   "source": [
    "# Metrics"
   ]
  },
  {
   "cell_type": "code",
   "execution_count": 5,
   "metadata": {},
   "outputs": [],
   "source": [
    "def image_recall(y_true, y_pred):\n",
    "    y_pred = np.round(y_pred)\n",
    "    tp = np.sum(y_true*y_pred)\n",
    "    fn = np.sum(np.clip(y_true - y_pred, 0, 1))\n",
    "    return np.mean(tp / (tp + fn))"
   ]
  },
  {
   "cell_type": "code",
   "execution_count": 6,
   "metadata": {},
   "outputs": [],
   "source": [
    "def image_precision(y_true, y_pred):\n",
    "    y_pred = np.round(y_pred)\n",
    "    tp = np.sum(y_true*y_pred)\n",
    "    fp = np.sum(np.clip(y_pred - y_true, 0, 1))\n",
    "    return np.mean(tp / (tp + fp))"
   ]
  },
  {
   "cell_type": "code",
   "execution_count": 7,
   "metadata": {},
   "outputs": [],
   "source": [
    "def dice_coef(y_true, y_pred, smooth=1):\n",
    "    y_pred = np.round(y_pred)\n",
    "    intersection = np.sum(y_true * y_pred)\n",
    "    union = np.sum(y_true) + np.sum(y_pred)\n",
    "    return np.mean((2. * intersection + smooth) / (union + smooth))"
   ]
  },
  {
   "cell_type": "code",
   "execution_count": 8,
   "metadata": {},
   "outputs": [],
   "source": [
    "def get_most_activated_roi(y_pred_mask):\n",
    "    y_pred_mask = y_pred_mask.reshape(256, 256)\n",
    "    blobs = y_pred_mask > .05\n",
    "    blobs_labels = measure.label(blobs, background=0)\n",
    "    labels = np.unique(blobs_labels)[1:]\n",
    "    activations = []\n",
    "    for label in labels:\n",
    "        blob_activation = 0\n",
    "        idxs = np.argwhere(blobs_labels==label)\n",
    "        for idx_x, idx_y in idxs: \n",
    "            blob_activation += y_pred_mask[idx_x][idx_y]\n",
    "        activations.append(blob_activation)\n",
    "    max_region = np.argwhere(blobs_labels == np.argmax(activations) + 1).T\n",
    "    x_center = int(max_region[0].mean())\n",
    "    y_center = int(max_region[1].mean())\n",
    "    return [(x_center-16, y_center-16), (x_center+16, y_center+16)]\n",
    "\n",
    "def get_grouped_nodule_coords(y_true_mask):\n",
    "    y_true_mask = y_true_mask.reshape(256, 256)\n",
    "    blobs = y_true_mask == 1\n",
    "    blobs_labels = measure.label(blobs, background=0)\n",
    "    labels = np.unique(blobs_labels)[1:]\n",
    "    return [np.argwhere(blobs_labels == l) for l in labels]\n",
    "\n",
    "def percent_included(y_true, y_pred):\n",
    "    if np.count_nonzero(np.round(y_pred)) == 0:\n",
    "        return 0\n",
    "    predicted_roi = get_most_activated_roi(y_pred)\n",
    "    mask_groups_coords = get_grouped_nodule_coords(y_true)\n",
    "    \n",
    "    xmin, ymin = predicted_roi[0]\n",
    "    xmax, ymax = predicted_roi[1]\n",
    "    \n",
    "    percentages = []\n",
    "    for coords in mask_groups_coords:\n",
    "        count = 0\n",
    "        for xi, yi in coords:\n",
    "            if xi >= xmin and xi < xmax and yi >= ymin and yi < ymax:\n",
    "                count += 1\n",
    "        percentages.append(count/len(coords))\n",
    "    return max(percentages)"
   ]
  },
  {
   "cell_type": "markdown",
   "metadata": {},
   "source": [
    "# Predict"
   ]
  },
  {
   "cell_type": "markdown",
   "metadata": {},
   "source": [
    "### Train example"
   ]
  },
  {
   "cell_type": "code",
   "execution_count": 11,
   "metadata": {},
   "outputs": [
    {
     "name": "stdout",
     "output_type": "stream",
     "text": [
      "582\n"
     ]
    },
    {
     "data": {
      "image/png": "[encoded data removed]",
      "text/plain": [
       "<Figure size 864x1152 with 3 Axes>"
      ]
     },
     "metadata": {},
     "output_type": "display_data"
    },
    {
     "name": "stdout",
     "output_type": "stream",
     "text": [
      "Recall 1.0\n",
      "Precision 0.5793103575706482\n",
      "Dice coefficient 0.7347826086956522\n",
      "Percent included in ROI 1.0\n"
     ]
    }
   ],
   "source": [
    "idx = np.random.randint(len(os.listdir('data/train/image')))\n",
    "print(idx)\n",
    "\n",
    "y_hat = model.predict(X_train[[idx]])\n",
    "thresh = y_hat.max()/2\n",
    "y_hat[y_hat >= thresh] = 1\n",
    "y_hat[y_hat < thresh] = 0\n",
    "\n",
    "fig, axs = plt.subplots(1, 3, figsize=(12, 16))\n",
    "axs[0].imshow(X_train[idx].reshape(256, 256), cmap='bone')\n",
    "axs[1].imshow(y_train[idx].reshape(256, 256), cmap='bone')\n",
    "axs[2].imshow(y_hat.reshape(256, 256), cmap='bone')\n",
    "\n",
    "plt.show()\n",
    "\n",
    "print(f\"Recall {image_recall(y_train[idx], y_hat[0])}\")\n",
    "print(f\"Precision {image_precision(y_train[idx], y_hat[0])}\")\n",
    "print(f\"Dice coefficient {dice_coef(y_train[idx], y_hat[0])}\")\n",
    "print(f\"Percent included in ROI {percent_included(y_train[idx], y_hat[0])}\")"
   ]
  },
  {
   "cell_type": "markdown",
   "metadata": {},
   "source": [
    "### Test example"
   ]
  },
  {
   "cell_type": "code",
   "execution_count": 12,
   "metadata": {},
   "outputs": [
    {
     "name": "stdout",
     "output_type": "stream",
     "text": [
      "127\n"
     ]
    },
    {
     "data": {
      "image/png": "[encoded data removed]",
      "text/plain": [
       "<Figure size 864x1152 with 3 Axes>"
      ]
     },
     "metadata": {},
     "output_type": "display_data"
    },
    {
     "name": "stdout",
     "output_type": "stream",
     "text": [
      "Recall 0.931034505367279\n",
      "Precision 0.5192307829856873\n",
      "Dice Coefficient 0.6707317073170732\n",
      "Percent included in ROI 1.0\n"
     ]
    }
   ],
   "source": [
    "idx = np.random.randint(len(os.listdir('data/test/image')))\n",
    "print(idx)\n",
    "\n",
    "y_hat = model.predict(X_test[[idx]])\n",
    "thresh = y_hat.max()/2\n",
    "y_hat[y_hat >= thresh] = 1\n",
    "y_hat[y_hat < thresh] = 0\n",
    "\n",
    "fig, axs = plt.subplots(1, 3, figsize=(12, 16))\n",
    "axs[0].imshow(X_test[idx].reshape(256, 256), cmap='bone')\n",
    "axs[1].imshow(y_test[idx].reshape(256, 256), cmap='bone')\n",
    "axs[2].imshow(y_hat.reshape(256, 256), cmap='bone')\n",
    "plt.show()\n",
    "\n",
    "threshold = y_hat[0].max()/2\n",
    "\n",
    "print(f\"Recall {image_recall(y_test[idx], y_hat[0])}\")\n",
    "print(f\"Precision {image_precision(y_test[idx], y_hat[0])}\")\n",
    "print(f\"Dice Coefficient {dice_coef(y_test[idx], y_hat[0])}\")\n",
    "print(f\"Percent included in ROI {percent_included(y_test[idx], y_hat[0])}\")"
   ]
  },
  {
   "cell_type": "markdown",
   "metadata": {},
   "source": [
    "### Train Overall"
   ]
  },
  {
   "cell_type": "code",
   "execution_count": 22,
   "metadata": {},
   "outputs": [
    {
     "name": "stdout",
     "output_type": "stream",
     "text": [
      "5512\n",
      "Training set average recall: 0.34742510318756104\n",
      "Training set average precision: 0.5914859175682068\n",
      "Training set average dice coefficient: 0.38451326685021064\n",
      "Training set average percent included in ROI: 0.4561614607915081\n"
     ]
    }
   ],
   "source": [
    "train_recall = []\n",
    "train_precision = []\n",
    "train_dice = []\n",
    "train_percent_included = []\n",
    "\n",
    "for i in range(len(X_train)):\n",
    "    sys.stdout.write(f'\\r{i}')\n",
    "    y_hat = model.predict(X_train[[i]])\n",
    "    train_recall.append(image_recall(y_train[i], y_hat[0]))\n",
    "    train_precision.append(image_precision(y_train[i], y_hat[0]))\n",
    "    train_dice.append(dice_coef(y_train[i], y_hat[0]))\n",
    "    train_percent_included.append(percent_included(y_train[i], y_hat[0]))\n",
    "\n",
    "train_recall = np.array(train_recall)\n",
    "train_precision = np.array(train_precision)\n",
    "train_precision = train_precision[np.logical_not(np.isnan(train_precision))]\n",
    "train_dice = np.array(train_dice)\n",
    "train_percent_included = np.array(train_percent_included)\n",
    "\n",
    "print()\n",
    "print(np.array(f\"Training set average recall: {train_recall.mean()}\"))\n",
    "print(np.array(f\"Training set average precision: {train_precision.mean()}\"))\n",
    "print(np.array(f\"Training set average dice coefficient: {train_dice.mean()}\"))\n",
    "print(np.array(f\"Training set average percent included in ROI: {train_percent_included.mean()}\"))"
   ]
  },
  {
   "cell_type": "markdown",
   "metadata": {},
   "source": [
    "### Test Overall"
   ]
  },
  {
   "cell_type": "code",
   "execution_count": 23,
   "metadata": {
    "scrolled": true
   },
   "outputs": [
    {
     "name": "stdout",
     "output_type": "stream",
     "text": [
      "137\n",
      "Test set recall: 0.45417729020118713\n",
      "Test set precision: 0.7192412614822388\n",
      "Test set dice coefficient: 0.4786715652972698\n",
      "Test set average percent included in ROI: 0.6041036160841149\n"
     ]
    }
   ],
   "source": [
    "test_recall = []\n",
    "test_precision = []\n",
    "test_dice = []\n",
    "test_percent_included = []\n",
    "\n",
    "for i in range(len(X_test)):\n",
    "    sys.stdout.write(f'\\r{i}')\n",
    "    y_hat = model.predict(X_test[[i]])\n",
    "    test_recall.append(image_recall(y_test[i], y_hat[0]))\n",
    "    test_precision.append(image_precision(y_test[i], y_hat[0]))\n",
    "    test_dice.append(dice_coef(y_test[i], y_hat[0]))\n",
    "    test_percent_included.append(percent_included(y_test[i], y_hat[0]))\n",
    "\n",
    "        \n",
    "test_recall = np.array(test_recall)\n",
    "test_precision = np.array(test_precision)\n",
    "test_precision = test_precision[np.logical_not(np.isnan(test_precision))]\n",
    "test_dice = np.array(test_dice)\n",
    "test_percent_included = np.array(test_percent_included)\n",
    "\n",
    "print()\n",
    "print(np.array(f\"Test set recall: {test_recall.mean()}\"))\n",
    "print(np.array(f\"Test set precision: {test_precision.mean()}\"))\n",
    "print(np.array(f\"Test set dice coefficient: {test_dice.mean()}\"))\n",
    "print(np.array(f\"Test set average percent included in ROI: {test_percent_included.mean()}\"))"
   ]
  },
  {
   "cell_type": "code",
   "execution_count": null,
   "metadata": {},
   "outputs": [],
   "source": []
  }
 ],
 "metadata": {
  "kernelspec": {
   "display_name": "Python 3",
   "language": "python",
   "name": "python3"
  },
  "language_info": {
   "codemirror_mode": {
    "name": "ipython",
    "version": 3
   },
   "file_extension": ".py",
   "mimetype": "text/x-python",
   "name": "python",
   "nbconvert_exporter": "python",
   "pygments_lexer": "ipython3",
   "version": "3.6.5"
  }
 },
 "nbformat": 4,
 "nbformat_minor": 2
}
