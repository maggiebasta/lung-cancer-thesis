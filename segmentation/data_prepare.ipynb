{
 "cells": [
  {
   "cell_type": "code",
   "execution_count": 1,
   "metadata": {},
   "outputs": [],
   "source": [
    "import os\n",
    "\n",
    "import numpy as np\n",
    "import matplotlib.pyplot as plt\n",
    "from PIL import Image\n",
    "\n",
    "from data_prepare import download_from_s3, prepare"
   ]
  },
  {
   "cell_type": "markdown",
   "metadata": {},
   "source": [
    "# Download raw LIDC_IDRI dataset from S3"
   ]
  },
  {
   "cell_type": "code",
   "execution_count": null,
   "metadata": {},
   "outputs": [],
   "source": [
    "id_nums = ['0'*(4-len(n))+n for n in [str(i) for i in range(1, 1013)]]\n",
    "ids = [f\"LIDC-IDRI/LIDC-IDRI-{id_num}\" for id_num in id_nums]\n",
    "num_patients = 5\n",
    "for pid in ids[:num_patients]:\n",
    "    download_from_s3(pid)"
   ]
  },
  {
   "cell_type": "markdown",
   "metadata": {},
   "source": [
    "# Prepare data for U-net"
   ]
  },
  {
   "cell_type": "code",
   "execution_count": null,
   "metadata": {},
   "outputs": [],
   "source": [
    "prepare('data/raw/LIDC-IDRI/', 'data/initial/')"
   ]
  },
  {
   "cell_type": "markdown",
   "metadata": {},
   "source": [
    "# Inspect prepared data"
   ]
  },
  {
   "cell_type": "markdown",
   "metadata": {},
   "source": [
    "### Training data"
   ]
  },
  {
   "cell_type": "code",
   "execution_count": null,
   "metadata": {},
   "outputs": [],
   "source": [
    "train_idx = np.random.randint(len(os.listdir('data/initial/train/image')))\n",
    "\n",
    "train_img = Image.open(f'data/initial/train/image/{train_idx}.tif') \n",
    "train_mask = Image.open(f'data/initial/train/label/{train_idx}.tif') \n",
    "\n",
    "print(train_idx)\n",
    "\n",
    "fig, axs = plt.subplots(1, 2, figsize=(10, 4))\n",
    "axs[0].imshow(np.array(train_img), cmap='bone')\n",
    "axs[1].imshow(np.array(train_mask), cmap='bone')\n",
    "plt.show()"
   ]
  },
  {
   "cell_type": "markdown",
   "metadata": {},
   "source": [
    "### Test data"
   ]
  },
  {
   "cell_type": "code",
   "execution_count": null,
   "metadata": {},
   "outputs": [],
   "source": [
    "test_idx = np.random.randint(len(os.listdir('data/initial/test/image')))\n",
    "\n",
    "test_img = Image.open(f'data/initial/test/image/{test_idx}.tif') \n",
    "test_mask = Image.open(f'data/initial/test/label/{test_idx}.tif') \n",
    "\n",
    "print(test_idx)\n",
    "\n",
    "fig, axs = plt.subplots(1, 2, figsize=(10, 4))\n",
    "axs[0].imshow(np.array(test_img), cmap='bone')\n",
    "axs[1].imshow(np.array(test_mask), cmap='bone')\n",
    "plt.show()"
   ]
  },
  {
   "cell_type": "code",
   "execution_count": null,
   "metadata": {},
   "outputs": [],
   "source": []
  }
 ],
 "metadata": {
  "kernelspec": {
   "display_name": "Python 3",
   "language": "python",
   "name": "python3"
  },
  "language_info": {
   "codemirror_mode": {
    "name": "ipython",
    "version": 3
   },
   "file_extension": ".py",
   "mimetype": "text/x-python",
   "name": "python",
   "nbconvert_exporter": "python",
   "pygments_lexer": "ipython3",
   "version": "3.6.9"
  }
 },
 "nbformat": 4,
 "nbformat_minor": 2
}
